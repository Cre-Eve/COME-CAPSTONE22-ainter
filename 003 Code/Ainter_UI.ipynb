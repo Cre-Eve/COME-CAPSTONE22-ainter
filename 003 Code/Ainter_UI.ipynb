{
  "nbformat": 4,
  "nbformat_minor": 0,
  "metadata": {
    "colab": {
      "provenance": []
    },
    "kernelspec": {
      "name": "python3",
      "display_name": "Python 3"
    },
    "language_info": {
      "name": "python"
    },
    "accelerator": "GPU",
    "gpuClass": "standard",
    "widgets": {
      "application/vnd.jupyter.widget-state+json": {
        "9c1376bee5fd4b59bb6a6dd450d5f7cc": {
          "model_module": "@jupyter-widgets/controls",
          "model_name": "HBoxModel",
          "model_module_version": "1.5.0",
          "state": {
            "_dom_classes": [],
            "_model_module": "@jupyter-widgets/controls",
            "_model_module_version": "1.5.0",
            "_model_name": "HBoxModel",
            "_view_count": null,
            "_view_module": "@jupyter-widgets/controls",
            "_view_module_version": "1.5.0",
            "_view_name": "HBoxView",
            "box_style": "",
            "children": [
              "IPY_MODEL_46b0d8ac072344468232a8f192bd7760",
              "IPY_MODEL_7c034994f0924799ae0c201f4d579524",
              "IPY_MODEL_4350c7bf566b4af2bb47a56e69aa922b"
            ],
            "layout": "IPY_MODEL_6a98ed75d58d40f0b05ca21c85da52c4"
          }
        },
        "46b0d8ac072344468232a8f192bd7760": {
          "model_module": "@jupyter-widgets/controls",
          "model_name": "HTMLModel",
          "model_module_version": "1.5.0",
          "state": {
            "_dom_classes": [],
            "_model_module": "@jupyter-widgets/controls",
            "_model_module_version": "1.5.0",
            "_model_name": "HTMLModel",
            "_view_count": null,
            "_view_module": "@jupyter-widgets/controls",
            "_view_module_version": "1.5.0",
            "_view_name": "HTMLView",
            "description": "",
            "description_tooltip": null,
            "layout": "IPY_MODEL_d88ed9047b7640979dc17fb07a509a66",
            "placeholder": "​",
            "style": "IPY_MODEL_377fd2a5428545bdaa19c34f82291804",
            "value": "100%"
          }
        },
        "7c034994f0924799ae0c201f4d579524": {
          "model_module": "@jupyter-widgets/controls",
          "model_name": "FloatProgressModel",
          "model_module_version": "1.5.0",
          "state": {
            "_dom_classes": [],
            "_model_module": "@jupyter-widgets/controls",
            "_model_module_version": "1.5.0",
            "_model_name": "FloatProgressModel",
            "_view_count": null,
            "_view_module": "@jupyter-widgets/controls",
            "_view_module_version": "1.5.0",
            "_view_name": "ProgressView",
            "bar_style": "success",
            "description": "",
            "description_tooltip": null,
            "layout": "IPY_MODEL_59efc3023eb241a3aa3265f370546021",
            "max": 345831113,
            "min": 0,
            "orientation": "horizontal",
            "style": "IPY_MODEL_846b55406708499aa28d5697b46a091b",
            "value": 345831113
          }
        },
        "4350c7bf566b4af2bb47a56e69aa922b": {
          "model_module": "@jupyter-widgets/controls",
          "model_name": "HTMLModel",
          "model_module_version": "1.5.0",
          "state": {
            "_dom_classes": [],
            "_model_module": "@jupyter-widgets/controls",
            "_model_module_version": "1.5.0",
            "_model_name": "HTMLModel",
            "_view_count": null,
            "_view_module": "@jupyter-widgets/controls",
            "_view_module_version": "1.5.0",
            "_view_name": "HTMLView",
            "description": "",
            "description_tooltip": null,
            "layout": "IPY_MODEL_6518720266cc408d977e3f248840676e",
            "placeholder": "​",
            "style": "IPY_MODEL_71073075536246ab8306802f5896eab1",
            "value": " 346M/346M [00:12&lt;00:00, 31.1MiB/s]"
          }
        },
        "6a98ed75d58d40f0b05ca21c85da52c4": {
          "model_module": "@jupyter-widgets/base",
          "model_name": "LayoutModel",
          "model_module_version": "1.2.0",
          "state": {
            "_model_module": "@jupyter-widgets/base",
            "_model_module_version": "1.2.0",
            "_model_name": "LayoutModel",
            "_view_count": null,
            "_view_module": "@jupyter-widgets/base",
            "_view_module_version": "1.2.0",
            "_view_name": "LayoutView",
            "align_content": null,
            "align_items": null,
            "align_self": null,
            "border": null,
            "bottom": null,
            "display": null,
            "flex": null,
            "flex_flow": null,
            "grid_area": null,
            "grid_auto_columns": null,
            "grid_auto_flow": null,
            "grid_auto_rows": null,
            "grid_column": null,
            "grid_gap": null,
            "grid_row": null,
            "grid_template_areas": null,
            "grid_template_columns": null,
            "grid_template_rows": null,
            "height": null,
            "justify_content": null,
            "justify_items": null,
            "left": null,
            "margin": null,
            "max_height": null,
            "max_width": null,
            "min_height": null,
            "min_width": null,
            "object_fit": null,
            "object_position": null,
            "order": null,
            "overflow": null,
            "overflow_x": null,
            "overflow_y": null,
            "padding": null,
            "right": null,
            "top": null,
            "visibility": null,
            "width": null
          }
        },
        "d88ed9047b7640979dc17fb07a509a66": {
          "model_module": "@jupyter-widgets/base",
          "model_name": "LayoutModel",
          "model_module_version": "1.2.0",
          "state": {
            "_model_module": "@jupyter-widgets/base",
            "_model_module_version": "1.2.0",
            "_model_name": "LayoutModel",
            "_view_count": null,
            "_view_module": "@jupyter-widgets/base",
            "_view_module_version": "1.2.0",
            "_view_name": "LayoutView",
            "align_content": null,
            "align_items": null,
            "align_self": null,
            "border": null,
            "bottom": null,
            "display": null,
            "flex": null,
            "flex_flow": null,
            "grid_area": null,
            "grid_auto_columns": null,
            "grid_auto_flow": null,
            "grid_auto_rows": null,
            "grid_column": null,
            "grid_gap": null,
            "grid_row": null,
            "grid_template_areas": null,
            "grid_template_columns": null,
            "grid_template_rows": null,
            "height": null,
            "justify_content": null,
            "justify_items": null,
            "left": null,
            "margin": null,
            "max_height": null,
            "max_width": null,
            "min_height": null,
            "min_width": null,
            "object_fit": null,
            "object_position": null,
            "order": null,
            "overflow": null,
            "overflow_x": null,
            "overflow_y": null,
            "padding": null,
            "right": null,
            "top": null,
            "visibility": null,
            "width": null
          }
        },
        "377fd2a5428545bdaa19c34f82291804": {
          "model_module": "@jupyter-widgets/controls",
          "model_name": "DescriptionStyleModel",
          "model_module_version": "1.5.0",
          "state": {
            "_model_module": "@jupyter-widgets/controls",
            "_model_module_version": "1.5.0",
            "_model_name": "DescriptionStyleModel",
            "_view_count": null,
            "_view_module": "@jupyter-widgets/base",
            "_view_module_version": "1.2.0",
            "_view_name": "StyleView",
            "description_width": ""
          }
        },
        "59efc3023eb241a3aa3265f370546021": {
          "model_module": "@jupyter-widgets/base",
          "model_name": "LayoutModel",
          "model_module_version": "1.2.0",
          "state": {
            "_model_module": "@jupyter-widgets/base",
            "_model_module_version": "1.2.0",
            "_model_name": "LayoutModel",
            "_view_count": null,
            "_view_module": "@jupyter-widgets/base",
            "_view_module_version": "1.2.0",
            "_view_name": "LayoutView",
            "align_content": null,
            "align_items": null,
            "align_self": null,
            "border": null,
            "bottom": null,
            "display": null,
            "flex": null,
            "flex_flow": null,
            "grid_area": null,
            "grid_auto_columns": null,
            "grid_auto_flow": null,
            "grid_auto_rows": null,
            "grid_column": null,
            "grid_gap": null,
            "grid_row": null,
            "grid_template_areas": null,
            "grid_template_columns": null,
            "grid_template_rows": null,
            "height": null,
            "justify_content": null,
            "justify_items": null,
            "left": null,
            "margin": null,
            "max_height": null,
            "max_width": null,
            "min_height": null,
            "min_width": null,
            "object_fit": null,
            "object_position": null,
            "order": null,
            "overflow": null,
            "overflow_x": null,
            "overflow_y": null,
            "padding": null,
            "right": null,
            "top": null,
            "visibility": null,
            "width": null
          }
        },
        "846b55406708499aa28d5697b46a091b": {
          "model_module": "@jupyter-widgets/controls",
          "model_name": "ProgressStyleModel",
          "model_module_version": "1.5.0",
          "state": {
            "_model_module": "@jupyter-widgets/controls",
            "_model_module_version": "1.5.0",
            "_model_name": "ProgressStyleModel",
            "_view_count": null,
            "_view_module": "@jupyter-widgets/base",
            "_view_module_version": "1.2.0",
            "_view_name": "StyleView",
            "bar_color": null,
            "description_width": ""
          }
        },
        "6518720266cc408d977e3f248840676e": {
          "model_module": "@jupyter-widgets/base",
          "model_name": "LayoutModel",
          "model_module_version": "1.2.0",
          "state": {
            "_model_module": "@jupyter-widgets/base",
            "_model_module_version": "1.2.0",
            "_model_name": "LayoutModel",
            "_view_count": null,
            "_view_module": "@jupyter-widgets/base",
            "_view_module_version": "1.2.0",
            "_view_name": "LayoutView",
            "align_content": null,
            "align_items": null,
            "align_self": null,
            "border": null,
            "bottom": null,
            "display": null,
            "flex": null,
            "flex_flow": null,
            "grid_area": null,
            "grid_auto_columns": null,
            "grid_auto_flow": null,
            "grid_auto_rows": null,
            "grid_column": null,
            "grid_gap": null,
            "grid_row": null,
            "grid_template_areas": null,
            "grid_template_columns": null,
            "grid_template_rows": null,
            "height": null,
            "justify_content": null,
            "justify_items": null,
            "left": null,
            "margin": null,
            "max_height": null,
            "max_width": null,
            "min_height": null,
            "min_width": null,
            "object_fit": null,
            "object_position": null,
            "order": null,
            "overflow": null,
            "overflow_x": null,
            "overflow_y": null,
            "padding": null,
            "right": null,
            "top": null,
            "visibility": null,
            "width": null
          }
        },
        "71073075536246ab8306802f5896eab1": {
          "model_module": "@jupyter-widgets/controls",
          "model_name": "DescriptionStyleModel",
          "model_module_version": "1.5.0",
          "state": {
            "_model_module": "@jupyter-widgets/controls",
            "_model_module_version": "1.5.0",
            "_model_name": "DescriptionStyleModel",
            "_view_count": null,
            "_view_module": "@jupyter-widgets/base",
            "_view_module_version": "1.2.0",
            "_view_name": "StyleView",
            "description_width": ""
          }
        },
        "f06b936733c84e99839fd5f45b6a0a26": {
          "model_module": "@jupyter-widgets/controls",
          "model_name": "HBoxModel",
          "model_module_version": "1.5.0",
          "state": {
            "_dom_classes": [],
            "_model_module": "@jupyter-widgets/controls",
            "_model_module_version": "1.5.0",
            "_model_name": "HBoxModel",
            "_view_count": null,
            "_view_module": "@jupyter-widgets/controls",
            "_view_module_version": "1.5.0",
            "_view_name": "HBoxView",
            "box_style": "",
            "children": [
              "IPY_MODEL_aacbebd5bd824a8ea3073d9012f35808",
              "IPY_MODEL_39b06f77bc784e2bb3db4987e3ae9809",
              "IPY_MODEL_d198142d5ef44218bdd5525f4ec173eb"
            ],
            "layout": "IPY_MODEL_c4e75b629dd04968a4dcf5cc5a68d890"
          }
        },
        "aacbebd5bd824a8ea3073d9012f35808": {
          "model_module": "@jupyter-widgets/controls",
          "model_name": "HTMLModel",
          "model_module_version": "1.5.0",
          "state": {
            "_dom_classes": [],
            "_model_module": "@jupyter-widgets/controls",
            "_model_module_version": "1.5.0",
            "_model_name": "HTMLModel",
            "_view_count": null,
            "_view_module": "@jupyter-widgets/controls",
            "_view_module_version": "1.5.0",
            "_view_name": "HTMLView",
            "description": "",
            "description_tooltip": null,
            "layout": "IPY_MODEL_a02182deb54b43bcbfb4c5394036b66c",
            "placeholder": "​",
            "style": "IPY_MODEL_d64948204d36439e93a4ecf187277b40",
            "value": "100%"
          }
        },
        "39b06f77bc784e2bb3db4987e3ae9809": {
          "model_module": "@jupyter-widgets/controls",
          "model_name": "FloatProgressModel",
          "model_module_version": "1.5.0",
          "state": {
            "_dom_classes": [],
            "_model_module": "@jupyter-widgets/controls",
            "_model_module_version": "1.5.0",
            "_model_name": "FloatProgressModel",
            "_view_count": null,
            "_view_module": "@jupyter-widgets/controls",
            "_view_module_version": "1.5.0",
            "_view_name": "ProgressView",
            "bar_style": "success",
            "description": "",
            "description_tooltip": null,
            "layout": "IPY_MODEL_71edc371fe0f40d2aa15235f71c3a4a9",
            "max": 286773071,
            "min": 0,
            "orientation": "horizontal",
            "style": "IPY_MODEL_43a6afd1ea624187afce8e6fa28dc984",
            "value": 286773071
          }
        },
        "d198142d5ef44218bdd5525f4ec173eb": {
          "model_module": "@jupyter-widgets/controls",
          "model_name": "HTMLModel",
          "model_module_version": "1.5.0",
          "state": {
            "_dom_classes": [],
            "_model_module": "@jupyter-widgets/controls",
            "_model_module_version": "1.5.0",
            "_model_name": "HTMLModel",
            "_view_count": null,
            "_view_module": "@jupyter-widgets/controls",
            "_view_module_version": "1.5.0",
            "_view_name": "HTMLView",
            "description": "",
            "description_tooltip": null,
            "layout": "IPY_MODEL_44b47ab017b940cebb2c852e34cd66bd",
            "placeholder": "​",
            "style": "IPY_MODEL_cc9b81d597564f598460f27bceb1e055",
            "value": " 287M/287M [00:10&lt;00:00, 31.5MiB/s]"
          }
        },
        "c4e75b629dd04968a4dcf5cc5a68d890": {
          "model_module": "@jupyter-widgets/base",
          "model_name": "LayoutModel",
          "model_module_version": "1.2.0",
          "state": {
            "_model_module": "@jupyter-widgets/base",
            "_model_module_version": "1.2.0",
            "_model_name": "LayoutModel",
            "_view_count": null,
            "_view_module": "@jupyter-widgets/base",
            "_view_module_version": "1.2.0",
            "_view_name": "LayoutView",
            "align_content": null,
            "align_items": null,
            "align_self": null,
            "border": null,
            "bottom": null,
            "display": null,
            "flex": null,
            "flex_flow": null,
            "grid_area": null,
            "grid_auto_columns": null,
            "grid_auto_flow": null,
            "grid_auto_rows": null,
            "grid_column": null,
            "grid_gap": null,
            "grid_row": null,
            "grid_template_areas": null,
            "grid_template_columns": null,
            "grid_template_rows": null,
            "height": null,
            "justify_content": null,
            "justify_items": null,
            "left": null,
            "margin": null,
            "max_height": null,
            "max_width": null,
            "min_height": null,
            "min_width": null,
            "object_fit": null,
            "object_position": null,
            "order": null,
            "overflow": null,
            "overflow_x": null,
            "overflow_y": null,
            "padding": null,
            "right": null,
            "top": null,
            "visibility": null,
            "width": null
          }
        },
        "a02182deb54b43bcbfb4c5394036b66c": {
          "model_module": "@jupyter-widgets/base",
          "model_name": "LayoutModel",
          "model_module_version": "1.2.0",
          "state": {
            "_model_module": "@jupyter-widgets/base",
            "_model_module_version": "1.2.0",
            "_model_name": "LayoutModel",
            "_view_count": null,
            "_view_module": "@jupyter-widgets/base",
            "_view_module_version": "1.2.0",
            "_view_name": "LayoutView",
            "align_content": null,
            "align_items": null,
            "align_self": null,
            "border": null,
            "bottom": null,
            "display": null,
            "flex": null,
            "flex_flow": null,
            "grid_area": null,
            "grid_auto_columns": null,
            "grid_auto_flow": null,
            "grid_auto_rows": null,
            "grid_column": null,
            "grid_gap": null,
            "grid_row": null,
            "grid_template_areas": null,
            "grid_template_columns": null,
            "grid_template_rows": null,
            "height": null,
            "justify_content": null,
            "justify_items": null,
            "left": null,
            "margin": null,
            "max_height": null,
            "max_width": null,
            "min_height": null,
            "min_width": null,
            "object_fit": null,
            "object_position": null,
            "order": null,
            "overflow": null,
            "overflow_x": null,
            "overflow_y": null,
            "padding": null,
            "right": null,
            "top": null,
            "visibility": null,
            "width": null
          }
        },
        "d64948204d36439e93a4ecf187277b40": {
          "model_module": "@jupyter-widgets/controls",
          "model_name": "DescriptionStyleModel",
          "model_module_version": "1.5.0",
          "state": {
            "_model_module": "@jupyter-widgets/controls",
            "_model_module_version": "1.5.0",
            "_model_name": "DescriptionStyleModel",
            "_view_count": null,
            "_view_module": "@jupyter-widgets/base",
            "_view_module_version": "1.2.0",
            "_view_name": "StyleView",
            "description_width": ""
          }
        },
        "71edc371fe0f40d2aa15235f71c3a4a9": {
          "model_module": "@jupyter-widgets/base",
          "model_name": "LayoutModel",
          "model_module_version": "1.2.0",
          "state": {
            "_model_module": "@jupyter-widgets/base",
            "_model_module_version": "1.2.0",
            "_model_name": "LayoutModel",
            "_view_count": null,
            "_view_module": "@jupyter-widgets/base",
            "_view_module_version": "1.2.0",
            "_view_name": "LayoutView",
            "align_content": null,
            "align_items": null,
            "align_self": null,
            "border": null,
            "bottom": null,
            "display": null,
            "flex": null,
            "flex_flow": null,
            "grid_area": null,
            "grid_auto_columns": null,
            "grid_auto_flow": null,
            "grid_auto_rows": null,
            "grid_column": null,
            "grid_gap": null,
            "grid_row": null,
            "grid_template_areas": null,
            "grid_template_columns": null,
            "grid_template_rows": null,
            "height": null,
            "justify_content": null,
            "justify_items": null,
            "left": null,
            "margin": null,
            "max_height": null,
            "max_width": null,
            "min_height": null,
            "min_width": null,
            "object_fit": null,
            "object_position": null,
            "order": null,
            "overflow": null,
            "overflow_x": null,
            "overflow_y": null,
            "padding": null,
            "right": null,
            "top": null,
            "visibility": null,
            "width": null
          }
        },
        "43a6afd1ea624187afce8e6fa28dc984": {
          "model_module": "@jupyter-widgets/controls",
          "model_name": "ProgressStyleModel",
          "model_module_version": "1.5.0",
          "state": {
            "_model_module": "@jupyter-widgets/controls",
            "_model_module_version": "1.5.0",
            "_model_name": "ProgressStyleModel",
            "_view_count": null,
            "_view_module": "@jupyter-widgets/base",
            "_view_module_version": "1.2.0",
            "_view_name": "StyleView",
            "bar_color": null,
            "description_width": ""
          }
        },
        "44b47ab017b940cebb2c852e34cd66bd": {
          "model_module": "@jupyter-widgets/base",
          "model_name": "LayoutModel",
          "model_module_version": "1.2.0",
          "state": {
            "_model_module": "@jupyter-widgets/base",
            "_model_module_version": "1.2.0",
            "_model_name": "LayoutModel",
            "_view_count": null,
            "_view_module": "@jupyter-widgets/base",
            "_view_module_version": "1.2.0",
            "_view_name": "LayoutView",
            "align_content": null,
            "align_items": null,
            "align_self": null,
            "border": null,
            "bottom": null,
            "display": null,
            "flex": null,
            "flex_flow": null,
            "grid_area": null,
            "grid_auto_columns": null,
            "grid_auto_flow": null,
            "grid_auto_rows": null,
            "grid_column": null,
            "grid_gap": null,
            "grid_row": null,
            "grid_template_areas": null,
            "grid_template_columns": null,
            "grid_template_rows": null,
            "height": null,
            "justify_content": null,
            "justify_items": null,
            "left": null,
            "margin": null,
            "max_height": null,
            "max_width": null,
            "min_height": null,
            "min_width": null,
            "object_fit": null,
            "object_position": null,
            "order": null,
            "overflow": null,
            "overflow_x": null,
            "overflow_y": null,
            "padding": null,
            "right": null,
            "top": null,
            "visibility": null,
            "width": null
          }
        },
        "cc9b81d597564f598460f27bceb1e055": {
          "model_module": "@jupyter-widgets/controls",
          "model_name": "DescriptionStyleModel",
          "model_module_version": "1.5.0",
          "state": {
            "_model_module": "@jupyter-widgets/controls",
            "_model_module_version": "1.5.0",
            "_model_name": "DescriptionStyleModel",
            "_view_count": null,
            "_view_module": "@jupyter-widgets/base",
            "_view_module_version": "1.2.0",
            "_view_name": "StyleView",
            "description_width": ""
          }
        },
        "60538ae8cd7642949047ccaecf3b1418": {
          "model_module": "@jupyter-widgets/controls",
          "model_name": "HBoxModel",
          "model_module_version": "1.5.0",
          "state": {
            "_dom_classes": [],
            "_model_module": "@jupyter-widgets/controls",
            "_model_module_version": "1.5.0",
            "_model_name": "HBoxModel",
            "_view_count": null,
            "_view_module": "@jupyter-widgets/controls",
            "_view_module_version": "1.5.0",
            "_view_name": "HBoxView",
            "box_style": "",
            "children": [
              "IPY_MODEL_1b1a7db3e5b848e7873fa5319095a6a3",
              "IPY_MODEL_9b7093aa1a7c42e695d5531aea5a9d5a",
              "IPY_MODEL_aaa08cb420f048898eddb2e173f49f51"
            ],
            "layout": "IPY_MODEL_0069677fa28c44c3a96bb1c829e8964d"
          }
        },
        "1b1a7db3e5b848e7873fa5319095a6a3": {
          "model_module": "@jupyter-widgets/controls",
          "model_name": "HTMLModel",
          "model_module_version": "1.5.0",
          "state": {
            "_dom_classes": [],
            "_model_module": "@jupyter-widgets/controls",
            "_model_module_version": "1.5.0",
            "_model_name": "HTMLModel",
            "_view_count": null,
            "_view_module": "@jupyter-widgets/controls",
            "_view_module_version": "1.5.0",
            "_view_name": "HTMLView",
            "description": "",
            "description_tooltip": null,
            "layout": "IPY_MODEL_d56e83a35b95416e90855505ef6d175e",
            "placeholder": "​",
            "style": "IPY_MODEL_696e045766254dc79b92d2284f02a1a6",
            "value": "100%"
          }
        },
        "9b7093aa1a7c42e695d5531aea5a9d5a": {
          "model_module": "@jupyter-widgets/controls",
          "model_name": "FloatProgressModel",
          "model_module_version": "1.5.0",
          "state": {
            "_dom_classes": [],
            "_model_module": "@jupyter-widgets/controls",
            "_model_module_version": "1.5.0",
            "_model_name": "FloatProgressModel",
            "_view_count": null,
            "_view_module": "@jupyter-widgets/controls",
            "_view_module_version": "1.5.0",
            "_view_name": "ProgressView",
            "bar_style": "success",
            "description": "",
            "description_tooltip": null,
            "layout": "IPY_MODEL_760124f6f69e46eeb1ecfe71e1a6a5e5",
            "max": 1540366691,
            "min": 0,
            "orientation": "horizontal",
            "style": "IPY_MODEL_841bb77f4cf44507af9145cd7aff4b31",
            "value": 1540366691
          }
        },
        "aaa08cb420f048898eddb2e173f49f51": {
          "model_module": "@jupyter-widgets/controls",
          "model_name": "HTMLModel",
          "model_module_version": "1.5.0",
          "state": {
            "_dom_classes": [],
            "_model_module": "@jupyter-widgets/controls",
            "_model_module_version": "1.5.0",
            "_model_name": "HTMLModel",
            "_view_count": null,
            "_view_module": "@jupyter-widgets/controls",
            "_view_module_version": "1.5.0",
            "_view_name": "HTMLView",
            "description": "",
            "description_tooltip": null,
            "layout": "IPY_MODEL_5c3c4e621abd4d2ca2e1767b21bb1c94",
            "placeholder": "​",
            "style": "IPY_MODEL_678574b83e6a4e2eb89672c00dccba06",
            "value": " 1.54G/1.54G [00:50&lt;00:00, 26.0MiB/s]"
          }
        },
        "0069677fa28c44c3a96bb1c829e8964d": {
          "model_module": "@jupyter-widgets/base",
          "model_name": "LayoutModel",
          "model_module_version": "1.2.0",
          "state": {
            "_model_module": "@jupyter-widgets/base",
            "_model_module_version": "1.2.0",
            "_model_name": "LayoutModel",
            "_view_count": null,
            "_view_module": "@jupyter-widgets/base",
            "_view_module_version": "1.2.0",
            "_view_name": "LayoutView",
            "align_content": null,
            "align_items": null,
            "align_self": null,
            "border": null,
            "bottom": null,
            "display": null,
            "flex": null,
            "flex_flow": null,
            "grid_area": null,
            "grid_auto_columns": null,
            "grid_auto_flow": null,
            "grid_auto_rows": null,
            "grid_column": null,
            "grid_gap": null,
            "grid_row": null,
            "grid_template_areas": null,
            "grid_template_columns": null,
            "grid_template_rows": null,
            "height": null,
            "justify_content": null,
            "justify_items": null,
            "left": null,
            "margin": null,
            "max_height": null,
            "max_width": null,
            "min_height": null,
            "min_width": null,
            "object_fit": null,
            "object_position": null,
            "order": null,
            "overflow": null,
            "overflow_x": null,
            "overflow_y": null,
            "padding": null,
            "right": null,
            "top": null,
            "visibility": null,
            "width": null
          }
        },
        "d56e83a35b95416e90855505ef6d175e": {
          "model_module": "@jupyter-widgets/base",
          "model_name": "LayoutModel",
          "model_module_version": "1.2.0",
          "state": {
            "_model_module": "@jupyter-widgets/base",
            "_model_module_version": "1.2.0",
            "_model_name": "LayoutModel",
            "_view_count": null,
            "_view_module": "@jupyter-widgets/base",
            "_view_module_version": "1.2.0",
            "_view_name": "LayoutView",
            "align_content": null,
            "align_items": null,
            "align_self": null,
            "border": null,
            "bottom": null,
            "display": null,
            "flex": null,
            "flex_flow": null,
            "grid_area": null,
            "grid_auto_columns": null,
            "grid_auto_flow": null,
            "grid_auto_rows": null,
            "grid_column": null,
            "grid_gap": null,
            "grid_row": null,
            "grid_template_areas": null,
            "grid_template_columns": null,
            "grid_template_rows": null,
            "height": null,
            "justify_content": null,
            "justify_items": null,
            "left": null,
            "margin": null,
            "max_height": null,
            "max_width": null,
            "min_height": null,
            "min_width": null,
            "object_fit": null,
            "object_position": null,
            "order": null,
            "overflow": null,
            "overflow_x": null,
            "overflow_y": null,
            "padding": null,
            "right": null,
            "top": null,
            "visibility": null,
            "width": null
          }
        },
        "696e045766254dc79b92d2284f02a1a6": {
          "model_module": "@jupyter-widgets/controls",
          "model_name": "DescriptionStyleModel",
          "model_module_version": "1.5.0",
          "state": {
            "_model_module": "@jupyter-widgets/controls",
            "_model_module_version": "1.5.0",
            "_model_name": "DescriptionStyleModel",
            "_view_count": null,
            "_view_module": "@jupyter-widgets/base",
            "_view_module_version": "1.2.0",
            "_view_name": "StyleView",
            "description_width": ""
          }
        },
        "760124f6f69e46eeb1ecfe71e1a6a5e5": {
          "model_module": "@jupyter-widgets/base",
          "model_name": "LayoutModel",
          "model_module_version": "1.2.0",
          "state": {
            "_model_module": "@jupyter-widgets/base",
            "_model_module_version": "1.2.0",
            "_model_name": "LayoutModel",
            "_view_count": null,
            "_view_module": "@jupyter-widgets/base",
            "_view_module_version": "1.2.0",
            "_view_name": "LayoutView",
            "align_content": null,
            "align_items": null,
            "align_self": null,
            "border": null,
            "bottom": null,
            "display": null,
            "flex": null,
            "flex_flow": null,
            "grid_area": null,
            "grid_auto_columns": null,
            "grid_auto_flow": null,
            "grid_auto_rows": null,
            "grid_column": null,
            "grid_gap": null,
            "grid_row": null,
            "grid_template_areas": null,
            "grid_template_columns": null,
            "grid_template_rows": null,
            "height": null,
            "justify_content": null,
            "justify_items": null,
            "left": null,
            "margin": null,
            "max_height": null,
            "max_width": null,
            "min_height": null,
            "min_width": null,
            "object_fit": null,
            "object_position": null,
            "order": null,
            "overflow": null,
            "overflow_x": null,
            "overflow_y": null,
            "padding": null,
            "right": null,
            "top": null,
            "visibility": null,
            "width": null
          }
        },
        "841bb77f4cf44507af9145cd7aff4b31": {
          "model_module": "@jupyter-widgets/controls",
          "model_name": "ProgressStyleModel",
          "model_module_version": "1.5.0",
          "state": {
            "_model_module": "@jupyter-widgets/controls",
            "_model_module_version": "1.5.0",
            "_model_name": "ProgressStyleModel",
            "_view_count": null,
            "_view_module": "@jupyter-widgets/base",
            "_view_module_version": "1.2.0",
            "_view_name": "StyleView",
            "bar_color": null,
            "description_width": ""
          }
        },
        "5c3c4e621abd4d2ca2e1767b21bb1c94": {
          "model_module": "@jupyter-widgets/base",
          "model_name": "LayoutModel",
          "model_module_version": "1.2.0",
          "state": {
            "_model_module": "@jupyter-widgets/base",
            "_model_module_version": "1.2.0",
            "_model_name": "LayoutModel",
            "_view_count": null,
            "_view_module": "@jupyter-widgets/base",
            "_view_module_version": "1.2.0",
            "_view_name": "LayoutView",
            "align_content": null,
            "align_items": null,
            "align_self": null,
            "border": null,
            "bottom": null,
            "display": null,
            "flex": null,
            "flex_flow": null,
            "grid_area": null,
            "grid_auto_columns": null,
            "grid_auto_flow": null,
            "grid_auto_rows": null,
            "grid_column": null,
            "grid_gap": null,
            "grid_row": null,
            "grid_template_areas": null,
            "grid_template_columns": null,
            "grid_template_rows": null,
            "height": null,
            "justify_content": null,
            "justify_items": null,
            "left": null,
            "margin": null,
            "max_height": null,
            "max_width": null,
            "min_height": null,
            "min_width": null,
            "object_fit": null,
            "object_position": null,
            "order": null,
            "overflow": null,
            "overflow_x": null,
            "overflow_y": null,
            "padding": null,
            "right": null,
            "top": null,
            "visibility": null,
            "width": null
          }
        },
        "678574b83e6a4e2eb89672c00dccba06": {
          "model_module": "@jupyter-widgets/controls",
          "model_name": "DescriptionStyleModel",
          "model_module_version": "1.5.0",
          "state": {
            "_model_module": "@jupyter-widgets/controls",
            "_model_module_version": "1.5.0",
            "_model_name": "DescriptionStyleModel",
            "_view_count": null,
            "_view_module": "@jupyter-widgets/base",
            "_view_module_version": "1.2.0",
            "_view_name": "StyleView",
            "description_width": ""
          }
        },
        "81a35f1161cb482c9b1b0d5b3dada625": {
          "model_module": "@jupyter-widgets/controls",
          "model_name": "HBoxModel",
          "model_module_version": "1.5.0",
          "state": {
            "_dom_classes": [],
            "_model_module": "@jupyter-widgets/controls",
            "_model_module_version": "1.5.0",
            "_model_name": "HBoxModel",
            "_view_count": null,
            "_view_module": "@jupyter-widgets/controls",
            "_view_module_version": "1.5.0",
            "_view_name": "HBoxView",
            "box_style": "",
            "children": [
              "IPY_MODEL_e9769f793373444f96be8c61285933e0",
              "IPY_MODEL_8c2e1cb8455143ca915547622657143f",
              "IPY_MODEL_e2084b3c48a244d4bfb50784124ed919"
            ],
            "layout": "IPY_MODEL_c2e5a6f977c94c00b5e6e46b7bb3c803"
          }
        },
        "e9769f793373444f96be8c61285933e0": {
          "model_module": "@jupyter-widgets/controls",
          "model_name": "HTMLModel",
          "model_module_version": "1.5.0",
          "state": {
            "_dom_classes": [],
            "_model_module": "@jupyter-widgets/controls",
            "_model_module_version": "1.5.0",
            "_model_name": "HTMLModel",
            "_view_count": null,
            "_view_module": "@jupyter-widgets/controls",
            "_view_module_version": "1.5.0",
            "_view_name": "HTMLView",
            "description": "",
            "description_tooltip": null,
            "layout": "IPY_MODEL_0e12895bcff344908e25c5c21af0590d",
            "placeholder": "​",
            "style": "IPY_MODEL_76744189f33a4067a0a48377dc1fd3d5",
            "value": "100%"
          }
        },
        "8c2e1cb8455143ca915547622657143f": {
          "model_module": "@jupyter-widgets/controls",
          "model_name": "FloatProgressModel",
          "model_module_version": "1.5.0",
          "state": {
            "_dom_classes": [],
            "_model_module": "@jupyter-widgets/controls",
            "_model_module_version": "1.5.0",
            "_model_name": "FloatProgressModel",
            "_view_count": null,
            "_view_module": "@jupyter-widgets/controls",
            "_view_module_version": "1.5.0",
            "_view_name": "ProgressView",
            "bar_style": "success",
            "description": "",
            "description_tooltip": null,
            "layout": "IPY_MODEL_16dce662c2e245d1b657faf1d8d3f1ae",
            "max": 1593693639,
            "min": 0,
            "orientation": "horizontal",
            "style": "IPY_MODEL_7d1a740ade9b4e648116a1bcc3168247",
            "value": 1593693639
          }
        },
        "e2084b3c48a244d4bfb50784124ed919": {
          "model_module": "@jupyter-widgets/controls",
          "model_name": "HTMLModel",
          "model_module_version": "1.5.0",
          "state": {
            "_dom_classes": [],
            "_model_module": "@jupyter-widgets/controls",
            "_model_module_version": "1.5.0",
            "_model_name": "HTMLModel",
            "_view_count": null,
            "_view_module": "@jupyter-widgets/controls",
            "_view_module_version": "1.5.0",
            "_view_name": "HTMLView",
            "description": "",
            "description_tooltip": null,
            "layout": "IPY_MODEL_9a76d6f4ab2448b9b311c11200abc455",
            "placeholder": "​",
            "style": "IPY_MODEL_a9c9e382d66e441d97f7fb8ac30ee9fc",
            "value": " 1.59G/1.59G [01:07&lt;00:00, 22.8MiB/s]"
          }
        },
        "c2e5a6f977c94c00b5e6e46b7bb3c803": {
          "model_module": "@jupyter-widgets/base",
          "model_name": "LayoutModel",
          "model_module_version": "1.2.0",
          "state": {
            "_model_module": "@jupyter-widgets/base",
            "_model_module_version": "1.2.0",
            "_model_name": "LayoutModel",
            "_view_count": null,
            "_view_module": "@jupyter-widgets/base",
            "_view_module_version": "1.2.0",
            "_view_name": "LayoutView",
            "align_content": null,
            "align_items": null,
            "align_self": null,
            "border": null,
            "bottom": null,
            "display": null,
            "flex": null,
            "flex_flow": null,
            "grid_area": null,
            "grid_auto_columns": null,
            "grid_auto_flow": null,
            "grid_auto_rows": null,
            "grid_column": null,
            "grid_gap": null,
            "grid_row": null,
            "grid_template_areas": null,
            "grid_template_columns": null,
            "grid_template_rows": null,
            "height": null,
            "justify_content": null,
            "justify_items": null,
            "left": null,
            "margin": null,
            "max_height": null,
            "max_width": null,
            "min_height": null,
            "min_width": null,
            "object_fit": null,
            "object_position": null,
            "order": null,
            "overflow": null,
            "overflow_x": null,
            "overflow_y": null,
            "padding": null,
            "right": null,
            "top": null,
            "visibility": null,
            "width": null
          }
        },
        "0e12895bcff344908e25c5c21af0590d": {
          "model_module": "@jupyter-widgets/base",
          "model_name": "LayoutModel",
          "model_module_version": "1.2.0",
          "state": {
            "_model_module": "@jupyter-widgets/base",
            "_model_module_version": "1.2.0",
            "_model_name": "LayoutModel",
            "_view_count": null,
            "_view_module": "@jupyter-widgets/base",
            "_view_module_version": "1.2.0",
            "_view_name": "LayoutView",
            "align_content": null,
            "align_items": null,
            "align_self": null,
            "border": null,
            "bottom": null,
            "display": null,
            "flex": null,
            "flex_flow": null,
            "grid_area": null,
            "grid_auto_columns": null,
            "grid_auto_flow": null,
            "grid_auto_rows": null,
            "grid_column": null,
            "grid_gap": null,
            "grid_row": null,
            "grid_template_areas": null,
            "grid_template_columns": null,
            "grid_template_rows": null,
            "height": null,
            "justify_content": null,
            "justify_items": null,
            "left": null,
            "margin": null,
            "max_height": null,
            "max_width": null,
            "min_height": null,
            "min_width": null,
            "object_fit": null,
            "object_position": null,
            "order": null,
            "overflow": null,
            "overflow_x": null,
            "overflow_y": null,
            "padding": null,
            "right": null,
            "top": null,
            "visibility": null,
            "width": null
          }
        },
        "76744189f33a4067a0a48377dc1fd3d5": {
          "model_module": "@jupyter-widgets/controls",
          "model_name": "DescriptionStyleModel",
          "model_module_version": "1.5.0",
          "state": {
            "_model_module": "@jupyter-widgets/controls",
            "_model_module_version": "1.5.0",
            "_model_name": "DescriptionStyleModel",
            "_view_count": null,
            "_view_module": "@jupyter-widgets/base",
            "_view_module_version": "1.2.0",
            "_view_name": "StyleView",
            "description_width": ""
          }
        },
        "16dce662c2e245d1b657faf1d8d3f1ae": {
          "model_module": "@jupyter-widgets/base",
          "model_name": "LayoutModel",
          "model_module_version": "1.2.0",
          "state": {
            "_model_module": "@jupyter-widgets/base",
            "_model_module_version": "1.2.0",
            "_model_name": "LayoutModel",
            "_view_count": null,
            "_view_module": "@jupyter-widgets/base",
            "_view_module_version": "1.2.0",
            "_view_name": "LayoutView",
            "align_content": null,
            "align_items": null,
            "align_self": null,
            "border": null,
            "bottom": null,
            "display": null,
            "flex": null,
            "flex_flow": null,
            "grid_area": null,
            "grid_auto_columns": null,
            "grid_auto_flow": null,
            "grid_auto_rows": null,
            "grid_column": null,
            "grid_gap": null,
            "grid_row": null,
            "grid_template_areas": null,
            "grid_template_columns": null,
            "grid_template_rows": null,
            "height": null,
            "justify_content": null,
            "justify_items": null,
            "left": null,
            "margin": null,
            "max_height": null,
            "max_width": null,
            "min_height": null,
            "min_width": null,
            "object_fit": null,
            "object_position": null,
            "order": null,
            "overflow": null,
            "overflow_x": null,
            "overflow_y": null,
            "padding": null,
            "right": null,
            "top": null,
            "visibility": null,
            "width": null
          }
        },
        "7d1a740ade9b4e648116a1bcc3168247": {
          "model_module": "@jupyter-widgets/controls",
          "model_name": "ProgressStyleModel",
          "model_module_version": "1.5.0",
          "state": {
            "_model_module": "@jupyter-widgets/controls",
            "_model_module_version": "1.5.0",
            "_model_name": "ProgressStyleModel",
            "_view_count": null,
            "_view_module": "@jupyter-widgets/base",
            "_view_module_version": "1.2.0",
            "_view_name": "StyleView",
            "bar_color": null,
            "description_width": ""
          }
        },
        "9a76d6f4ab2448b9b311c11200abc455": {
          "model_module": "@jupyter-widgets/base",
          "model_name": "LayoutModel",
          "model_module_version": "1.2.0",
          "state": {
            "_model_module": "@jupyter-widgets/base",
            "_model_module_version": "1.2.0",
            "_model_name": "LayoutModel",
            "_view_count": null,
            "_view_module": "@jupyter-widgets/base",
            "_view_module_version": "1.2.0",
            "_view_name": "LayoutView",
            "align_content": null,
            "align_items": null,
            "align_self": null,
            "border": null,
            "bottom": null,
            "display": null,
            "flex": null,
            "flex_flow": null,
            "grid_area": null,
            "grid_auto_columns": null,
            "grid_auto_flow": null,
            "grid_auto_rows": null,
            "grid_column": null,
            "grid_gap": null,
            "grid_row": null,
            "grid_template_areas": null,
            "grid_template_columns": null,
            "grid_template_rows": null,
            "height": null,
            "justify_content": null,
            "justify_items": null,
            "left": null,
            "margin": null,
            "max_height": null,
            "max_width": null,
            "min_height": null,
            "min_width": null,
            "object_fit": null,
            "object_position": null,
            "order": null,
            "overflow": null,
            "overflow_x": null,
            "overflow_y": null,
            "padding": null,
            "right": null,
            "top": null,
            "visibility": null,
            "width": null
          }
        },
        "a9c9e382d66e441d97f7fb8ac30ee9fc": {
          "model_module": "@jupyter-widgets/controls",
          "model_name": "DescriptionStyleModel",
          "model_module_version": "1.5.0",
          "state": {
            "_model_module": "@jupyter-widgets/controls",
            "_model_module_version": "1.5.0",
            "_model_name": "DescriptionStyleModel",
            "_view_count": null,
            "_view_module": "@jupyter-widgets/base",
            "_view_module_version": "1.2.0",
            "_view_name": "StyleView",
            "description_width": ""
          }
        },
        "442de0e0f411453da6a3e688e71437ad": {
          "model_module": "@jupyter-widgets/controls",
          "model_name": "HBoxModel",
          "model_module_version": "1.5.0",
          "state": {
            "_dom_classes": [],
            "_model_module": "@jupyter-widgets/controls",
            "_model_module_version": "1.5.0",
            "_model_name": "HBoxModel",
            "_view_count": null,
            "_view_module": "@jupyter-widgets/controls",
            "_view_module_version": "1.5.0",
            "_view_name": "HBoxView",
            "box_style": "",
            "children": [
              "IPY_MODEL_91d0217823ce42c494f735e89dc28afe",
              "IPY_MODEL_84134638d53141aea1b279aa9ad4c957",
              "IPY_MODEL_4aa365d993fe487c8cef8bc8bd9de0a6"
            ],
            "layout": "IPY_MODEL_51233ba574034e4ab4aefe4d0e02af39"
          }
        },
        "91d0217823ce42c494f735e89dc28afe": {
          "model_module": "@jupyter-widgets/controls",
          "model_name": "HTMLModel",
          "model_module_version": "1.5.0",
          "state": {
            "_dom_classes": [],
            "_model_module": "@jupyter-widgets/controls",
            "_model_module_version": "1.5.0",
            "_model_name": "HTMLModel",
            "_view_count": null,
            "_view_module": "@jupyter-widgets/controls",
            "_view_module_version": "1.5.0",
            "_view_name": "HTMLView",
            "description": "",
            "description_tooltip": null,
            "layout": "IPY_MODEL_bb91a790a16d4d1685bbb37876236f2f",
            "placeholder": "​",
            "style": "IPY_MODEL_fa8d830d66a347dfb8f726893e1cfee2",
            "value": "100%"
          }
        },
        "84134638d53141aea1b279aa9ad4c957": {
          "model_module": "@jupyter-widgets/controls",
          "model_name": "FloatProgressModel",
          "model_module_version": "1.5.0",
          "state": {
            "_dom_classes": [],
            "_model_module": "@jupyter-widgets/controls",
            "_model_module_version": "1.5.0",
            "_model_name": "FloatProgressModel",
            "_view_count": null,
            "_view_module": "@jupyter-widgets/controls",
            "_view_module_version": "1.5.0",
            "_view_name": "ProgressView",
            "bar_style": "success",
            "description": "",
            "description_tooltip": null,
            "layout": "IPY_MODEL_dc789e50bc7745788a6e3fc7dc59e30c",
            "max": 574673361,
            "min": 0,
            "orientation": "horizontal",
            "style": "IPY_MODEL_44f8de37400945688017b41a8920fba5",
            "value": 574673361
          }
        },
        "4aa365d993fe487c8cef8bc8bd9de0a6": {
          "model_module": "@jupyter-widgets/controls",
          "model_name": "HTMLModel",
          "model_module_version": "1.5.0",
          "state": {
            "_dom_classes": [],
            "_model_module": "@jupyter-widgets/controls",
            "_model_module_version": "1.5.0",
            "_model_name": "HTMLModel",
            "_view_count": null,
            "_view_module": "@jupyter-widgets/controls",
            "_view_module_version": "1.5.0",
            "_view_name": "HTMLView",
            "description": "",
            "description_tooltip": null,
            "layout": "IPY_MODEL_3926831adad74726acdc1c5009a5f04f",
            "placeholder": "​",
            "style": "IPY_MODEL_c513b868f6594043827dae080d3a2376",
            "value": " 548M/548M [00:06&lt;00:00, 70.2MB/s]"
          }
        },
        "51233ba574034e4ab4aefe4d0e02af39": {
          "model_module": "@jupyter-widgets/base",
          "model_name": "LayoutModel",
          "model_module_version": "1.2.0",
          "state": {
            "_model_module": "@jupyter-widgets/base",
            "_model_module_version": "1.2.0",
            "_model_name": "LayoutModel",
            "_view_count": null,
            "_view_module": "@jupyter-widgets/base",
            "_view_module_version": "1.2.0",
            "_view_name": "LayoutView",
            "align_content": null,
            "align_items": null,
            "align_self": null,
            "border": null,
            "bottom": null,
            "display": null,
            "flex": null,
            "flex_flow": null,
            "grid_area": null,
            "grid_auto_columns": null,
            "grid_auto_flow": null,
            "grid_auto_rows": null,
            "grid_column": null,
            "grid_gap": null,
            "grid_row": null,
            "grid_template_areas": null,
            "grid_template_columns": null,
            "grid_template_rows": null,
            "height": null,
            "justify_content": null,
            "justify_items": null,
            "left": null,
            "margin": null,
            "max_height": null,
            "max_width": null,
            "min_height": null,
            "min_width": null,
            "object_fit": null,
            "object_position": null,
            "order": null,
            "overflow": null,
            "overflow_x": null,
            "overflow_y": null,
            "padding": null,
            "right": null,
            "top": null,
            "visibility": null,
            "width": null
          }
        },
        "bb91a790a16d4d1685bbb37876236f2f": {
          "model_module": "@jupyter-widgets/base",
          "model_name": "LayoutModel",
          "model_module_version": "1.2.0",
          "state": {
            "_model_module": "@jupyter-widgets/base",
            "_model_module_version": "1.2.0",
            "_model_name": "LayoutModel",
            "_view_count": null,
            "_view_module": "@jupyter-widgets/base",
            "_view_module_version": "1.2.0",
            "_view_name": "LayoutView",
            "align_content": null,
            "align_items": null,
            "align_self": null,
            "border": null,
            "bottom": null,
            "display": null,
            "flex": null,
            "flex_flow": null,
            "grid_area": null,
            "grid_auto_columns": null,
            "grid_auto_flow": null,
            "grid_auto_rows": null,
            "grid_column": null,
            "grid_gap": null,
            "grid_row": null,
            "grid_template_areas": null,
            "grid_template_columns": null,
            "grid_template_rows": null,
            "height": null,
            "justify_content": null,
            "justify_items": null,
            "left": null,
            "margin": null,
            "max_height": null,
            "max_width": null,
            "min_height": null,
            "min_width": null,
            "object_fit": null,
            "object_position": null,
            "order": null,
            "overflow": null,
            "overflow_x": null,
            "overflow_y": null,
            "padding": null,
            "right": null,
            "top": null,
            "visibility": null,
            "width": null
          }
        },
        "fa8d830d66a347dfb8f726893e1cfee2": {
          "model_module": "@jupyter-widgets/controls",
          "model_name": "DescriptionStyleModel",
          "model_module_version": "1.5.0",
          "state": {
            "_model_module": "@jupyter-widgets/controls",
            "_model_module_version": "1.5.0",
            "_model_name": "DescriptionStyleModel",
            "_view_count": null,
            "_view_module": "@jupyter-widgets/base",
            "_view_module_version": "1.2.0",
            "_view_name": "StyleView",
            "description_width": ""
          }
        },
        "dc789e50bc7745788a6e3fc7dc59e30c": {
          "model_module": "@jupyter-widgets/base",
          "model_name": "LayoutModel",
          "model_module_version": "1.2.0",
          "state": {
            "_model_module": "@jupyter-widgets/base",
            "_model_module_version": "1.2.0",
            "_model_name": "LayoutModel",
            "_view_count": null,
            "_view_module": "@jupyter-widgets/base",
            "_view_module_version": "1.2.0",
            "_view_name": "LayoutView",
            "align_content": null,
            "align_items": null,
            "align_self": null,
            "border": null,
            "bottom": null,
            "display": null,
            "flex": null,
            "flex_flow": null,
            "grid_area": null,
            "grid_auto_columns": null,
            "grid_auto_flow": null,
            "grid_auto_rows": null,
            "grid_column": null,
            "grid_gap": null,
            "grid_row": null,
            "grid_template_areas": null,
            "grid_template_columns": null,
            "grid_template_rows": null,
            "height": null,
            "justify_content": null,
            "justify_items": null,
            "left": null,
            "margin": null,
            "max_height": null,
            "max_width": null,
            "min_height": null,
            "min_width": null,
            "object_fit": null,
            "object_position": null,
            "order": null,
            "overflow": null,
            "overflow_x": null,
            "overflow_y": null,
            "padding": null,
            "right": null,
            "top": null,
            "visibility": null,
            "width": null
          }
        },
        "44f8de37400945688017b41a8920fba5": {
          "model_module": "@jupyter-widgets/controls",
          "model_name": "ProgressStyleModel",
          "model_module_version": "1.5.0",
          "state": {
            "_model_module": "@jupyter-widgets/controls",
            "_model_module_version": "1.5.0",
            "_model_name": "ProgressStyleModel",
            "_view_count": null,
            "_view_module": "@jupyter-widgets/base",
            "_view_module_version": "1.2.0",
            "_view_name": "StyleView",
            "bar_color": null,
            "description_width": ""
          }
        },
        "3926831adad74726acdc1c5009a5f04f": {
          "model_module": "@jupyter-widgets/base",
          "model_name": "LayoutModel",
          "model_module_version": "1.2.0",
          "state": {
            "_model_module": "@jupyter-widgets/base",
            "_model_module_version": "1.2.0",
            "_model_name": "LayoutModel",
            "_view_count": null,
            "_view_module": "@jupyter-widgets/base",
            "_view_module_version": "1.2.0",
            "_view_name": "LayoutView",
            "align_content": null,
            "align_items": null,
            "align_self": null,
            "border": null,
            "bottom": null,
            "display": null,
            "flex": null,
            "flex_flow": null,
            "grid_area": null,
            "grid_auto_columns": null,
            "grid_auto_flow": null,
            "grid_auto_rows": null,
            "grid_column": null,
            "grid_gap": null,
            "grid_row": null,
            "grid_template_areas": null,
            "grid_template_columns": null,
            "grid_template_rows": null,
            "height": null,
            "justify_content": null,
            "justify_items": null,
            "left": null,
            "margin": null,
            "max_height": null,
            "max_width": null,
            "min_height": null,
            "min_width": null,
            "object_fit": null,
            "object_position": null,
            "order": null,
            "overflow": null,
            "overflow_x": null,
            "overflow_y": null,
            "padding": null,
            "right": null,
            "top": null,
            "visibility": null,
            "width": null
          }
        },
        "c513b868f6594043827dae080d3a2376": {
          "model_module": "@jupyter-widgets/controls",
          "model_name": "DescriptionStyleModel",
          "model_module_version": "1.5.0",
          "state": {
            "_model_module": "@jupyter-widgets/controls",
            "_model_module_version": "1.5.0",
            "_model_name": "DescriptionStyleModel",
            "_view_count": null,
            "_view_module": "@jupyter-widgets/base",
            "_view_module_version": "1.2.0",
            "_view_name": "StyleView",
            "description_width": ""
          }
        },
        "a98a7f24fe9741c8bb7f0a58376c2ae8": {
          "model_module": "@jupyter-widgets/controls",
          "model_name": "HBoxModel",
          "model_module_version": "1.5.0",
          "state": {
            "_dom_classes": [],
            "_model_module": "@jupyter-widgets/controls",
            "_model_module_version": "1.5.0",
            "_model_name": "HBoxModel",
            "_view_count": null,
            "_view_module": "@jupyter-widgets/controls",
            "_view_module_version": "1.5.0",
            "_view_name": "HBoxView",
            "box_style": "",
            "children": [
              "IPY_MODEL_5f5aaf6dfd7f4804a56e526354a4a201",
              "IPY_MODEL_dfce72c9081249d48a87aae7abb0463e",
              "IPY_MODEL_3350c34f05b647c5b90d15f403aa22ba"
            ],
            "layout": "IPY_MODEL_94bd013105ff44829b1f62b3c9a9ab8c"
          }
        },
        "5f5aaf6dfd7f4804a56e526354a4a201": {
          "model_module": "@jupyter-widgets/controls",
          "model_name": "HTMLModel",
          "model_module_version": "1.5.0",
          "state": {
            "_dom_classes": [],
            "_model_module": "@jupyter-widgets/controls",
            "_model_module_version": "1.5.0",
            "_model_name": "HTMLModel",
            "_view_count": null,
            "_view_module": "@jupyter-widgets/controls",
            "_view_module_version": "1.5.0",
            "_view_name": "HTMLView",
            "description": "",
            "description_tooltip": null,
            "layout": "IPY_MODEL_915fc4adf92c40649c6c4ab7df6d0a3a",
            "placeholder": "​",
            "style": "IPY_MODEL_f47876a85f0547529a90e37eb0074918",
            "value": "100%"
          }
        },
        "dfce72c9081249d48a87aae7abb0463e": {
          "model_module": "@jupyter-widgets/controls",
          "model_name": "FloatProgressModel",
          "model_module_version": "1.5.0",
          "state": {
            "_dom_classes": [],
            "_model_module": "@jupyter-widgets/controls",
            "_model_module_version": "1.5.0",
            "_model_name": "FloatProgressModel",
            "_view_count": null,
            "_view_module": "@jupyter-widgets/controls",
            "_view_module_version": "1.5.0",
            "_view_name": "ProgressView",
            "bar_style": "success",
            "description": "",
            "description_tooltip": null,
            "layout": "IPY_MODEL_a2422e4ae6a24edbbf5bdf50820ad8ab",
            "max": 100,
            "min": 0,
            "orientation": "horizontal",
            "style": "IPY_MODEL_07ab91d2bf374950bf0918243ea136be",
            "value": 100
          }
        },
        "3350c34f05b647c5b90d15f403aa22ba": {
          "model_module": "@jupyter-widgets/controls",
          "model_name": "HTMLModel",
          "model_module_version": "1.5.0",
          "state": {
            "_dom_classes": [],
            "_model_module": "@jupyter-widgets/controls",
            "_model_module_version": "1.5.0",
            "_model_name": "HTMLModel",
            "_view_count": null,
            "_view_module": "@jupyter-widgets/controls",
            "_view_module_version": "1.5.0",
            "_view_name": "HTMLView",
            "description": "",
            "description_tooltip": null,
            "layout": "IPY_MODEL_d6f13d13e82140608ff70912e6a4d494",
            "placeholder": "​",
            "style": "IPY_MODEL_9598d09609444f5f9517f360db34db0a",
            "value": " 100/100 [00:11&lt;00:00,  8.83it/s]"
          }
        },
        "94bd013105ff44829b1f62b3c9a9ab8c": {
          "model_module": "@jupyter-widgets/base",
          "model_name": "LayoutModel",
          "model_module_version": "1.2.0",
          "state": {
            "_model_module": "@jupyter-widgets/base",
            "_model_module_version": "1.2.0",
            "_model_name": "LayoutModel",
            "_view_count": null,
            "_view_module": "@jupyter-widgets/base",
            "_view_module_version": "1.2.0",
            "_view_name": "LayoutView",
            "align_content": null,
            "align_items": null,
            "align_self": null,
            "border": null,
            "bottom": null,
            "display": null,
            "flex": null,
            "flex_flow": null,
            "grid_area": null,
            "grid_auto_columns": null,
            "grid_auto_flow": null,
            "grid_auto_rows": null,
            "grid_column": null,
            "grid_gap": null,
            "grid_row": null,
            "grid_template_areas": null,
            "grid_template_columns": null,
            "grid_template_rows": null,
            "height": null,
            "justify_content": null,
            "justify_items": null,
            "left": null,
            "margin": null,
            "max_height": null,
            "max_width": null,
            "min_height": null,
            "min_width": null,
            "object_fit": null,
            "object_position": null,
            "order": null,
            "overflow": null,
            "overflow_x": null,
            "overflow_y": null,
            "padding": null,
            "right": null,
            "top": null,
            "visibility": null,
            "width": null
          }
        },
        "915fc4adf92c40649c6c4ab7df6d0a3a": {
          "model_module": "@jupyter-widgets/base",
          "model_name": "LayoutModel",
          "model_module_version": "1.2.0",
          "state": {
            "_model_module": "@jupyter-widgets/base",
            "_model_module_version": "1.2.0",
            "_model_name": "LayoutModel",
            "_view_count": null,
            "_view_module": "@jupyter-widgets/base",
            "_view_module_version": "1.2.0",
            "_view_name": "LayoutView",
            "align_content": null,
            "align_items": null,
            "align_self": null,
            "border": null,
            "bottom": null,
            "display": null,
            "flex": null,
            "flex_flow": null,
            "grid_area": null,
            "grid_auto_columns": null,
            "grid_auto_flow": null,
            "grid_auto_rows": null,
            "grid_column": null,
            "grid_gap": null,
            "grid_row": null,
            "grid_template_areas": null,
            "grid_template_columns": null,
            "grid_template_rows": null,
            "height": null,
            "justify_content": null,
            "justify_items": null,
            "left": null,
            "margin": null,
            "max_height": null,
            "max_width": null,
            "min_height": null,
            "min_width": null,
            "object_fit": null,
            "object_position": null,
            "order": null,
            "overflow": null,
            "overflow_x": null,
            "overflow_y": null,
            "padding": null,
            "right": null,
            "top": null,
            "visibility": null,
            "width": null
          }
        },
        "f47876a85f0547529a90e37eb0074918": {
          "model_module": "@jupyter-widgets/controls",
          "model_name": "DescriptionStyleModel",
          "model_module_version": "1.5.0",
          "state": {
            "_model_module": "@jupyter-widgets/controls",
            "_model_module_version": "1.5.0",
            "_model_name": "DescriptionStyleModel",
            "_view_count": null,
            "_view_module": "@jupyter-widgets/base",
            "_view_module_version": "1.2.0",
            "_view_name": "StyleView",
            "description_width": ""
          }
        },
        "a2422e4ae6a24edbbf5bdf50820ad8ab": {
          "model_module": "@jupyter-widgets/base",
          "model_name": "LayoutModel",
          "model_module_version": "1.2.0",
          "state": {
            "_model_module": "@jupyter-widgets/base",
            "_model_module_version": "1.2.0",
            "_model_name": "LayoutModel",
            "_view_count": null,
            "_view_module": "@jupyter-widgets/base",
            "_view_module_version": "1.2.0",
            "_view_name": "LayoutView",
            "align_content": null,
            "align_items": null,
            "align_self": null,
            "border": null,
            "bottom": null,
            "display": null,
            "flex": null,
            "flex_flow": null,
            "grid_area": null,
            "grid_auto_columns": null,
            "grid_auto_flow": null,
            "grid_auto_rows": null,
            "grid_column": null,
            "grid_gap": null,
            "grid_row": null,
            "grid_template_areas": null,
            "grid_template_columns": null,
            "grid_template_rows": null,
            "height": null,
            "justify_content": null,
            "justify_items": null,
            "left": null,
            "margin": null,
            "max_height": null,
            "max_width": null,
            "min_height": null,
            "min_width": null,
            "object_fit": null,
            "object_position": null,
            "order": null,
            "overflow": null,
            "overflow_x": null,
            "overflow_y": null,
            "padding": null,
            "right": null,
            "top": null,
            "visibility": null,
            "width": null
          }
        },
        "07ab91d2bf374950bf0918243ea136be": {
          "model_module": "@jupyter-widgets/controls",
          "model_name": "ProgressStyleModel",
          "model_module_version": "1.5.0",
          "state": {
            "_model_module": "@jupyter-widgets/controls",
            "_model_module_version": "1.5.0",
            "_model_name": "ProgressStyleModel",
            "_view_count": null,
            "_view_module": "@jupyter-widgets/base",
            "_view_module_version": "1.2.0",
            "_view_name": "StyleView",
            "bar_color": null,
            "description_width": ""
          }
        },
        "d6f13d13e82140608ff70912e6a4d494": {
          "model_module": "@jupyter-widgets/base",
          "model_name": "LayoutModel",
          "model_module_version": "1.2.0",
          "state": {
            "_model_module": "@jupyter-widgets/base",
            "_model_module_version": "1.2.0",
            "_model_name": "LayoutModel",
            "_view_count": null,
            "_view_module": "@jupyter-widgets/base",
            "_view_module_version": "1.2.0",
            "_view_name": "LayoutView",
            "align_content": null,
            "align_items": null,
            "align_self": null,
            "border": null,
            "bottom": null,
            "display": null,
            "flex": null,
            "flex_flow": null,
            "grid_area": null,
            "grid_auto_columns": null,
            "grid_auto_flow": null,
            "grid_auto_rows": null,
            "grid_column": null,
            "grid_gap": null,
            "grid_row": null,
            "grid_template_areas": null,
            "grid_template_columns": null,
            "grid_template_rows": null,
            "height": null,
            "justify_content": null,
            "justify_items": null,
            "left": null,
            "margin": null,
            "max_height": null,
            "max_width": null,
            "min_height": null,
            "min_width": null,
            "object_fit": null,
            "object_position": null,
            "order": null,
            "overflow": null,
            "overflow_x": null,
            "overflow_y": null,
            "padding": null,
            "right": null,
            "top": null,
            "visibility": null,
            "width": null
          }
        },
        "9598d09609444f5f9517f360db34db0a": {
          "model_module": "@jupyter-widgets/controls",
          "model_name": "DescriptionStyleModel",
          "model_module_version": "1.5.0",
          "state": {
            "_model_module": "@jupyter-widgets/controls",
            "_model_module_version": "1.5.0",
            "_model_name": "DescriptionStyleModel",
            "_view_count": null,
            "_view_module": "@jupyter-widgets/base",
            "_view_module_version": "1.2.0",
            "_view_name": "StyleView",
            "description_width": ""
          }
        },
        "daf30bb62a03469fbbdd69c58cedbc71": {
          "model_module": "@jupyter-widgets/controls",
          "model_name": "HBoxModel",
          "model_module_version": "1.5.0",
          "state": {
            "_dom_classes": [],
            "_model_module": "@jupyter-widgets/controls",
            "_model_module_version": "1.5.0",
            "_model_name": "HBoxModel",
            "_view_count": null,
            "_view_module": "@jupyter-widgets/controls",
            "_view_module_version": "1.5.0",
            "_view_name": "HBoxView",
            "box_style": "",
            "children": [
              "IPY_MODEL_bae0c5c3abf340cf92561b7458fdab29",
              "IPY_MODEL_0cdb6d8fe0024c41af5aedd019e8fe00",
              "IPY_MODEL_6e7199e2b5a74c4bb2699c86b66193c9"
            ],
            "layout": "IPY_MODEL_5fcd83ab294143fda83f14c1456430ee"
          }
        },
        "bae0c5c3abf340cf92561b7458fdab29": {
          "model_module": "@jupyter-widgets/controls",
          "model_name": "HTMLModel",
          "model_module_version": "1.5.0",
          "state": {
            "_dom_classes": [],
            "_model_module": "@jupyter-widgets/controls",
            "_model_module_version": "1.5.0",
            "_model_name": "HTMLModel",
            "_view_count": null,
            "_view_module": "@jupyter-widgets/controls",
            "_view_module_version": "1.5.0",
            "_view_name": "HTMLView",
            "description": "",
            "description_tooltip": null,
            "layout": "IPY_MODEL_5477d5ce4a94407d8d08449c68e1e646",
            "placeholder": "​",
            "style": "IPY_MODEL_f7518573d9b444c08ea15ba16fd76a3e",
            "value": "100%"
          }
        },
        "0cdb6d8fe0024c41af5aedd019e8fe00": {
          "model_module": "@jupyter-widgets/controls",
          "model_name": "FloatProgressModel",
          "model_module_version": "1.5.0",
          "state": {
            "_dom_classes": [],
            "_model_module": "@jupyter-widgets/controls",
            "_model_module_version": "1.5.0",
            "_model_name": "FloatProgressModel",
            "_view_count": null,
            "_view_module": "@jupyter-widgets/controls",
            "_view_module_version": "1.5.0",
            "_view_name": "ProgressView",
            "bar_style": "success",
            "description": "",
            "description_tooltip": null,
            "layout": "IPY_MODEL_969e59785a54441781a90690496d0aa1",
            "max": 27,
            "min": 0,
            "orientation": "horizontal",
            "style": "IPY_MODEL_9263602dfcb0433385cdde2ae27bfe6d",
            "value": 27
          }
        },
        "6e7199e2b5a74c4bb2699c86b66193c9": {
          "model_module": "@jupyter-widgets/controls",
          "model_name": "HTMLModel",
          "model_module_version": "1.5.0",
          "state": {
            "_dom_classes": [],
            "_model_module": "@jupyter-widgets/controls",
            "_model_module_version": "1.5.0",
            "_model_name": "HTMLModel",
            "_view_count": null,
            "_view_module": "@jupyter-widgets/controls",
            "_view_module_version": "1.5.0",
            "_view_name": "HTMLView",
            "description": "",
            "description_tooltip": null,
            "layout": "IPY_MODEL_0f907c13ead54e629107c1841edbbd0f",
            "placeholder": "​",
            "style": "IPY_MODEL_7cace387830648cbab8aa06a0649f52a",
            "value": " 27/27 [00:04&lt;00:00,  6.10it/s]"
          }
        },
        "5fcd83ab294143fda83f14c1456430ee": {
          "model_module": "@jupyter-widgets/base",
          "model_name": "LayoutModel",
          "model_module_version": "1.2.0",
          "state": {
            "_model_module": "@jupyter-widgets/base",
            "_model_module_version": "1.2.0",
            "_model_name": "LayoutModel",
            "_view_count": null,
            "_view_module": "@jupyter-widgets/base",
            "_view_module_version": "1.2.0",
            "_view_name": "LayoutView",
            "align_content": null,
            "align_items": null,
            "align_self": null,
            "border": null,
            "bottom": null,
            "display": null,
            "flex": null,
            "flex_flow": null,
            "grid_area": null,
            "grid_auto_columns": null,
            "grid_auto_flow": null,
            "grid_auto_rows": null,
            "grid_column": null,
            "grid_gap": null,
            "grid_row": null,
            "grid_template_areas": null,
            "grid_template_columns": null,
            "grid_template_rows": null,
            "height": null,
            "justify_content": null,
            "justify_items": null,
            "left": null,
            "margin": null,
            "max_height": null,
            "max_width": null,
            "min_height": null,
            "min_width": null,
            "object_fit": null,
            "object_position": null,
            "order": null,
            "overflow": null,
            "overflow_x": null,
            "overflow_y": null,
            "padding": null,
            "right": null,
            "top": null,
            "visibility": null,
            "width": null
          }
        },
        "5477d5ce4a94407d8d08449c68e1e646": {
          "model_module": "@jupyter-widgets/base",
          "model_name": "LayoutModel",
          "model_module_version": "1.2.0",
          "state": {
            "_model_module": "@jupyter-widgets/base",
            "_model_module_version": "1.2.0",
            "_model_name": "LayoutModel",
            "_view_count": null,
            "_view_module": "@jupyter-widgets/base",
            "_view_module_version": "1.2.0",
            "_view_name": "LayoutView",
            "align_content": null,
            "align_items": null,
            "align_self": null,
            "border": null,
            "bottom": null,
            "display": null,
            "flex": null,
            "flex_flow": null,
            "grid_area": null,
            "grid_auto_columns": null,
            "grid_auto_flow": null,
            "grid_auto_rows": null,
            "grid_column": null,
            "grid_gap": null,
            "grid_row": null,
            "grid_template_areas": null,
            "grid_template_columns": null,
            "grid_template_rows": null,
            "height": null,
            "justify_content": null,
            "justify_items": null,
            "left": null,
            "margin": null,
            "max_height": null,
            "max_width": null,
            "min_height": null,
            "min_width": null,
            "object_fit": null,
            "object_position": null,
            "order": null,
            "overflow": null,
            "overflow_x": null,
            "overflow_y": null,
            "padding": null,
            "right": null,
            "top": null,
            "visibility": null,
            "width": null
          }
        },
        "f7518573d9b444c08ea15ba16fd76a3e": {
          "model_module": "@jupyter-widgets/controls",
          "model_name": "DescriptionStyleModel",
          "model_module_version": "1.5.0",
          "state": {
            "_model_module": "@jupyter-widgets/controls",
            "_model_module_version": "1.5.0",
            "_model_name": "DescriptionStyleModel",
            "_view_count": null,
            "_view_module": "@jupyter-widgets/base",
            "_view_module_version": "1.2.0",
            "_view_name": "StyleView",
            "description_width": ""
          }
        },
        "969e59785a54441781a90690496d0aa1": {
          "model_module": "@jupyter-widgets/base",
          "model_name": "LayoutModel",
          "model_module_version": "1.2.0",
          "state": {
            "_model_module": "@jupyter-widgets/base",
            "_model_module_version": "1.2.0",
            "_model_name": "LayoutModel",
            "_view_count": null,
            "_view_module": "@jupyter-widgets/base",
            "_view_module_version": "1.2.0",
            "_view_name": "LayoutView",
            "align_content": null,
            "align_items": null,
            "align_self": null,
            "border": null,
            "bottom": null,
            "display": null,
            "flex": null,
            "flex_flow": null,
            "grid_area": null,
            "grid_auto_columns": null,
            "grid_auto_flow": null,
            "grid_auto_rows": null,
            "grid_column": null,
            "grid_gap": null,
            "grid_row": null,
            "grid_template_areas": null,
            "grid_template_columns": null,
            "grid_template_rows": null,
            "height": null,
            "justify_content": null,
            "justify_items": null,
            "left": null,
            "margin": null,
            "max_height": null,
            "max_width": null,
            "min_height": null,
            "min_width": null,
            "object_fit": null,
            "object_position": null,
            "order": null,
            "overflow": null,
            "overflow_x": null,
            "overflow_y": null,
            "padding": null,
            "right": null,
            "top": null,
            "visibility": null,
            "width": null
          }
        },
        "9263602dfcb0433385cdde2ae27bfe6d": {
          "model_module": "@jupyter-widgets/controls",
          "model_name": "ProgressStyleModel",
          "model_module_version": "1.5.0",
          "state": {
            "_model_module": "@jupyter-widgets/controls",
            "_model_module_version": "1.5.0",
            "_model_name": "ProgressStyleModel",
            "_view_count": null,
            "_view_module": "@jupyter-widgets/base",
            "_view_module_version": "1.2.0",
            "_view_name": "StyleView",
            "bar_color": null,
            "description_width": ""
          }
        },
        "0f907c13ead54e629107c1841edbbd0f": {
          "model_module": "@jupyter-widgets/base",
          "model_name": "LayoutModel",
          "model_module_version": "1.2.0",
          "state": {
            "_model_module": "@jupyter-widgets/base",
            "_model_module_version": "1.2.0",
            "_model_name": "LayoutModel",
            "_view_count": null,
            "_view_module": "@jupyter-widgets/base",
            "_view_module_version": "1.2.0",
            "_view_name": "LayoutView",
            "align_content": null,
            "align_items": null,
            "align_self": null,
            "border": null,
            "bottom": null,
            "display": null,
            "flex": null,
            "flex_flow": null,
            "grid_area": null,
            "grid_auto_columns": null,
            "grid_auto_flow": null,
            "grid_auto_rows": null,
            "grid_column": null,
            "grid_gap": null,
            "grid_row": null,
            "grid_template_areas": null,
            "grid_template_columns": null,
            "grid_template_rows": null,
            "height": null,
            "justify_content": null,
            "justify_items": null,
            "left": null,
            "margin": null,
            "max_height": null,
            "max_width": null,
            "min_height": null,
            "min_width": null,
            "object_fit": null,
            "object_position": null,
            "order": null,
            "overflow": null,
            "overflow_x": null,
            "overflow_y": null,
            "padding": null,
            "right": null,
            "top": null,
            "visibility": null,
            "width": null
          }
        },
        "7cace387830648cbab8aa06a0649f52a": {
          "model_module": "@jupyter-widgets/controls",
          "model_name": "DescriptionStyleModel",
          "model_module_version": "1.5.0",
          "state": {
            "_model_module": "@jupyter-widgets/controls",
            "_model_module_version": "1.5.0",
            "_model_name": "DescriptionStyleModel",
            "_view_count": null,
            "_view_module": "@jupyter-widgets/base",
            "_view_module_version": "1.2.0",
            "_view_name": "StyleView",
            "description_width": ""
          }
        }
      }
    }
  },
  "cells": [
    {
      "cell_type": "markdown",
      "source": [
        "*구글 로그인 후에 사용해주세요\n",
        "\n",
        "** 차례대로 실행해주세요\n",
        "\n",
        "구글 드라이브에 연결"
      ],
      "metadata": {
        "id": "Am8vtxElPZDI"
      }
    },
    {
      "cell_type": "code",
      "source": [
        "from google.colab import drive\n",
        "drive.mount('/content/drive')"
      ],
      "metadata": {
        "colab": {
          "base_uri": "https://localhost:8080/"
        },
        "id": "G5R8iZGbRv_Z",
        "outputId": "a24f3c71-f474-4c41-9280-8dd024eaa9a4"
      },
      "execution_count": null,
      "outputs": [
        {
          "output_type": "stream",
          "name": "stdout",
          "text": [
            "Mounted at /content/drive\n"
          ]
        }
      ]
    },
    {
      "cell_type": "markdown",
      "source": [
        "Papago 번역 API 불러오기"
      ],
      "metadata": {
        "id": "ouiOd38dFz86"
      }
    },
    {
      "cell_type": "code",
      "source": [
        "import requests\n",
        "\n",
        "def get_translate(text):\n",
        "    client_id = \"SlcWFr2WZ5yubEW6dOjz\" # <-- client_id 기입\n",
        "    client_secret = \"2bFzhkcnRk\" # <-- client_secret 기입\n",
        "\n",
        "    data = {'text' : text,\n",
        "            'source' : 'ko',\n",
        "            'target': 'en'}\n",
        "\n",
        "    url = \"https://openapi.naver.com/v1/papago/n2mt\"\n",
        "\n",
        "    header = {\"X-Naver-Client-Id\":client_id,\n",
        "              \"X-Naver-Client-Secret\":client_secret}\n",
        "\n",
        "    response = requests.post(url, headers=header, data=data)\n",
        "    rescode = response.status_code\n",
        "\n",
        "    if(rescode==200):\n",
        "        send_data = response.json()\n",
        "        trans_data = (send_data['message']['result']['translatedText'])\n",
        "        return trans_data\n",
        "    else:\n",
        "        print(\"Error Code:\" , rescode)"
      ],
      "metadata": {
        "id": "1ov64kiN_ebO"
      },
      "execution_count": null,
      "outputs": []
    },
    {
      "cell_type": "markdown",
      "source": [
        "GLIDE 생성자 불러오기"
      ],
      "metadata": {
        "id": "K8bmTwJ3N0of"
      }
    },
    {
      "cell_type": "code",
      "source": [
        "#install the package\n",
        "!pip install git+https://github.com/openai/glide-text2im"
      ],
      "metadata": {
        "colab": {
          "base_uri": "https://localhost:8080/"
        },
        "id": "O-uEqIn4Nz44",
        "outputId": "803dafe2-f085-42f3-88d8-ee763963022b"
      },
      "execution_count": null,
      "outputs": [
        {
          "output_type": "stream",
          "name": "stdout",
          "text": [
            "Looking in indexes: https://pypi.org/simple, https://us-python.pkg.dev/colab-wheels/public/simple/\n",
            "Collecting git+https://github.com/openai/glide-text2im\n",
            "  Cloning https://github.com/openai/glide-text2im to /tmp/pip-req-build-lcr4a6cf\n",
            "  Running command git clone -q https://github.com/openai/glide-text2im /tmp/pip-req-build-lcr4a6cf\n",
            "Requirement already satisfied: Pillow in /usr/local/lib/python3.8/dist-packages (from glide-text2im==0.0.0) (7.1.2)\n",
            "Requirement already satisfied: attrs in /usr/local/lib/python3.8/dist-packages (from glide-text2im==0.0.0) (22.1.0)\n",
            "Requirement already satisfied: torch in /usr/local/lib/python3.8/dist-packages (from glide-text2im==0.0.0) (1.12.1+cu113)\n",
            "Requirement already satisfied: filelock in /usr/local/lib/python3.8/dist-packages (from glide-text2im==0.0.0) (3.8.0)\n",
            "Requirement already satisfied: requests in /usr/local/lib/python3.8/dist-packages (from glide-text2im==0.0.0) (2.23.0)\n",
            "Requirement already satisfied: tqdm in /usr/local/lib/python3.8/dist-packages (from glide-text2im==0.0.0) (4.64.1)\n",
            "Collecting ftfy\n",
            "  Downloading ftfy-6.1.1-py3-none-any.whl (53 kB)\n",
            "\u001b[K     |████████████████████████████████| 53 kB 1.8 MB/s \n",
            "\u001b[?25hRequirement already satisfied: regex in /usr/local/lib/python3.8/dist-packages (from glide-text2im==0.0.0) (2022.6.2)\n",
            "Requirement already satisfied: numpy in /usr/local/lib/python3.8/dist-packages (from glide-text2im==0.0.0) (1.21.6)\n",
            "Requirement already satisfied: wcwidth>=0.2.5 in /usr/local/lib/python3.8/dist-packages (from ftfy->glide-text2im==0.0.0) (0.2.5)\n",
            "Requirement already satisfied: chardet<4,>=3.0.2 in /usr/local/lib/python3.8/dist-packages (from requests->glide-text2im==0.0.0) (3.0.4)\n",
            "Requirement already satisfied: urllib3!=1.25.0,!=1.25.1,<1.26,>=1.21.1 in /usr/local/lib/python3.8/dist-packages (from requests->glide-text2im==0.0.0) (1.24.3)\n",
            "Requirement already satisfied: certifi>=2017.4.17 in /usr/local/lib/python3.8/dist-packages (from requests->glide-text2im==0.0.0) (2022.9.24)\n",
            "Requirement already satisfied: idna<3,>=2.5 in /usr/local/lib/python3.8/dist-packages (from requests->glide-text2im==0.0.0) (2.10)\n",
            "Requirement already satisfied: typing-extensions in /usr/local/lib/python3.8/dist-packages (from torch->glide-text2im==0.0.0) (4.1.1)\n",
            "Building wheels for collected packages: glide-text2im\n",
            "  Building wheel for glide-text2im (setup.py) ... \u001b[?25l\u001b[?25hdone\n",
            "  Created wheel for glide-text2im: filename=glide_text2im-0.0.0-py3-none-any.whl size=1953661 sha256=27f80e6a67adf03b4f2d4968545e3c276415178d76b440b8ed0926b3ceda9e89\n",
            "  Stored in directory: /tmp/pip-ephem-wheel-cache-vv76ipp6/wheels/5c/d0/35/5737920d51cf7404c477d2de30909e3cc5e7e1236f5026cc05\n",
            "Successfully built glide-text2im\n",
            "Installing collected packages: ftfy, glide-text2im\n",
            "Successfully installed ftfy-6.1.1 glide-text2im-0.0.0\n"
          ]
        }
      ]
    },
    {
      "cell_type": "markdown",
      "source": [
        "기타 라이브러리 불러오기"
      ],
      "metadata": {
        "id": "5ivLS3Q8QPp_"
      }
    },
    {
      "cell_type": "code",
      "source": [
        "from __future__ import print_function\n",
        "\n",
        "from PIL import Image\n",
        "from IPython.display import display\n",
        "import os\n",
        "import torch\n",
        "import torch as th\n",
        "import torch.nn as nn\n",
        "import torch.nn.functional as F\n",
        "import torch.optim as optim\n",
        "import cv2\n",
        "\n",
        "from PIL import Image\n",
        "import matplotlib.pyplot as plt\n",
        "\n",
        "import torchvision.transforms as transforms\n",
        "import torchvision.models as models\n",
        "\n",
        "import copy\n",
        "\n",
        "from glide_text2im.clip.model_creation import create_clip_model\n",
        "from glide_text2im.download import load_checkpoint\n",
        "from glide_text2im.model_creation import (\n",
        "    create_model_and_diffusion,\n",
        "    model_and_diffusion_defaults,\n",
        "    model_and_diffusion_defaults_upsampler,\n",
        ")\n",
        "from glide_text2im.tokenizer.simple_tokenizer import SimpleTokenizer"
      ],
      "metadata": {
        "id": "cMA0HJkZN9XP"
      },
      "execution_count": null,
      "outputs": []
    },
    {
      "cell_type": "markdown",
      "source": [
        "GPU 사용 여부 확인"
      ],
      "metadata": {
        "id": "kZzT6_hYN_M2"
      }
    },
    {
      "cell_type": "code",
      "source": [
        "has_cuda = th.cuda.is_available()\n",
        "device = th.device('cpu' if not has_cuda else 'cuda')\n",
        "print(device)"
      ],
      "metadata": {
        "colab": {
          "base_uri": "https://localhost:8080/"
        },
        "id": "MOErk7jBOBJm",
        "outputId": "135725c5-1905-4c6b-a834-e329811cf946"
      },
      "execution_count": null,
      "outputs": [
        {
          "output_type": "stream",
          "name": "stdout",
          "text": [
            "cuda\n"
          ]
        }
      ]
    },
    {
      "cell_type": "markdown",
      "source": [
        "CLIP 데이터 셋 불러오기"
      ],
      "metadata": {
        "id": "JhEG8P_cQRqL"
      }
    },
    {
      "cell_type": "code",
      "source": [
        "clip_model = create_clip_model(device=device)\n",
        "clip_model.image_encoder.load_state_dict(load_checkpoint('clip/image-enc', device))\n",
        "clip_model.text_encoder.load_state_dict(load_checkpoint('clip/text-enc', device))"
      ],
      "metadata": {
        "colab": {
          "base_uri": "https://localhost:8080/",
          "height": 99,
          "referenced_widgets": [
            "9c1376bee5fd4b59bb6a6dd450d5f7cc",
            "46b0d8ac072344468232a8f192bd7760",
            "7c034994f0924799ae0c201f4d579524",
            "4350c7bf566b4af2bb47a56e69aa922b",
            "6a98ed75d58d40f0b05ca21c85da52c4",
            "d88ed9047b7640979dc17fb07a509a66",
            "377fd2a5428545bdaa19c34f82291804",
            "59efc3023eb241a3aa3265f370546021",
            "846b55406708499aa28d5697b46a091b",
            "6518720266cc408d977e3f248840676e",
            "71073075536246ab8306802f5896eab1",
            "f06b936733c84e99839fd5f45b6a0a26",
            "aacbebd5bd824a8ea3073d9012f35808",
            "39b06f77bc784e2bb3db4987e3ae9809",
            "d198142d5ef44218bdd5525f4ec173eb",
            "c4e75b629dd04968a4dcf5cc5a68d890",
            "a02182deb54b43bcbfb4c5394036b66c",
            "d64948204d36439e93a4ecf187277b40",
            "71edc371fe0f40d2aa15235f71c3a4a9",
            "43a6afd1ea624187afce8e6fa28dc984",
            "44b47ab017b940cebb2c852e34cd66bd",
            "cc9b81d597564f598460f27bceb1e055"
          ]
        },
        "id": "jSY5RcEyOINe",
        "outputId": "ce33a426-bb92-4d86-ea56-c70425115f6d"
      },
      "execution_count": null,
      "outputs": [
        {
          "output_type": "display_data",
          "data": {
            "text/plain": [
              "  0%|          | 0.00/346M [00:00<?, ?iB/s]"
            ],
            "application/vnd.jupyter.widget-view+json": {
              "version_major": 2,
              "version_minor": 0,
              "model_id": "9c1376bee5fd4b59bb6a6dd450d5f7cc"
            }
          },
          "metadata": {}
        },
        {
          "output_type": "display_data",
          "data": {
            "text/plain": [
              "  0%|          | 0.00/287M [00:00<?, ?iB/s]"
            ],
            "application/vnd.jupyter.widget-view+json": {
              "version_major": 2,
              "version_minor": 0,
              "model_id": "f06b936733c84e99839fd5f45b6a0a26"
            }
          },
          "metadata": {}
        },
        {
          "output_type": "execute_result",
          "data": {
            "text/plain": [
              "<All keys matched successfully>"
            ]
          },
          "metadata": {},
          "execution_count": 6
        }
      ]
    },
    {
      "cell_type": "markdown",
      "source": [
        "사전학습 모델 불러오기(기본 + Upsample)"
      ],
      "metadata": {
        "id": "iMvC3ZhoOx8t"
      }
    },
    {
      "cell_type": "code",
      "source": [
        "options = model_and_diffusion_defaults()\n",
        "options['use_fp16'] = has_cuda\n",
        "options['timestep_respacing'] = '100' # use 100 diffusion steps for fast sampling\n",
        "model, diffusion = create_model_and_diffusion(**options)\n",
        "model.eval()\n",
        "\n",
        "if has_cuda:\n",
        "    model.convert_to_fp16()\n",
        "model.to(device)\n",
        "model.load_state_dict(load_checkpoint('base', device))\n",
        "print('total base parameters', sum(x.numel() for x in model.parameters()))"
      ],
      "metadata": {
        "colab": {
          "base_uri": "https://localhost:8080/",
          "height": 67,
          "referenced_widgets": [
            "60538ae8cd7642949047ccaecf3b1418",
            "1b1a7db3e5b848e7873fa5319095a6a3",
            "9b7093aa1a7c42e695d5531aea5a9d5a",
            "aaa08cb420f048898eddb2e173f49f51",
            "0069677fa28c44c3a96bb1c829e8964d",
            "d56e83a35b95416e90855505ef6d175e",
            "696e045766254dc79b92d2284f02a1a6",
            "760124f6f69e46eeb1ecfe71e1a6a5e5",
            "841bb77f4cf44507af9145cd7aff4b31",
            "5c3c4e621abd4d2ca2e1767b21bb1c94",
            "678574b83e6a4e2eb89672c00dccba06"
          ]
        },
        "id": "WsVB8KSxO3bY",
        "outputId": "b93825c7-2a9f-4de3-f2be-d7c0c46388eb"
      },
      "execution_count": null,
      "outputs": [
        {
          "output_type": "display_data",
          "data": {
            "text/plain": [
              "  0%|          | 0.00/1.54G [00:00<?, ?iB/s]"
            ],
            "application/vnd.jupyter.widget-view+json": {
              "version_major": 2,
              "version_minor": 0,
              "model_id": "60538ae8cd7642949047ccaecf3b1418"
            }
          },
          "metadata": {}
        },
        {
          "output_type": "stream",
          "name": "stdout",
          "text": [
            "total base parameters 385030726\n"
          ]
        }
      ]
    },
    {
      "cell_type": "code",
      "source": [
        "options_up = model_and_diffusion_defaults_upsampler()\n",
        "options_up['use_fp16'] = has_cuda\n",
        "options_up['timestep_respacing'] = 'fast27' #use 27 diffusion steps for very fast sampling\n",
        "model_up, diffusion_up = create_model_and_diffusion(**options_up)\n",
        "model_up.eval()\n",
        "\n",
        "if has_cuda:\n",
        "    model_up.convert_to_fp16()\n",
        "model_up.to(device)\n",
        "model_up.load_state_dict(load_checkpoint('upsample', device))\n",
        "print('total upsampler parameters', sum(x.numel() for x in model_up.parameters()))"
      ],
      "metadata": {
        "colab": {
          "base_uri": "https://localhost:8080/",
          "height": 67,
          "referenced_widgets": [
            "81a35f1161cb482c9b1b0d5b3dada625",
            "e9769f793373444f96be8c61285933e0",
            "8c2e1cb8455143ca915547622657143f",
            "e2084b3c48a244d4bfb50784124ed919",
            "c2e5a6f977c94c00b5e6e46b7bb3c803",
            "0e12895bcff344908e25c5c21af0590d",
            "76744189f33a4067a0a48377dc1fd3d5",
            "16dce662c2e245d1b657faf1d8d3f1ae",
            "7d1a740ade9b4e648116a1bcc3168247",
            "9a76d6f4ab2448b9b311c11200abc455",
            "a9c9e382d66e441d97f7fb8ac30ee9fc"
          ]
        },
        "id": "neWGMusCO7OG",
        "outputId": "7e29852d-f12e-4a19-cba2-6cce4bb976a1"
      },
      "execution_count": null,
      "outputs": [
        {
          "output_type": "display_data",
          "data": {
            "text/plain": [
              "  0%|          | 0.00/1.59G [00:00<?, ?iB/s]"
            ],
            "application/vnd.jupyter.widget-view+json": {
              "version_major": 2,
              "version_minor": 0,
              "model_id": "81a35f1161cb482c9b1b0d5b3dada625"
            }
          },
          "metadata": {}
        },
        {
          "output_type": "stream",
          "name": "stdout",
          "text": [
            "total upsampler parameters 398361286\n"
          ]
        }
      ]
    },
    {
      "cell_type": "markdown",
      "source": [
        "이미지 출력 함수 정의"
      ],
      "metadata": {
        "id": "0Ru42sL3OchH"
      }
    },
    {
      "cell_type": "code",
      "source": [
        "def show_images(batch: th.Tensor):\n",
        "        \"\"\" Display a batch of images inLine. \"\"\"\n",
        "        scaled = ((batch + 1)*127.5).round().clamp(0,255).to(th.uint8).cpu()\n",
        "        reshaped = scaled.permute(2, 0, 3, 1).reshape([batch.shape[2], -1, 3])\n",
        "        display(Image.fromarray(reshaped.numpy()))"
      ],
      "metadata": {
        "id": "DvJE0lqbOgeR"
      },
      "execution_count": null,
      "outputs": []
    },
    {
      "cell_type": "markdown",
      "source": [
        "특징 손실 최소화를 위한 사전학습 모델 불러오기"
      ],
      "metadata": {
        "id": "fEyhwvhlUM1V"
      }
    },
    {
      "cell_type": "code",
      "source": [
        "cnn = models.vgg19(pretrained=True).features.to(device).eval()"
      ],
      "metadata": {
        "colab": {
          "base_uri": "https://localhost:8080/",
          "height": 161,
          "referenced_widgets": [
            "442de0e0f411453da6a3e688e71437ad",
            "91d0217823ce42c494f735e89dc28afe",
            "84134638d53141aea1b279aa9ad4c957",
            "4aa365d993fe487c8cef8bc8bd9de0a6",
            "51233ba574034e4ab4aefe4d0e02af39",
            "bb91a790a16d4d1685bbb37876236f2f",
            "fa8d830d66a347dfb8f726893e1cfee2",
            "dc789e50bc7745788a6e3fc7dc59e30c",
            "44f8de37400945688017b41a8920fba5",
            "3926831adad74726acdc1c5009a5f04f",
            "c513b868f6594043827dae080d3a2376"
          ]
        },
        "id": "FuPrOyDgUaz_",
        "outputId": "bbcf2449-f676-416b-94fe-5bd9c810d7ac"
      },
      "execution_count": null,
      "outputs": [
        {
          "output_type": "stream",
          "name": "stderr",
          "text": [
            "/usr/local/lib/python3.8/dist-packages/torchvision/models/_utils.py:208: UserWarning: The parameter 'pretrained' is deprecated since 0.13 and will be removed in 0.15, please use 'weights' instead.\n",
            "  warnings.warn(\n",
            "/usr/local/lib/python3.8/dist-packages/torchvision/models/_utils.py:223: UserWarning: Arguments other than a weight enum or `None` for 'weights' are deprecated since 0.13 and will be removed in 0.15. The current behavior is equivalent to passing `weights=VGG19_Weights.IMAGENET1K_V1`. You can also use `weights=VGG19_Weights.DEFAULT` to get the most up-to-date weights.\n",
            "  warnings.warn(msg)\n",
            "Downloading: \"https://download.pytorch.org/models/vgg19-dcbb9e9d.pth\" to /root/.cache/torch/hub/checkpoints/vgg19-dcbb9e9d.pth\n"
          ]
        },
        {
          "output_type": "display_data",
          "data": {
            "text/plain": [
              "  0%|          | 0.00/548M [00:00<?, ?B/s]"
            ],
            "application/vnd.jupyter.widget-view+json": {
              "version_major": 2,
              "version_minor": 0,
              "model_id": "442de0e0f411453da6a3e688e71437ad"
            }
          },
          "metadata": {}
        }
      ]
    },
    {
      "cell_type": "markdown",
      "source": [
        "콘텐츠 + 스타일 간 손실 계산!"
      ],
      "metadata": {
        "id": "_tYQ-UgRTp0V"
      }
    },
    {
      "cell_type": "code",
      "source": [
        "#특징 맵\n",
        "def gram_matrix(input):\n",
        "    a, b, c, d = input.size()  # a=batch size(=1)\n",
        "    # b=number of feature maps\n",
        "    # (c,d)=dimensions of a f. map (N=c*d)\n",
        "\n",
        "    features = input.view(a * b, c * d)  # resise F_XL into \\hat F_XL\n",
        "\n",
        "    G = th.mm(features, features.t())  # compute the gram product\n",
        "\n",
        "    # we 'normalize' the values of the gram matrix\n",
        "    # by dividing by the number of element in each feature maps.\n",
        "    return G.div(a * b * c * d)\n",
        "\n",
        "#내용물 손실 계산 함수\n",
        "class ContentLoss(nn.Module):\n",
        "\n",
        "    def __init__(self, target,):\n",
        "        super(ContentLoss, self).__init__()\n",
        "        # we 'detach' the target content from the tree used\n",
        "        # to dynamically compute the gradient: this is a stated value,\n",
        "        # not a variable. Otherwise the forward method of the criterion\n",
        "        # will throw an error.\n",
        "        self.target = target.detach()\n",
        "\n",
        "    def forward(self, input):\n",
        "        self.loss = F.mse_loss(input, self.target)\n",
        "        return input\n",
        "\n",
        "#스타일 손실 계산 함수\n",
        "class StyleLoss(nn.Module):\n",
        "\n",
        "    def __init__(self, target_feature):\n",
        "        super(StyleLoss, self).__init__()\n",
        "        self.target = gram_matrix(target_feature).detach()\n",
        "\n",
        "    def forward(self, input):\n",
        "        G = gram_matrix(input)\n",
        "        self.loss = F.mse_loss(G, self.target)\n",
        "        return input\n",
        "\n",
        "#정규화 과정\n",
        "cnn_normalization_mean = th.tensor([0.485, 0.456, 0.406]).to(device)\n",
        "cnn_normalization_std = th.tensor([0.229, 0.224, 0.225]).to(device)\n",
        "\n",
        "# create a module to normalize input image so we can easily put it in a\n",
        "# nn.Sequential\n",
        "class Normalization(nn.Module):\n",
        "    def __init__(self, mean, std):\n",
        "        super(Normalization, self).__init__()\n",
        "        # .view the mean and std to make them [C x 1 x 1] so that they can\n",
        "        # directly work with image Tensor of shape [B x C x H x W].\n",
        "        # B is batch size. C is number of channels. H is height and W is width.\n",
        "        self.mean = th.tensor(mean).view(-1, 1, 1)\n",
        "        self.std = th.tensor(std).view(-1, 1, 1)\n",
        "\n",
        "    def forward(self, img):\n",
        "        # normalize img\n",
        "        return (img - self.mean) / self.std\n",
        "\n",
        "# desired depth layers to compute style/content losses :\n",
        "content_layers_default = ['conv_4']\n",
        "style_layers_default = ['conv_1', 'conv_2', 'conv_3', 'conv_4', 'conv_5']\n",
        "\n",
        "def get_style_model_and_losses(cnn, normalization_mean, normalization_std,\n",
        "                               style_img, content_img,\n",
        "                               content_layers=content_layers_default,\n",
        "                               style_layers=style_layers_default):\n",
        "    # normalization module\n",
        "    normalization = Normalization(normalization_mean, normalization_std).to(device)\n",
        "\n",
        "    # just in order to have an iterable access to or list of content/syle\n",
        "    # losses\n",
        "    content_losses = []\n",
        "    style_losses = []\n",
        "\n",
        "    # assuming that cnn is a nn.Sequential, so we make a new nn.Sequential\n",
        "    # to put in modules that are supposed to be activated sequentially\n",
        "    model = nn.Sequential(normalization)\n",
        "\n",
        "    i = 0  # increment every time we see a conv\n",
        "    for layer in cnn.children():\n",
        "        if isinstance(layer, nn.Conv2d):\n",
        "            i += 1\n",
        "            name = 'conv_{}'.format(i)\n",
        "        elif isinstance(layer, nn.ReLU):\n",
        "            name = 'relu_{}'.format(i)\n",
        "            # The in-place version doesn't play very nicely with the ContentLoss\n",
        "            # and StyleLoss we insert below. So we replace with out-of-place\n",
        "            # ones here.\n",
        "            layer = nn.ReLU(inplace=False)\n",
        "        elif isinstance(layer, nn.MaxPool2d):\n",
        "            name = 'pool_{}'.format(i)\n",
        "        elif isinstance(layer, nn.BatchNorm2d):\n",
        "            name = 'bn_{}'.format(i)\n",
        "        else:\n",
        "            raise RuntimeError('Unrecognized layer: {}'.format(layer.__class__.__name__))\n",
        "\n",
        "        model.add_module(name, layer)\n",
        "\n",
        "        if name in content_layers:\n",
        "            # add content loss:\n",
        "            target = model(content_img).detach()\n",
        "            content_loss = ContentLoss(target)\n",
        "            model.add_module(\"content_loss_{}\".format(i), content_loss)\n",
        "            content_losses.append(content_loss)\n",
        "\n",
        "        if name in style_layers:\n",
        "            # add style loss:\n",
        "            target_feature = model(style_img).detach()\n",
        "            style_loss = StyleLoss(target_feature)\n",
        "            model.add_module(\"style_loss_{}\".format(i), style_loss)\n",
        "            style_losses.append(style_loss)\n",
        "\n",
        "    # now we trim off the layers after the last content and style losses\n",
        "    for i in range(len(model) - 1, -1, -1):\n",
        "        if isinstance(model[i], ContentLoss) or isinstance(model[i], StyleLoss):\n",
        "            break\n",
        "\n",
        "    model = model[:(i + 1)]\n",
        "\n",
        "    return model, style_losses, content_losses"
      ],
      "metadata": {
        "id": "wXQJWonfTtvs"
      },
      "execution_count": null,
      "outputs": []
    },
    {
      "cell_type": "markdown",
      "source": [
        "스타일 변환 수행 함수"
      ],
      "metadata": {
        "id": "XhI6vbjCVCY6"
      }
    },
    {
      "cell_type": "code",
      "source": [
        "def get_input_optimizer(input_img):\n",
        "    # this line to show that input is a parameter that requires a gradient\n",
        "    optimizer = optim.LBFGS([input_img])\n",
        "    return optimizer\n",
        "\n",
        "def run_style_transfer(cnn, normalization_mean, normalization_std,\n",
        "                       content_img, style_img, input_img, num_steps=300,\n",
        "                       style_weight=1000000, content_weight=1):\n",
        "    \"\"\"Run the style transfer.\"\"\"\n",
        "    print('Building the style transfer model..')\n",
        "    model, style_losses, content_losses = get_style_model_and_losses(cnn,\n",
        "        normalization_mean, normalization_std, style_img, content_img)\n",
        "\n",
        "    # We want to optimize the input and not the model parameters so we\n",
        "    # update all the requires_grad fields accordingly\n",
        "    input_img.requires_grad_(True)\n",
        "    model.requires_grad_(False)\n",
        "\n",
        "    optimizer = get_input_optimizer(input_img)\n",
        "\n",
        "    print('Optimizing..')\n",
        "    run = [0]\n",
        "    while run[0] <= num_steps:\n",
        "\n",
        "        def closure():\n",
        "            # correct the values of updated input image\n",
        "            with th.no_grad():\n",
        "                input_img.clamp_(0, 1)\n",
        "\n",
        "            optimizer.zero_grad()\n",
        "            model(input_img)\n",
        "            style_score = 0\n",
        "            content_score = 0\n",
        "\n",
        "            for sl in style_losses:\n",
        "                style_score += sl.loss\n",
        "            for cl in content_losses:\n",
        "                content_score += cl.loss\n",
        "\n",
        "            style_score *= style_weight\n",
        "            content_score *= content_weight\n",
        "\n",
        "            loss = style_score + content_score\n",
        "            loss.backward()\n",
        "\n",
        "            run[0] += 1\n",
        "            if run[0] % 50 == 0:\n",
        "                print(\"run {}:\".format(run))\n",
        "                print('Style Loss : {:4f} Content Loss: {:4f}'.format(\n",
        "                    style_score.item(), content_score.item()))\n",
        "                print()\n",
        "\n",
        "            return style_score + content_score\n",
        "\n",
        "        optimizer.step(closure)\n",
        "\n",
        "    # a last correction...\n",
        "    with th.no_grad():\n",
        "        input_img.clamp_(0, 1)\n",
        "\n",
        "    return input_img"
      ],
      "metadata": {
        "id": "6MyRedDIVH1T"
      },
      "execution_count": null,
      "outputs": []
    },
    {
      "cell_type": "markdown",
      "source": [
        "제시어를 입력해주세요."
      ],
      "metadata": {
        "id": "NApNtQJfFwu7"
      }
    },
    {
      "cell_type": "code",
      "execution_count": null,
      "metadata": {
        "colab": {
          "base_uri": "https://localhost:8080/",
          "height": 54
        },
        "id": "DK-vpstRFuOJ",
        "outputId": "3f9d67c9-a107-4f49-c011-83e14fba1d87"
      },
      "outputs": [
        {
          "name": "stdout",
          "output_type": "stream",
          "text": [
            "밤하늘의 별\n"
          ]
        },
        {
          "output_type": "execute_result",
          "data": {
            "text/plain": [
              "'a star in the night sky'"
            ],
            "application/vnd.google.colaboratory.intrinsic+json": {
              "type": "string"
            }
          },
          "metadata": {},
          "execution_count": 35
        }
      ],
      "source": [
        "trans = input()\n",
        "\n",
        "trans = get_translate(trans)\n",
        "\n",
        "trans"
      ]
    },
    {
      "cell_type": "markdown",
      "source": [
        "생성용 파라미터"
      ],
      "metadata": {
        "id": "KzZDTa-DOoFe"
      }
    },
    {
      "cell_type": "code",
      "source": [
        "#Sampleing Parameters\n",
        "prompt = trans\n",
        "batch_size = 1\n",
        "guidance_scale = 3.0\n",
        "\n",
        "# Tune this parameter to control the shapness of 256x256 images\n",
        "# A value of 1.0 is sharper, but somtimes result in grainy artifatcs.\n",
        "\n",
        "upsample_temp = 0.997"
      ],
      "metadata": {
        "id": "-8a0ufNCHzHe"
      },
      "execution_count": null,
      "outputs": []
    },
    {
      "cell_type": "markdown",
      "source": [
        "이미지 생성 시작"
      ],
      "metadata": {
        "id": "VkvtnT9jPcJ9"
      }
    },
    {
      "cell_type": "code",
      "source": [
        "# Create the text tokens to feed to the model\n",
        "tokens = model.tokenizer.encode(prompt)\n",
        "tokens, mask = model.tokenizer.padded_tokens_and_mask(\n",
        "    tokens, options['text_ctx']\n",
        ")\n",
        "\n",
        "# Pack the tokens together into model kwargs.\n",
        "model_kwargs = dict(\n",
        "    tokens = th.tensor([tokens] * batch_size, device = device),\n",
        "    mask = th.tensor([mask] * batch_size, dtype = th.bool, device = device),\n",
        ")\n",
        "\n",
        "# Setup guidance function for CLIP model.\n",
        "cond_fn = clip_model.cond_fn([prompt] * batch_size, guidance_scale)\n",
        "\n",
        "# Sample from the base model.\n",
        "model.del_cache()\n",
        "samples = diffusion.p_sample_loop(\n",
        "    model,\n",
        "    (batch_size, 3, options[\"image_size\"], options[\"image_size\"]),\n",
        "    device = device,\n",
        "    clip_denoised = True,\n",
        "    progress = True,\n",
        "    model_kwargs = model_kwargs,\n",
        "    cond_fn = cond_fn,\n",
        ")\n",
        "\n",
        "model.del_cache()\n",
        "\n",
        "# Show the Output\n",
        "show_images(samples)"
      ],
      "metadata": {
        "colab": {
          "base_uri": "https://localhost:8080/",
          "height": 113,
          "referenced_widgets": [
            "a98a7f24fe9741c8bb7f0a58376c2ae8",
            "5f5aaf6dfd7f4804a56e526354a4a201",
            "dfce72c9081249d48a87aae7abb0463e",
            "3350c34f05b647c5b90d15f403aa22ba",
            "94bd013105ff44829b1f62b3c9a9ab8c",
            "915fc4adf92c40649c6c4ab7df6d0a3a",
            "f47876a85f0547529a90e37eb0074918",
            "a2422e4ae6a24edbbf5bdf50820ad8ab",
            "07ab91d2bf374950bf0918243ea136be",
            "d6f13d13e82140608ff70912e6a4d494",
            "9598d09609444f5f9517f360db34db0a"
          ]
        },
        "id": "xoC4eCRtOnbF",
        "outputId": "cbe172f9-5593-450f-9eed-4f5721c06d13"
      },
      "execution_count": null,
      "outputs": [
        {
          "output_type": "display_data",
          "data": {
            "text/plain": [
              "  0%|          | 0/100 [00:00<?, ?it/s]"
            ],
            "application/vnd.jupyter.widget-view+json": {
              "version_major": 2,
              "version_minor": 0,
              "model_id": "a98a7f24fe9741c8bb7f0a58376c2ae8"
            }
          },
          "metadata": {}
        },
        {
          "output_type": "display_data",
          "data": {
            "text/plain": [
              "<PIL.Image.Image image mode=RGB size=64x64 at 0x7EFAAB31D850>"
            ],
            "image/png": "[encoded data removed]"
          },
          "metadata": {}
        }
      ]
    },
    {
      "cell_type": "markdown",
      "source": [
        "업샘플 - 결과물 중간 확인"
      ],
      "metadata": {
        "id": "d3KJrSQ-gjDG"
      }
    },
    {
      "cell_type": "code",
      "source": [
        "tokens = model_up.tokenizer.encode(prompt)\n",
        "tokens, mask = model_up.tokenizer.padded_tokens_and_mask(\n",
        "    tokens, options_up['text_ctx']\n",
        ")\n",
        "\n",
        "# Create the model conditioning dict.\n",
        "model_kwargs = dict(\n",
        "    # Low-res image to upsample.\n",
        "    low_res =((samples+1)*127.5).round()/127.5 -1,\n",
        "\n",
        "    # Text tokens\n",
        "\n",
        "    tokens = th.tensor(\n",
        "        [tokens] * batch_size, device = device),\n",
        "    mask = th.tensor(\n",
        "        [mask] * batch_size,\n",
        "        dtype = th.bool,\n",
        "        device = device,\n",
        "    ),\n",
        ")\n",
        "\n",
        "# Sample from the base model.\n",
        "model_up.del_cache()\n",
        "up_shape = (batch_size, 3, options_up[\"image_size\"], options_up[\"image_size\"])\n",
        "up_samples = diffusion_up.ddim_sample_loop(\n",
        "    model_up,\n",
        "    up_shape,\n",
        "    noise = th.randn(up_shape, device = device) * upsample_temp,\n",
        "    device = device,\n",
        "    clip_denoised = True,\n",
        "    progress = True,\n",
        "    model_kwargs = model_kwargs,\n",
        "    cond_fn= None,\n",
        ")[:batch_size]\n",
        "model_up.del_cache()\n",
        "\n",
        "#Show the Output\n",
        "show_images(up_samples)"
      ],
      "metadata": {
        "colab": {
          "base_uri": "https://localhost:8080/",
          "height": 305,
          "referenced_widgets": [
            "daf30bb62a03469fbbdd69c58cedbc71",
            "bae0c5c3abf340cf92561b7458fdab29",
            "0cdb6d8fe0024c41af5aedd019e8fe00",
            "6e7199e2b5a74c4bb2699c86b66193c9",
            "5fcd83ab294143fda83f14c1456430ee",
            "5477d5ce4a94407d8d08449c68e1e646",
            "f7518573d9b444c08ea15ba16fd76a3e",
            "969e59785a54441781a90690496d0aa1",
            "9263602dfcb0433385cdde2ae27bfe6d",
            "0f907c13ead54e629107c1841edbbd0f",
            "7cace387830648cbab8aa06a0649f52a"
          ]
        },
        "id": "rRjjI0gZRfDB",
        "outputId": "e46c21cc-b1fb-4e44-92fc-52883d27eba1"
      },
      "execution_count": null,
      "outputs": [
        {
          "output_type": "display_data",
          "data": {
            "text/plain": [
              "  0%|          | 0/27 [00:00<?, ?it/s]"
            ],
            "application/vnd.jupyter.widget-view+json": {
              "version_major": 2,
              "version_minor": 0,
              "model_id": "daf30bb62a03469fbbdd69c58cedbc71"
            }
          },
          "metadata": {}
        },
        {
          "output_type": "display_data",
          "data": {
            "text/plain": [
              "<PIL.Image.Image image mode=RGB size=256x256 at 0x7EFAAB7BEE80>"
            ],
            "image/png": "[encoded data removed]"
          },
          "metadata": {}
        }
      ]
    },
    {
      "cell_type": "markdown",
      "source": [
        "이미지를 저장합니다."
      ],
      "metadata": {
        "id": "170Tay0YSVDw"
      }
    },
    {
      "cell_type": "code",
      "source": [
        "#Tensor -> PIL이미지로 변환하여 저장 (pixel들의 batch로 변환)\n",
        "def save_images(batch: th.Tensor):\n",
        "        \"\"\" Display a batch of images inLine. \"\"\"\n",
        "        scaled = ((batch + 1)*127.5).round().clamp(0,255).to(th.uint8).cpu()\n",
        "        reshaped = scaled.permute(2, 0, 3, 1).reshape([batch.shape[2], -1, 3])\n",
        "        result_image = Image.fromarray(reshaped.numpy())\n",
        "        result_image.save('/content/input.png', 'png')\n",
        "\n",
        "save_images(up_samples)"
      ],
      "metadata": {
        "id": "5GYWNs8MSY0X"
      },
      "execution_count": null,
      "outputs": []
    },
    {
      "cell_type": "markdown",
      "source": [
        "스타일을 선택하세요\n",
        "1. 고흐, 인상화\n",
        "2. 뭉크, 절규\n",
        "3. 피카소, 무채색\n",
        "4. 모네, 일출\n",
        "5. 피카소, 다채색"
      ],
      "metadata": {
        "id": "V6aVHQEuTM8p"
      }
    },
    {
      "cell_type": "code",
      "source": [
        "style_num = input(\"스타일 번호를 입력해주세요.\")"
      ],
      "metadata": {
        "colab": {
          "base_uri": "https://localhost:8080/"
        },
        "id": "u4vPZ3cZ2VEs",
        "outputId": "bd2e9c64-c72e-4055-f069-dd7d5681e10a"
      },
      "execution_count": null,
      "outputs": [
        {
          "name": "stdout",
          "output_type": "stream",
          "text": [
            "스타일 번호를 입력해주세요.1\n"
          ]
        }
      ]
    },
    {
      "cell_type": "code",
      "source": [
        "import urllib.request\n",
        "\n",
        "if style_num=='1':\n",
        "  url = \"https://lh3.googleusercontent.com/fife/AAbDypAarC9awC98ZiuoJJ_UKGGu9AGSHLmn6ReweHKk_ddrstKVX05a8ajAtZwqBiQGBjtwyrDeRMi65iUi1Vz2_sC1E7w0e2wGaxMV81YR0Wqth-UxfsC4DdUItkP3oM88oRF5e-jKdq5FZkXc2VUniJVzXIUTZgMgeq4-hMlNdjJQIrkzsXEFghJ3awZH-_PTdxWHOfJ92BZJMAron2P88vF9haUkVZzZ7Vtiz0q8ZXYwT3b19l17S-vKC9nspdTMxCgUcFRCg4zNG21LtLhk9jMuu_4EAP32Y1lOFogZraY_JCLOgIWXPAE1t4cpjpx0wde93pzGMU2ZLNB2mFlkarFWulQBG2srT2zuf_r3VgXLm50di3tZtCHNHAob9FRZ6lZZQKjdG6xVOfWqCUfGXCBC4qFIy1up42jlu1-W-4hiicZVbYnUApeFVR90U9UA59bLJwKnD12c8K4Lak1Vw1uh6eWrwDkyAL_w03zQmBYJfTaKJQdE5iw-MhDYcXCWPlBXCjvfXlwicYcU8NXOgghjEgJDPFFtNxzXduhwxOf8uMzrGC7R_LrnX-C3w03OI1EQii6oCyly0DsbOTT0TKK5ckv06UQ39upiyo3blHhbi7PBzN__0G1w6vZ2dFBC768wQGrRL7QaRcu4Wx12GWBAYbA0zHit5jNLxt3ERwPXAvzEIgJAblhjA4s0E8EKUKjWe9wkGTW1NSf7xom7jKJHlHsb4FDxs_5L7nbF0aupyLUr5gjxb46KxWVBmDy5Ih2-X3BvpfjiGfBq1nC2wGHw2mJqWLrthsM-uIN7F71hAWQqYWKibwkTn6oTfsgGWlQoQ43Pg7w3rPb0ficuMzseUwWg55D_NKnf2SeGYkPE5OClNDBOKU3aELywQ_iJBkFX4EtayFO7zIDXg5NVuGzSmc19WV3H9KfbyttZHmtjXmmrxz_0nZNCe_mMIOMT2aRwYUH-WPO3dLJHxicmIxIeeNP6_H9VXUzuaOZKhkOJCH1tOpS5VupjUBTaaCzlGDbPCfV0MJkpZX7cTPdOPNQpT4LKj4lBAtxCQ1roagIvSgxu7lED7PB840w_QrPyGlps9FV25ZFwGcs9O8nmZvfjE-Quo2bsonONAI7hn8dAXL_YXIVupHBZjo2hK2-dnTsLS6WY_1R8njm6XWVj-N2R0K0x09d5xALQ-UlCcBk4vM6cvwylz598ZbrBtKFdgFxeSWYFYsYvHvqtPk0UkF31a6vXKH61oJ2XNHEQo8qZZw0wRe8jfUn9_kaFCTof4w3m7crtrTdhl79RZ2Rd3jPdD8cNUZwX5wXgbqjxZEGmIIQXaRkU2IGM7ec8NsvOF8Mubw61gKXVJ74ao5Y7O0KgmKYXKkjed9cF9KUp62XWaXLJ0AZnMNGOybJ2hIRHCz1IWhv1NRcQDU0jj0mLw7Y-wwX6xU5_kdxSuyl7sD_3vxW_bU_F6gg47oPcnaqSUODPwEfWGQ6si_WXdhUx7xgS3dhBan09eS7_pAzryqIIWgu6gZ2Qufofb0Y=w1600-h732\"\n",
        "elif style_num=='2':\n",
        "  url = \"https://lh3.googleusercontent.com/fife/AAbDypD7X-LzFGZMKcgcoizs9AvTq8n9Fk7Xmx_u1NMrkwQHfGaeM7hU4Kj_p2j4ew3HhzucqonEj4K9dvsrf6-i9shImVcL9ib13ebD5SUhO0fy8yO8SRPQ7xaX16lhxWl3rmfMeV-O0lX7lEGJY0g2DJD_lHt-Ons-hI4whsc-sKCokz3ENUtRKxxgRPri8N9FUm2gmeF9Nsms-IpuCk0GLADfwFFINP-4WIPllU_V8aLMzStvMCX7zrQGv4O0_yHaEALfqrVSOJNKX4Xv9hFaeFRELKBwpwDLyFSczQwQMu11cy4JW_bMetFMJ8QfspOYfpUOE_AK5Yxndkj8Nxp6Hs-YF2YsSWXdhjZPFgHunL0r6UYYBtaCeOU0RivzafRn4km5itVmr8403lCojjPbz8NBiEVVm8JySUz3O2_EL4cQXpwJVN5UgIAzJNUTidcSmDPY20rRmjjLKw73TL1yQHeHucFZFIbr930u07bZSry5PiTdzbBMyzFByoGSqKcEknnaPNcSUMu6EEt360o2XTEFE5eyF2iofbPFhhmokQ4UxozX9-A02kikC0bub1-nvN9Tyr979HWPa-VOMeVhEc0iZW7mih2uFQctkYQ1CQqr2bMX6PIHC9yYwpJCrIJnlfcryCeGXOZSVkTvWwLeCfFfxMzJuWixpCfL7Rwdq9QVC1UOLRpeFX295i05c4D52UvhbE3kD1coywuA3HWAa9IMhjSKIgOlNmFLOUc4KpKSJuOqmQpuIbNym_GrJmAXcVrgPWU6HlLTnkE4v6YXGOYqxigXJ0r0BJ4PIH5gBaac4qRlzytQZQ1G26OoUk82x-HnyX7MFUfuyPISiID6MpTPP2up6j622cqgl0oiFMd23iyEC3sVnB0845VQOATcVoH1euAAiz5JAnBFEN1x9EvWQ0Y85ni5elA5pQ2HRgFFZLRIm2FezUr2sUtyFg9XA8e2-jhzzzLx4wLx2dMNDm7V0n_6ha5v0imwnB-_6wSNucMuZvdUz1vyVg0LmDNeSjm0O8tQ5eUrv7nWO8AwUzH06u_S2lzGkS7mWU-tij2C9vvqexCBmTOmnHS5ZwRE0i97Rq5PeFO5cEyGhfF_Y493yTuQjUrkTazVhG7_Fl0jHT5mpiCmwgVEiAUfScUezXEXv56ImHeIbvXo3AGoblpY0yMMfHBQmynhZuFeKW54wPeqKKT6juT_as6w57CKTBqfY5lHjf_iex73gd2ea7xR6TyzS6W9W0bMc0UsjrCcLBffevjJo9iLrpk3iiVSvzJzGDpRI5khXBujSSg-F6lrtSEz8bHibRYGSmZtsoYduzSyXF6gK2EgH4ISea0G5NPCbMc9Q2myMXu7Us1oECQLDVWbPmr96tj2mIpVbERIMd_nDxfV0hpVU3FT5SUil5inY9uBQ-T7hQfwRm7-4oyIkZPwMrmVN8NnrdN0wjE8bAg_Mhv4OvZfkL1okPqdB4zcHNbiMbQP_WQofobEZn7Rw3J2S4-laZ3dSZrIgjns_dR2r9HLkSzxurU=w1045-h732\"\n",
        "elif style_num=='3':\n",
        "  url = \"https://lh3.googleusercontent.com/fife/AAbDypC1OagBuzUoJMAWv9uMZym1Vn7wUDMYoxTOSdKm1zbVTu6QQNR5I7-6I7UmLc5faLvg2OIrxeBMBtHEnfeYNy67hkX10U-JuboRCZE-VqDeikAvYNa44k6oMhUnKKauhTquLEf0Q4EMzLv8hcw2FFOtr1wCDtvv8-qJcsB-RjvyBC_AVBJ0yywCQVwEYJM1V1fUxg_YfuTifyRQ7CFy6B6-QdeJzeYtYqDqlqdkGfQzNCGFNuVvS9PCoVWbDsnlxzdC8KCkOF1eigcpjiMqdRLigI3xQ4C5YkFUfVdeZT9hsqZbB5gwBTtnC6Hq2avi5t8sgF1SqqlWARBdqxV-grocl4g_wkHof6YFrZUPs-amUcQNkvt2xcbapympwMbGxsfadkV4fdJIn7DwKw6Ubp3GsK65hfu4fWMXQOyBFRI6wJM8Nu0Givrej6S9iwObSJ4koia74LfDNhKE5qQGBhmuO4_WmOYyBfFx9Kz7OGgjonbyezhpoZE2HsZtcQ2IZbmv7noMGFYOjWaEWNnCE2IuiUE-GWWRtWdiNr2s3quKn3WRVjBFNtofw50Uxt93r8ndPjs4oVPGV5wFhI_xV_IBBOvNUtVEwhpWYsdSYaXEL7gbeU0ii-DvTxH6yv9I6GAJmQ0hO20I0-5GInErzIYCHWNWQ4-YXH2_L8A-_SNfuC5nGz4e2hMbkNZJHmPB5nlJ0N2vWgR41R2weFkvrO_xh2p8te1p0vV4sQPyoAjJonlu2LnCq01nzlsIqfuddQYbB9ub9mQWxgm6XqaZzcZBnrpjuPdEUDBsABN_g-1c5twHT4MXj3KhEtmVgEy8Jnw3kZjm4HsRXEsngIZwNDrJESS8XkVEOU2C2Lfw86yGJtRThhjdPiDwMKwFVNi1O_35dhnFUwK-JPag7vcoJIhIQpXugEfMSGfGos5ajx6-eoBfHx2p5UhK-q90Nf3wHv5Ws3wgku7nVS8PK32piF1pNnJjH0zoBtP7jzkQ15yVADSXfQDES9w3pWM510K7ELMH3C1MCOjKGScZHAzCP556yzLuasClni-qJ_3XopbkdIcrXZeS9PeBq3Z8xkrC_z57FhLDTMNwgSQ86L_25Y_PiAENhdv3YQhTgT2svD8vHEUvxVpsbrnUOdbiYwdWTJ0DlbM2wf8BBwKsWpHAmM61sE3bJUonSX3LxXhfK3PIUUaY8mvbuZ5gWJu6Ip1SC7TdlMDQCzG1cFR0QNmF6QaRk55fpYAyMRHfVizhOV6tT3hPpJ5DNtomG1zHzXlU9LSGJY_uRq_APyqp8UDr3xyVbcWZcfdUQdJ61hRyIsxyVCXp_V4Heb8PUnatMT-o7HRffJsWD-1rQxVN0c_WFmHK39hLQfwQZyoy_8LXM8h0Z0Vf9Hk0wnokumgJltxDn_uYH1KqBS1rYvpw23vx7THBLuQMiOghkIt2eUkbeH3GAzLHBiNXghmc0UaeiMRH6SYiAp_xb8zN-PhHKnceNPdjofsYaZEvqE591Y37ZK7xhqSRWNHiRfYj3tw=w1045-h732\"\n",
        "elif style_num=='4':\n",
        "  url = \"https://lh3.googleusercontent.com/fife/AAbDypD__WSrciIslJBtVbxBAzdq967RYJs0mfu1sq8VdOQaPS0KYI9kMmf224tQ5k1gYmOY9c7PHqaWaPVT0mpbLs9EAgwDKbu79C_RENgkSa2UGqndZr0RhTvEOQMYwaJTcDRIdTrYVsYQkozDx88gqaAE_WwgIzRBDN-af25n4RlUaga6QdEQac1Jr23q6brnwqa9m1Li4VCjwb6CzzEuhCXxzNFnKexuX4S5SF5_ufrCqGT8eb5VIeis_BYYZmaVM2MU32Jr-gV_r0baJ4WJITluAjvPyTrDLonUqkDJZZQSo4jWunf5fQ0VQFMLnciavMhlWBXoFpO7E7lF9ELcxBC9S8FrDkWnKQcqJrOnXWpctdmH3pwviWK9MIX9d01lYiZpBszY8PWSUEax1lau_OgYQdSTKvNV5loz8dadkTlvDQXCp3LY1JyYGL1N8-WG-Ks6txNWQ274LikDVQKop3SIJrJed4oqIhjjx3hwv_YBG0a1FrXgqHJcSQnOyKYUpkcF2-FRhEQsrgC08fH8IIjdn5sm1kFLOusuinkGHOCGZzOnqelJdglIx5MZ65-G6D1zgLOTbmuvwwHEpc3Qhf_oOH-2bDoS8vspPUrLJ7z6Jt2vNuJLsf0wiW80Tb2C9305flfpWbL3IBlyewBx3ojrJoOU4jQjotd0VNci5r2s6zW63lvXgbD1xYAeMbNK-I6uoY83hF_FqMGlgKF3EZWifwlk9juUKQBxSGclZQogTmHQ13rWm9oWTvl2--CGgJoKZophSKK8UGtV2QJ5-ofXsY8KeVA81HJMWc0PYZk3cZSxbWalugre8g9KAewjmnbQR_X4Frf0mbrmLDa1g8NgszOyhKHIjbUjtMa0iHo9IWGF0HX-Vp2wdvrmUW8RmJTV5hj5UvU8UJqZsorkwmaJRMbhrSHVjC8jGIiQ8VmmG4ueQAfsE9NMNvHxlMcrWhZRz6xGGUYO2B7m0fmHAFBSca8VYRafH5Jy_SA3eHp1zLj0o6So6HPQfJj_LcItxco8o5DDBTDTF8e2Fs77ipQi2IyVo71k8jUJLJT7UoV8cxgPw-h2PukDXDFb4aMdPnuk6c-QbaTw4l50tRXsRQYOnGG8PkuhfuggD5l5p9Z0DQP0rA4oViLMAzfRRoS3co7Kk5D95BqRBI9lqqtlMSosTQHDRxNsBbIyGzxomeXY6byMYNKy6OE649Js4mTOm2qoV2tklb_ogr-PuXac7FcvJsxrIiXTsGJMKFVziuF9xpCBAaslGJC5vuu7q4fgNdCmQ1NkiJMkf3z2EvOmzMQi5GxVOIX22PMs3duZZ53-_krVCA3XWQ7p9bzdwYRtp9kQ4MNKVm5elbs2KFCIun9xTOjLRlD3-0LEkEmaFITqTKZXZGho_Zq92fDc1QWLVLFkjJ2SwR7tPvJGJ9pupE7aorecx_wxOW1ix5c4fnsF4WhPpe_hLC4L9MNDcqe6q7EaQlp8Ifxzb00fPJkopw_eAk3a1UqMU-mJjeD8q46HfYUvgWmbXlqscew=w1102-h548\"\n",
        "elif style_num=='5':\n",
        "  url = \"https://lh3.googleusercontent.com/fife/AAbDypDDN0CsxUASo83-1qcW0qtGY429h_XcMdJLbYrZENc-EqapYKTj2Al2bJLWTac8ymMc3cs1xfYXeF2oBrWgcG1qu5WsljPBGkuI8FC9Ni1gge15xm9TCQHIyyI4uVdCo4yEix6DyS-v7vtyhWICjn96s1Rxu1G4GfyyUrY16UK1aglCyIC8K2NTLGgaIRT60tZOLb4ySe5rHBVj8Q9sc0aj_4PUZ-c4gmC0OgLAujWx_7uX_GrBOmX93RVnQ5F2iBnPTPiyCUjrcf6q9ytNd8GnALHtuEJsFLl5ODRrSei_n0gjXGCu8W0eAxPBcX72sR5lGYJ-uMENRnRnm-iJcJDpGh_Ca_AWdtNgeMNA0TJh9HEj_83P1pdS0r3nPPpP8CNA9AOXNW3tafDaEFamT_hR5PgfuRELn52k6YzHYw8pkArLeHO_dTV3JNn3iFMi6g0ivmyGVR52N87cAVkaKkX-dFQkgLhWEjCedVoyGqc2KH6Gu-TUg1vBLvSwVofzqbFttF_ELJI7dOYOBCkslGnGI52P1AVUvt8iGQ4HXgPCKsv8bvho7UO8A9NCoY22TdjlAMkJ4VF_tFTdj0k_4ktLdaz8JqkkS1k8SVSGbki4nMldRhrNsxBtV8Gw1jWbksTTNommXyopJNyhv4RtMZ15UfSE_hARhHjIAAq6hl50GiKhej4eyXpDZkUuQHYEZHBAH4tdbPYtKwzAyoHNQJaL_T5EdMXdJw-MKUkFPG47SddedzXiyoXy00XUW1uzgfdSejKxxCsKDKv8FrOOzp2h_TZTRkx7EufuNo1XS74Mvr4pUfvsmcRnHSDiMBK-TLxwpC0ggQRQSpZaCS9ro6PCp9hO8Nw_10NvEgyMWqSqQHxjADuCLz3R7dodlEC8N89GnswhNBhSyn3G6qM3oN_cF028ySrAbm1gQF3jombLuhPR-GcXey2YcWhgjCtQg_g7SUGs_hBSPBV10upLQ8ejlFVzL3AAYn3T02EZn-OkuHndYc2-84_ml13DnG_zuJm2o-JWx53xLc7Cve7zkKucKTAmr4hcKmM_vrL1ELCy1m6kts6nA4L0i3Wt7JQyilCWate42UCPgHflDB9h1XtZL2jbEkBRDEe5NF8zndNXfyxd2mC5SNWMLOUgSG5tMzO6hEYhrvYLD4MrmL_xv_ropR0odxpwCXCPOyIRIcIFdpLlF9kCClIkjx4KmeW1CJY9jZyhCQdKJdpmamhMm_ZgL0xhxDgAXeyXXVVvrgwPJ4Sakb-kCq5F3fbTTMWqq_X0rsNyQBehIXObqV8JGv04xcm-uDW1ImTt0lDNy_eag5OdgOM6e2IfQzliZOGVyNvVuA9Frk9K0wnWe5kml7FZmI7W-2-YwdIvVqkBl5L4sQWZK8bzFMfVTQjX6j4Rlqyu1yypk0t8B6Nv59kBHADlXrskG7hl_WpqO6IKx8C5IK2UqoHbquoIaiqdW2Sm5DkA1W4j1RgcTmZfeYLf2xn7XOp2rUlIi0XeI07L9CaZDnwCw7RO3TrXXtE=w1139-h605\"\n",
        "\n",
        "savename = \"./result.jpg\"\n",
        "\n",
        "image = urllib.request.urlopen(url).read()\n",
        "\n",
        "with open(savename, mode=\"wb\") as f:\n",
        "  f.write(image)\n",
        "  print(\"저장됨\")"
      ],
      "metadata": {
        "colab": {
          "base_uri": "https://localhost:8080/"
        },
        "id": "EOWAXme9rXZJ",
        "outputId": "df0ddc29-7b7b-47c8-d3ec-901dae528658"
      },
      "execution_count": null,
      "outputs": [
        {
          "output_type": "stream",
          "name": "stdout",
          "text": [
            "저장됨\n"
          ]
        }
      ]
    },
    {
      "cell_type": "markdown",
      "source": [
        "스타일 이미지 입력"
      ],
      "metadata": {
        "id": "-H1gMK7RTa3F"
      }
    },
    {
      "cell_type": "code",
      "source": [
        "ori_style_img = cv2.imread(\"/content/result.jpg\")\n",
        "cv2.imwrite('/content/style_img.png', ori_style_img)"
      ],
      "metadata": {
        "colab": {
          "base_uri": "https://localhost:8080/"
        },
        "id": "lLYyE6S7TQCu",
        "outputId": "8fd4d67c-b83e-46df-d092-ebc7ec23d224"
      },
      "execution_count": null,
      "outputs": [
        {
          "output_type": "execute_result",
          "data": {
            "text/plain": [
              "True"
            ]
          },
          "metadata": {},
          "execution_count": 42
        }
      ]
    },
    {
      "cell_type": "code",
      "source": [
        "# desired size of the output image\n",
        "imsize = 512 if th.cuda.is_available() else 128  # use small size if no gpu\n",
        "\n",
        "loader = transforms.Compose([\n",
        "    transforms.Resize(imsize),  # scale imported image\n",
        "    transforms.ToTensor()])  # transform it into a torch tensor\n",
        "\n",
        "\n",
        "def image_loader(image_name):\n",
        "    image = Image.open(image_name)\n",
        "    # fake batch dimension required to fit network's input dimensions\n",
        "    image = loader(image).unsqueeze(0)\n",
        "    return image.to(device, th.float)\n",
        "\n",
        "\n",
        "content_img = image_loader('/content/input.png')\n",
        "style_img = image_loader('/content/style_img.png')\n",
        "\n",
        "assert style_img.size() == content_img.size(), \\\n",
        "    \"we need to import style and content images of the same size\""
      ],
      "metadata": {
        "id": "tDc7HgvcTYVd"
      },
      "execution_count": null,
      "outputs": []
    },
    {
      "cell_type": "code",
      "source": [
        "#이미지 확인용 함수\n",
        "unloader = transforms.ToPILImage()  # reconvert into PIL image\n",
        "\n",
        "plt.ion()\n",
        "\n",
        "def imshow(tensor, title=None):\n",
        "    image = tensor.cpu().clone()  # we clone the tensor to not do changes on it\n",
        "    image = image.squeeze(0)      # remove the fake batch dimension\n",
        "    image = unloader(image)\n",
        "    plt.imshow(image)\n",
        "    if title is not None:\n",
        "        plt.title(title)\n",
        "    plt.pause(0.001) # pause a bit so that plots are updated\n",
        "\n",
        "\n",
        "plt.figure()\n",
        "imshow(style_img, title='Style Image')\n",
        "\n",
        "plt.figure()\n",
        "imshow(content_img, title='Content Image')"
      ],
      "metadata": {
        "colab": {
          "base_uri": "https://localhost:8080/",
          "height": 545
        },
        "id": "sGINM3zBTVnG",
        "outputId": "5c611947-eb35-45d4-c776-b61d42945423"
      },
      "execution_count": null,
      "outputs": [
        {
          "output_type": "display_data",
          "data": {
            "text/plain": [
              "<Figure size 432x288 with 1 Axes>"
            ],
            "image/png": "[encoded data removed]"
          },
          "metadata": {
            "needs_background": "light"
          }
        },
        {
          "output_type": "display_data",
          "data": {
            "text/plain": [
              "<Figure size 432x288 with 1 Axes>"
            ],
            "image/png": "[encoded data removed]"
          },
          "metadata": {
            "needs_background": "light"
          }
        }
      ]
    },
    {
      "cell_type": "markdown",
      "source": [
        "내용물 이미지 재입력"
      ],
      "metadata": {
        "id": "x-qjONp0U2NL"
      }
    },
    {
      "cell_type": "code",
      "source": [
        "input_img = content_img.clone()\n",
        "# if you want to use white noise instead uncomment the below line:\n",
        "# input_img = torch.randn(content_img.data.size(), device=device)\n",
        "\n",
        "# add the original input image to the figure:\n",
        "plt.figure()\n",
        "imshow(input_img, title='Input Image')"
      ],
      "metadata": {
        "colab": {
          "base_uri": "https://localhost:8080/",
          "height": 281
        },
        "id": "SyNR4uDPU5xb",
        "outputId": "a4c920af-aa0b-44af-e240-62d0fc67beee"
      },
      "execution_count": null,
      "outputs": [
        {
          "output_type": "display_data",
          "data": {
            "text/plain": [
              "<Figure size 432x288 with 1 Axes>"
            ],
            "image/png": "[encoded data removed]"
          },
          "metadata": {
            "needs_background": "light"
          }
        }
      ]
    },
    {
      "cell_type": "markdown",
      "source": [
        "최종 결과 생성"
      ],
      "metadata": {
        "id": "-55gjiULVKfi"
      }
    },
    {
      "cell_type": "code",
      "source": [
        "output = run_style_transfer(cnn, cnn_normalization_mean, cnn_normalization_std,\n",
        "                            content_img, style_img, input_img)\n",
        "\n",
        "plt.figure()\n",
        "imshow(output, title='Output Image')\n",
        "# sphinx_gallery_thumbnail_number = 4\n",
        "plt.ioff()\n",
        "plt.show()"
      ],
      "metadata": {
        "colab": {
          "base_uri": "https://localhost:8080/",
          "height": 742
        },
        "id": "InpuFSkTVMOC",
        "outputId": "8c1216bc-787b-442a-e846-0da3ef102b1a"
      },
      "execution_count": null,
      "outputs": [
        {
          "output_type": "stream",
          "name": "stdout",
          "text": [
            "Building the style transfer model..\n",
            "Optimizing..\n"
          ]
        },
        {
          "output_type": "stream",
          "name": "stderr",
          "text": [
            "<ipython-input-11-30ad8c495860>:54: UserWarning: To copy construct from a tensor, it is recommended to use sourceTensor.clone().detach() or sourceTensor.clone().detach().requires_grad_(True), rather than torch.tensor(sourceTensor).\n",
            "  self.mean = th.tensor(mean).view(-1, 1, 1)\n",
            "<ipython-input-11-30ad8c495860>:55: UserWarning: To copy construct from a tensor, it is recommended to use sourceTensor.clone().detach() or sourceTensor.clone().detach().requires_grad_(True), rather than torch.tensor(sourceTensor).\n",
            "  self.std = th.tensor(std).view(-1, 1, 1)\n"
          ]
        },
        {
          "output_type": "stream",
          "name": "stdout",
          "text": [
            "run [50]:\n",
            "Style Loss : 237.665192 Content Loss: 23.469215\n",
            "\n",
            "run [100]:\n",
            "Style Loss : 20.581173 Content Loss: 23.661520\n",
            "\n",
            "run [150]:\n",
            "Style Loss : 5.846834 Content Loss: 23.468082\n",
            "\n",
            "run [200]:\n",
            "Style Loss : 3.731328 Content Loss: 23.177299\n",
            "\n",
            "run [250]:\n",
            "Style Loss : 2.845910 Content Loss: 22.844929\n",
            "\n",
            "run [300]:\n",
            "Style Loss : 2.296438 Content Loss: 22.585522\n",
            "\n"
          ]
        },
        {
          "output_type": "display_data",
          "data": {
            "text/plain": [
              "<Figure size 432x288 with 1 Axes>"
            ],
            "image/png": "[encoded data removed]"
          },
          "metadata": {
            "needs_background": "light"
          }
        }
      ]
    }
  ]
}