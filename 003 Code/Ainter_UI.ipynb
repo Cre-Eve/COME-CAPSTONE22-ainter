{
  "nbformat": 4,
  "nbformat_minor": 0,
  "metadata": {
    "colab": {
      "provenance": []
    },
    "kernelspec": {
      "name": "python3",
      "display_name": "Python 3"
    },
    "language_info": {
      "name": "python"
    },
    "accelerator": "GPU",
    "gpuClass": "standard",
    "widgets": {
      "application/vnd.jupyter.widget-state+json": {
        "b4018a03ebe74b0591c14aa3c394de24": {
          "model_module": "@jupyter-widgets/controls",
          "model_name": "HBoxModel",
          "model_module_version": "1.5.0",
          "state": {
            "_dom_classes": [],
            "_model_module": "@jupyter-widgets/controls",
            "_model_module_version": "1.5.0",
            "_model_name": "HBoxModel",
            "_view_count": null,
            "_view_module": "@jupyter-widgets/controls",
            "_view_module_version": "1.5.0",
            "_view_name": "HBoxView",
            "box_style": "",
            "children": [
              "IPY_MODEL_a12c76abd01846aea2c9c0092375695b",
              "IPY_MODEL_78c3d5ddece34539a916fd1c50b22667",
              "IPY_MODEL_918934a181954b61886c299395d755d0"
            ],
            "layout": "IPY_MODEL_98161601581242fa813044b3f906c16e"
          }
        },
        "a12c76abd01846aea2c9c0092375695b": {
          "model_module": "@jupyter-widgets/controls",
          "model_name": "HTMLModel",
          "model_module_version": "1.5.0",
          "state": {
            "_dom_classes": [],
            "_model_module": "@jupyter-widgets/controls",
            "_model_module_version": "1.5.0",
            "_model_name": "HTMLModel",
            "_view_count": null,
            "_view_module": "@jupyter-widgets/controls",
            "_view_module_version": "1.5.0",
            "_view_name": "HTMLView",
            "description": "",
            "description_tooltip": null,
            "layout": "IPY_MODEL_786ffb42eb0a40e389c7b0e4b8dea891",
            "placeholder": "​",
            "style": "IPY_MODEL_371fa8fbd19a4003a2ed76865bf84293",
            "value": "100%"
          }
        },
        "78c3d5ddece34539a916fd1c50b22667": {
          "model_module": "@jupyter-widgets/controls",
          "model_name": "FloatProgressModel",
          "model_module_version": "1.5.0",
          "state": {
            "_dom_classes": [],
            "_model_module": "@jupyter-widgets/controls",
            "_model_module_version": "1.5.0",
            "_model_name": "FloatProgressModel",
            "_view_count": null,
            "_view_module": "@jupyter-widgets/controls",
            "_view_module_version": "1.5.0",
            "_view_name": "ProgressView",
            "bar_style": "success",
            "description": "",
            "description_tooltip": null,
            "layout": "IPY_MODEL_86f502188d664fb0b864ce4a213866fd",
            "max": 345831113,
            "min": 0,
            "orientation": "horizontal",
            "style": "IPY_MODEL_2da6d6d7bd0a4776823850e0f82ff590",
            "value": 345831113
          }
        },
        "918934a181954b61886c299395d755d0": {
          "model_module": "@jupyter-widgets/controls",
          "model_name": "HTMLModel",
          "model_module_version": "1.5.0",
          "state": {
            "_dom_classes": [],
            "_model_module": "@jupyter-widgets/controls",
            "_model_module_version": "1.5.0",
            "_model_name": "HTMLModel",
            "_view_count": null,
            "_view_module": "@jupyter-widgets/controls",
            "_view_module_version": "1.5.0",
            "_view_name": "HTMLView",
            "description": "",
            "description_tooltip": null,
            "layout": "IPY_MODEL_00dec9a534044fd5be5a59fa20b0cf66",
            "placeholder": "​",
            "style": "IPY_MODEL_92c21b98d9644f74bad5fcd2954b1ec6",
            "value": " 346M/346M [00:07&lt;00:00, 46.7MiB/s]"
          }
        },
        "98161601581242fa813044b3f906c16e": {
          "model_module": "@jupyter-widgets/base",
          "model_name": "LayoutModel",
          "model_module_version": "1.2.0",
          "state": {
            "_model_module": "@jupyter-widgets/base",
            "_model_module_version": "1.2.0",
            "_model_name": "LayoutModel",
            "_view_count": null,
            "_view_module": "@jupyter-widgets/base",
            "_view_module_version": "1.2.0",
            "_view_name": "LayoutView",
            "align_content": null,
            "align_items": null,
            "align_self": null,
            "border": null,
            "bottom": null,
            "display": null,
            "flex": null,
            "flex_flow": null,
            "grid_area": null,
            "grid_auto_columns": null,
            "grid_auto_flow": null,
            "grid_auto_rows": null,
            "grid_column": null,
            "grid_gap": null,
            "grid_row": null,
            "grid_template_areas": null,
            "grid_template_columns": null,
            "grid_template_rows": null,
            "height": null,
            "justify_content": null,
            "justify_items": null,
            "left": null,
            "margin": null,
            "max_height": null,
            "max_width": null,
            "min_height": null,
            "min_width": null,
            "object_fit": null,
            "object_position": null,
            "order": null,
            "overflow": null,
            "overflow_x": null,
            "overflow_y": null,
            "padding": null,
            "right": null,
            "top": null,
            "visibility": null,
            "width": null
          }
        },
        "786ffb42eb0a40e389c7b0e4b8dea891": {
          "model_module": "@jupyter-widgets/base",
          "model_name": "LayoutModel",
          "model_module_version": "1.2.0",
          "state": {
            "_model_module": "@jupyter-widgets/base",
            "_model_module_version": "1.2.0",
            "_model_name": "LayoutModel",
            "_view_count": null,
            "_view_module": "@jupyter-widgets/base",
            "_view_module_version": "1.2.0",
            "_view_name": "LayoutView",
            "align_content": null,
            "align_items": null,
            "align_self": null,
            "border": null,
            "bottom": null,
            "display": null,
            "flex": null,
            "flex_flow": null,
            "grid_area": null,
            "grid_auto_columns": null,
            "grid_auto_flow": null,
            "grid_auto_rows": null,
            "grid_column": null,
            "grid_gap": null,
            "grid_row": null,
            "grid_template_areas": null,
            "grid_template_columns": null,
            "grid_template_rows": null,
            "height": null,
            "justify_content": null,
            "justify_items": null,
            "left": null,
            "margin": null,
            "max_height": null,
            "max_width": null,
            "min_height": null,
            "min_width": null,
            "object_fit": null,
            "object_position": null,
            "order": null,
            "overflow": null,
            "overflow_x": null,
            "overflow_y": null,
            "padding": null,
            "right": null,
            "top": null,
            "visibility": null,
            "width": null
          }
        },
        "371fa8fbd19a4003a2ed76865bf84293": {
          "model_module": "@jupyter-widgets/controls",
          "model_name": "DescriptionStyleModel",
          "model_module_version": "1.5.0",
          "state": {
            "_model_module": "@jupyter-widgets/controls",
            "_model_module_version": "1.5.0",
            "_model_name": "DescriptionStyleModel",
            "_view_count": null,
            "_view_module": "@jupyter-widgets/base",
            "_view_module_version": "1.2.0",
            "_view_name": "StyleView",
            "description_width": ""
          }
        },
        "86f502188d664fb0b864ce4a213866fd": {
          "model_module": "@jupyter-widgets/base",
          "model_name": "LayoutModel",
          "model_module_version": "1.2.0",
          "state": {
            "_model_module": "@jupyter-widgets/base",
            "_model_module_version": "1.2.0",
            "_model_name": "LayoutModel",
            "_view_count": null,
            "_view_module": "@jupyter-widgets/base",
            "_view_module_version": "1.2.0",
            "_view_name": "LayoutView",
            "align_content": null,
            "align_items": null,
            "align_self": null,
            "border": null,
            "bottom": null,
            "display": null,
            "flex": null,
            "flex_flow": null,
            "grid_area": null,
            "grid_auto_columns": null,
            "grid_auto_flow": null,
            "grid_auto_rows": null,
            "grid_column": null,
            "grid_gap": null,
            "grid_row": null,
            "grid_template_areas": null,
            "grid_template_columns": null,
            "grid_template_rows": null,
            "height": null,
            "justify_content": null,
            "justify_items": null,
            "left": null,
            "margin": null,
            "max_height": null,
            "max_width": null,
            "min_height": null,
            "min_width": null,
            "object_fit": null,
            "object_position": null,
            "order": null,
            "overflow": null,
            "overflow_x": null,
            "overflow_y": null,
            "padding": null,
            "right": null,
            "top": null,
            "visibility": null,
            "width": null
          }
        },
        "2da6d6d7bd0a4776823850e0f82ff590": {
          "model_module": "@jupyter-widgets/controls",
          "model_name": "ProgressStyleModel",
          "model_module_version": "1.5.0",
          "state": {
            "_model_module": "@jupyter-widgets/controls",
            "_model_module_version": "1.5.0",
            "_model_name": "ProgressStyleModel",
            "_view_count": null,
            "_view_module": "@jupyter-widgets/base",
            "_view_module_version": "1.2.0",
            "_view_name": "StyleView",
            "bar_color": null,
            "description_width": ""
          }
        },
        "00dec9a534044fd5be5a59fa20b0cf66": {
          "model_module": "@jupyter-widgets/base",
          "model_name": "LayoutModel",
          "model_module_version": "1.2.0",
          "state": {
            "_model_module": "@jupyter-widgets/base",
            "_model_module_version": "1.2.0",
            "_model_name": "LayoutModel",
            "_view_count": null,
            "_view_module": "@jupyter-widgets/base",
            "_view_module_version": "1.2.0",
            "_view_name": "LayoutView",
            "align_content": null,
            "align_items": null,
            "align_self": null,
            "border": null,
            "bottom": null,
            "display": null,
            "flex": null,
            "flex_flow": null,
            "grid_area": null,
            "grid_auto_columns": null,
            "grid_auto_flow": null,
            "grid_auto_rows": null,
            "grid_column": null,
            "grid_gap": null,
            "grid_row": null,
            "grid_template_areas": null,
            "grid_template_columns": null,
            "grid_template_rows": null,
            "height": null,
            "justify_content": null,
            "justify_items": null,
            "left": null,
            "margin": null,
            "max_height": null,
            "max_width": null,
            "min_height": null,
            "min_width": null,
            "object_fit": null,
            "object_position": null,
            "order": null,
            "overflow": null,
            "overflow_x": null,
            "overflow_y": null,
            "padding": null,
            "right": null,
            "top": null,
            "visibility": null,
            "width": null
          }
        },
        "92c21b98d9644f74bad5fcd2954b1ec6": {
          "model_module": "@jupyter-widgets/controls",
          "model_name": "DescriptionStyleModel",
          "model_module_version": "1.5.0",
          "state": {
            "_model_module": "@jupyter-widgets/controls",
            "_model_module_version": "1.5.0",
            "_model_name": "DescriptionStyleModel",
            "_view_count": null,
            "_view_module": "@jupyter-widgets/base",
            "_view_module_version": "1.2.0",
            "_view_name": "StyleView",
            "description_width": ""
          }
        },
        "66c40a51a18e48a89435e5e365f525de": {
          "model_module": "@jupyter-widgets/controls",
          "model_name": "HBoxModel",
          "model_module_version": "1.5.0",
          "state": {
            "_dom_classes": [],
            "_model_module": "@jupyter-widgets/controls",
            "_model_module_version": "1.5.0",
            "_model_name": "HBoxModel",
            "_view_count": null,
            "_view_module": "@jupyter-widgets/controls",
            "_view_module_version": "1.5.0",
            "_view_name": "HBoxView",
            "box_style": "",
            "children": [
              "IPY_MODEL_c666f5651806449dbf68bc6d6891b507",
              "IPY_MODEL_0fd962eaf39b44a2857bf4dbf5dddbd8",
              "IPY_MODEL_c9c9f0bf55724eafbc6b8af2beae27b9"
            ],
            "layout": "IPY_MODEL_8e8bb4c27fd54a1c80690c6ed896283d"
          }
        },
        "c666f5651806449dbf68bc6d6891b507": {
          "model_module": "@jupyter-widgets/controls",
          "model_name": "HTMLModel",
          "model_module_version": "1.5.0",
          "state": {
            "_dom_classes": [],
            "_model_module": "@jupyter-widgets/controls",
            "_model_module_version": "1.5.0",
            "_model_name": "HTMLModel",
            "_view_count": null,
            "_view_module": "@jupyter-widgets/controls",
            "_view_module_version": "1.5.0",
            "_view_name": "HTMLView",
            "description": "",
            "description_tooltip": null,
            "layout": "IPY_MODEL_9927ed95d7914c19be255b38c07961cc",
            "placeholder": "​",
            "style": "IPY_MODEL_0a26f6d3724d4a5fb8751c0cb4f3308c",
            "value": "100%"
          }
        },
        "0fd962eaf39b44a2857bf4dbf5dddbd8": {
          "model_module": "@jupyter-widgets/controls",
          "model_name": "FloatProgressModel",
          "model_module_version": "1.5.0",
          "state": {
            "_dom_classes": [],
            "_model_module": "@jupyter-widgets/controls",
            "_model_module_version": "1.5.0",
            "_model_name": "FloatProgressModel",
            "_view_count": null,
            "_view_module": "@jupyter-widgets/controls",
            "_view_module_version": "1.5.0",
            "_view_name": "ProgressView",
            "bar_style": "success",
            "description": "",
            "description_tooltip": null,
            "layout": "IPY_MODEL_597e212e4585407da4d31cc18e14c7aa",
            "max": 286773071,
            "min": 0,
            "orientation": "horizontal",
            "style": "IPY_MODEL_04a14c90824b4266aeca69de3644ecdf",
            "value": 286773071
          }
        },
        "c9c9f0bf55724eafbc6b8af2beae27b9": {
          "model_module": "@jupyter-widgets/controls",
          "model_name": "HTMLModel",
          "model_module_version": "1.5.0",
          "state": {
            "_dom_classes": [],
            "_model_module": "@jupyter-widgets/controls",
            "_model_module_version": "1.5.0",
            "_model_name": "HTMLModel",
            "_view_count": null,
            "_view_module": "@jupyter-widgets/controls",
            "_view_module_version": "1.5.0",
            "_view_name": "HTMLView",
            "description": "",
            "description_tooltip": null,
            "layout": "IPY_MODEL_e8d85767f4ee4892bcd07dc7df1cdd40",
            "placeholder": "​",
            "style": "IPY_MODEL_328e47638faf4774ad0071f1222cd019",
            "value": " 287M/287M [00:06&lt;00:00, 45.7MiB/s]"
          }
        },
        "8e8bb4c27fd54a1c80690c6ed896283d": {
          "model_module": "@jupyter-widgets/base",
          "model_name": "LayoutModel",
          "model_module_version": "1.2.0",
          "state": {
            "_model_module": "@jupyter-widgets/base",
            "_model_module_version": "1.2.0",
            "_model_name": "LayoutModel",
            "_view_count": null,
            "_view_module": "@jupyter-widgets/base",
            "_view_module_version": "1.2.0",
            "_view_name": "LayoutView",
            "align_content": null,
            "align_items": null,
            "align_self": null,
            "border": null,
            "bottom": null,
            "display": null,
            "flex": null,
            "flex_flow": null,
            "grid_area": null,
            "grid_auto_columns": null,
            "grid_auto_flow": null,
            "grid_auto_rows": null,
            "grid_column": null,
            "grid_gap": null,
            "grid_row": null,
            "grid_template_areas": null,
            "grid_template_columns": null,
            "grid_template_rows": null,
            "height": null,
            "justify_content": null,
            "justify_items": null,
            "left": null,
            "margin": null,
            "max_height": null,
            "max_width": null,
            "min_height": null,
            "min_width": null,
            "object_fit": null,
            "object_position": null,
            "order": null,
            "overflow": null,
            "overflow_x": null,
            "overflow_y": null,
            "padding": null,
            "right": null,
            "top": null,
            "visibility": null,
            "width": null
          }
        },
        "9927ed95d7914c19be255b38c07961cc": {
          "model_module": "@jupyter-widgets/base",
          "model_name": "LayoutModel",
          "model_module_version": "1.2.0",
          "state": {
            "_model_module": "@jupyter-widgets/base",
            "_model_module_version": "1.2.0",
            "_model_name": "LayoutModel",
            "_view_count": null,
            "_view_module": "@jupyter-widgets/base",
            "_view_module_version": "1.2.0",
            "_view_name": "LayoutView",
            "align_content": null,
            "align_items": null,
            "align_self": null,
            "border": null,
            "bottom": null,
            "display": null,
            "flex": null,
            "flex_flow": null,
            "grid_area": null,
            "grid_auto_columns": null,
            "grid_auto_flow": null,
            "grid_auto_rows": null,
            "grid_column": null,
            "grid_gap": null,
            "grid_row": null,
            "grid_template_areas": null,
            "grid_template_columns": null,
            "grid_template_rows": null,
            "height": null,
            "justify_content": null,
            "justify_items": null,
            "left": null,
            "margin": null,
            "max_height": null,
            "max_width": null,
            "min_height": null,
            "min_width": null,
            "object_fit": null,
            "object_position": null,
            "order": null,
            "overflow": null,
            "overflow_x": null,
            "overflow_y": null,
            "padding": null,
            "right": null,
            "top": null,
            "visibility": null,
            "width": null
          }
        },
        "0a26f6d3724d4a5fb8751c0cb4f3308c": {
          "model_module": "@jupyter-widgets/controls",
          "model_name": "DescriptionStyleModel",
          "model_module_version": "1.5.0",
          "state": {
            "_model_module": "@jupyter-widgets/controls",
            "_model_module_version": "1.5.0",
            "_model_name": "DescriptionStyleModel",
            "_view_count": null,
            "_view_module": "@jupyter-widgets/base",
            "_view_module_version": "1.2.0",
            "_view_name": "StyleView",
            "description_width": ""
          }
        },
        "597e212e4585407da4d31cc18e14c7aa": {
          "model_module": "@jupyter-widgets/base",
          "model_name": "LayoutModel",
          "model_module_version": "1.2.0",
          "state": {
            "_model_module": "@jupyter-widgets/base",
            "_model_module_version": "1.2.0",
            "_model_name": "LayoutModel",
            "_view_count": null,
            "_view_module": "@jupyter-widgets/base",
            "_view_module_version": "1.2.0",
            "_view_name": "LayoutView",
            "align_content": null,
            "align_items": null,
            "align_self": null,
            "border": null,
            "bottom": null,
            "display": null,
            "flex": null,
            "flex_flow": null,
            "grid_area": null,
            "grid_auto_columns": null,
            "grid_auto_flow": null,
            "grid_auto_rows": null,
            "grid_column": null,
            "grid_gap": null,
            "grid_row": null,
            "grid_template_areas": null,
            "grid_template_columns": null,
            "grid_template_rows": null,
            "height": null,
            "justify_content": null,
            "justify_items": null,
            "left": null,
            "margin": null,
            "max_height": null,
            "max_width": null,
            "min_height": null,
            "min_width": null,
            "object_fit": null,
            "object_position": null,
            "order": null,
            "overflow": null,
            "overflow_x": null,
            "overflow_y": null,
            "padding": null,
            "right": null,
            "top": null,
            "visibility": null,
            "width": null
          }
        },
        "04a14c90824b4266aeca69de3644ecdf": {
          "model_module": "@jupyter-widgets/controls",
          "model_name": "ProgressStyleModel",
          "model_module_version": "1.5.0",
          "state": {
            "_model_module": "@jupyter-widgets/controls",
            "_model_module_version": "1.5.0",
            "_model_name": "ProgressStyleModel",
            "_view_count": null,
            "_view_module": "@jupyter-widgets/base",
            "_view_module_version": "1.2.0",
            "_view_name": "StyleView",
            "bar_color": null,
            "description_width": ""
          }
        },
        "e8d85767f4ee4892bcd07dc7df1cdd40": {
          "model_module": "@jupyter-widgets/base",
          "model_name": "LayoutModel",
          "model_module_version": "1.2.0",
          "state": {
            "_model_module": "@jupyter-widgets/base",
            "_model_module_version": "1.2.0",
            "_model_name": "LayoutModel",
            "_view_count": null,
            "_view_module": "@jupyter-widgets/base",
            "_view_module_version": "1.2.0",
            "_view_name": "LayoutView",
            "align_content": null,
            "align_items": null,
            "align_self": null,
            "border": null,
            "bottom": null,
            "display": null,
            "flex": null,
            "flex_flow": null,
            "grid_area": null,
            "grid_auto_columns": null,
            "grid_auto_flow": null,
            "grid_auto_rows": null,
            "grid_column": null,
            "grid_gap": null,
            "grid_row": null,
            "grid_template_areas": null,
            "grid_template_columns": null,
            "grid_template_rows": null,
            "height": null,
            "justify_content": null,
            "justify_items": null,
            "left": null,
            "margin": null,
            "max_height": null,
            "max_width": null,
            "min_height": null,
            "min_width": null,
            "object_fit": null,
            "object_position": null,
            "order": null,
            "overflow": null,
            "overflow_x": null,
            "overflow_y": null,
            "padding": null,
            "right": null,
            "top": null,
            "visibility": null,
            "width": null
          }
        },
        "328e47638faf4774ad0071f1222cd019": {
          "model_module": "@jupyter-widgets/controls",
          "model_name": "DescriptionStyleModel",
          "model_module_version": "1.5.0",
          "state": {
            "_model_module": "@jupyter-widgets/controls",
            "_model_module_version": "1.5.0",
            "_model_name": "DescriptionStyleModel",
            "_view_count": null,
            "_view_module": "@jupyter-widgets/base",
            "_view_module_version": "1.2.0",
            "_view_name": "StyleView",
            "description_width": ""
          }
        },
        "e7b211689fb0468086fad2862050b853": {
          "model_module": "@jupyter-widgets/controls",
          "model_name": "HBoxModel",
          "model_module_version": "1.5.0",
          "state": {
            "_dom_classes": [],
            "_model_module": "@jupyter-widgets/controls",
            "_model_module_version": "1.5.0",
            "_model_name": "HBoxModel",
            "_view_count": null,
            "_view_module": "@jupyter-widgets/controls",
            "_view_module_version": "1.5.0",
            "_view_name": "HBoxView",
            "box_style": "",
            "children": [
              "IPY_MODEL_076af0cb4c924b78ac3edd50804d854c",
              "IPY_MODEL_eed657f23e594d8e9369ec721f03978b",
              "IPY_MODEL_1b8834d3a9ec420983a05ec02d53458a"
            ],
            "layout": "IPY_MODEL_30e00f6be2464cef85c05bd4c197b025"
          }
        },
        "076af0cb4c924b78ac3edd50804d854c": {
          "model_module": "@jupyter-widgets/controls",
          "model_name": "HTMLModel",
          "model_module_version": "1.5.0",
          "state": {
            "_dom_classes": [],
            "_model_module": "@jupyter-widgets/controls",
            "_model_module_version": "1.5.0",
            "_model_name": "HTMLModel",
            "_view_count": null,
            "_view_module": "@jupyter-widgets/controls",
            "_view_module_version": "1.5.0",
            "_view_name": "HTMLView",
            "description": "",
            "description_tooltip": null,
            "layout": "IPY_MODEL_10100dec22df432db0d03ac84b9783d0",
            "placeholder": "​",
            "style": "IPY_MODEL_27cbf4b0a65e419c811d4e428e75efbc",
            "value": "100%"
          }
        },
        "eed657f23e594d8e9369ec721f03978b": {
          "model_module": "@jupyter-widgets/controls",
          "model_name": "FloatProgressModel",
          "model_module_version": "1.5.0",
          "state": {
            "_dom_classes": [],
            "_model_module": "@jupyter-widgets/controls",
            "_model_module_version": "1.5.0",
            "_model_name": "FloatProgressModel",
            "_view_count": null,
            "_view_module": "@jupyter-widgets/controls",
            "_view_module_version": "1.5.0",
            "_view_name": "ProgressView",
            "bar_style": "success",
            "description": "",
            "description_tooltip": null,
            "layout": "IPY_MODEL_751d36ac819b4e2c9e2c8b6b2375181f",
            "max": 1540366691,
            "min": 0,
            "orientation": "horizontal",
            "style": "IPY_MODEL_61d117417a2e470b8051dd3abb852ddd",
            "value": 1540366691
          }
        },
        "1b8834d3a9ec420983a05ec02d53458a": {
          "model_module": "@jupyter-widgets/controls",
          "model_name": "HTMLModel",
          "model_module_version": "1.5.0",
          "state": {
            "_dom_classes": [],
            "_model_module": "@jupyter-widgets/controls",
            "_model_module_version": "1.5.0",
            "_model_name": "HTMLModel",
            "_view_count": null,
            "_view_module": "@jupyter-widgets/controls",
            "_view_module_version": "1.5.0",
            "_view_name": "HTMLView",
            "description": "",
            "description_tooltip": null,
            "layout": "IPY_MODEL_337dcd89d2ae4692bbfbaa0b6fd357b4",
            "placeholder": "​",
            "style": "IPY_MODEL_310e0b97fe114548b7b0dfc1db8677ae",
            "value": " 1.54G/1.54G [00:36&lt;00:00, 59.8MiB/s]"
          }
        },
        "30e00f6be2464cef85c05bd4c197b025": {
          "model_module": "@jupyter-widgets/base",
          "model_name": "LayoutModel",
          "model_module_version": "1.2.0",
          "state": {
            "_model_module": "@jupyter-widgets/base",
            "_model_module_version": "1.2.0",
            "_model_name": "LayoutModel",
            "_view_count": null,
            "_view_module": "@jupyter-widgets/base",
            "_view_module_version": "1.2.0",
            "_view_name": "LayoutView",
            "align_content": null,
            "align_items": null,
            "align_self": null,
            "border": null,
            "bottom": null,
            "display": null,
            "flex": null,
            "flex_flow": null,
            "grid_area": null,
            "grid_auto_columns": null,
            "grid_auto_flow": null,
            "grid_auto_rows": null,
            "grid_column": null,
            "grid_gap": null,
            "grid_row": null,
            "grid_template_areas": null,
            "grid_template_columns": null,
            "grid_template_rows": null,
            "height": null,
            "justify_content": null,
            "justify_items": null,
            "left": null,
            "margin": null,
            "max_height": null,
            "max_width": null,
            "min_height": null,
            "min_width": null,
            "object_fit": null,
            "object_position": null,
            "order": null,
            "overflow": null,
            "overflow_x": null,
            "overflow_y": null,
            "padding": null,
            "right": null,
            "top": null,
            "visibility": null,
            "width": null
          }
        },
        "10100dec22df432db0d03ac84b9783d0": {
          "model_module": "@jupyter-widgets/base",
          "model_name": "LayoutModel",
          "model_module_version": "1.2.0",
          "state": {
            "_model_module": "@jupyter-widgets/base",
            "_model_module_version": "1.2.0",
            "_model_name": "LayoutModel",
            "_view_count": null,
            "_view_module": "@jupyter-widgets/base",
            "_view_module_version": "1.2.0",
            "_view_name": "LayoutView",
            "align_content": null,
            "align_items": null,
            "align_self": null,
            "border": null,
            "bottom": null,
            "display": null,
            "flex": null,
            "flex_flow": null,
            "grid_area": null,
            "grid_auto_columns": null,
            "grid_auto_flow": null,
            "grid_auto_rows": null,
            "grid_column": null,
            "grid_gap": null,
            "grid_row": null,
            "grid_template_areas": null,
            "grid_template_columns": null,
            "grid_template_rows": null,
            "height": null,
            "justify_content": null,
            "justify_items": null,
            "left": null,
            "margin": null,
            "max_height": null,
            "max_width": null,
            "min_height": null,
            "min_width": null,
            "object_fit": null,
            "object_position": null,
            "order": null,
            "overflow": null,
            "overflow_x": null,
            "overflow_y": null,
            "padding": null,
            "right": null,
            "top": null,
            "visibility": null,
            "width": null
          }
        },
        "27cbf4b0a65e419c811d4e428e75efbc": {
          "model_module": "@jupyter-widgets/controls",
          "model_name": "DescriptionStyleModel",
          "model_module_version": "1.5.0",
          "state": {
            "_model_module": "@jupyter-widgets/controls",
            "_model_module_version": "1.5.0",
            "_model_name": "DescriptionStyleModel",
            "_view_count": null,
            "_view_module": "@jupyter-widgets/base",
            "_view_module_version": "1.2.0",
            "_view_name": "StyleView",
            "description_width": ""
          }
        },
        "751d36ac819b4e2c9e2c8b6b2375181f": {
          "model_module": "@jupyter-widgets/base",
          "model_name": "LayoutModel",
          "model_module_version": "1.2.0",
          "state": {
            "_model_module": "@jupyter-widgets/base",
            "_model_module_version": "1.2.0",
            "_model_name": "LayoutModel",
            "_view_count": null,
            "_view_module": "@jupyter-widgets/base",
            "_view_module_version": "1.2.0",
            "_view_name": "LayoutView",
            "align_content": null,
            "align_items": null,
            "align_self": null,
            "border": null,
            "bottom": null,
            "display": null,
            "flex": null,
            "flex_flow": null,
            "grid_area": null,
            "grid_auto_columns": null,
            "grid_auto_flow": null,
            "grid_auto_rows": null,
            "grid_column": null,
            "grid_gap": null,
            "grid_row": null,
            "grid_template_areas": null,
            "grid_template_columns": null,
            "grid_template_rows": null,
            "height": null,
            "justify_content": null,
            "justify_items": null,
            "left": null,
            "margin": null,
            "max_height": null,
            "max_width": null,
            "min_height": null,
            "min_width": null,
            "object_fit": null,
            "object_position": null,
            "order": null,
            "overflow": null,
            "overflow_x": null,
            "overflow_y": null,
            "padding": null,
            "right": null,
            "top": null,
            "visibility": null,
            "width": null
          }
        },
        "61d117417a2e470b8051dd3abb852ddd": {
          "model_module": "@jupyter-widgets/controls",
          "model_name": "ProgressStyleModel",
          "model_module_version": "1.5.0",
          "state": {
            "_model_module": "@jupyter-widgets/controls",
            "_model_module_version": "1.5.0",
            "_model_name": "ProgressStyleModel",
            "_view_count": null,
            "_view_module": "@jupyter-widgets/base",
            "_view_module_version": "1.2.0",
            "_view_name": "StyleView",
            "bar_color": null,
            "description_width": ""
          }
        },
        "337dcd89d2ae4692bbfbaa0b6fd357b4": {
          "model_module": "@jupyter-widgets/base",
          "model_name": "LayoutModel",
          "model_module_version": "1.2.0",
          "state": {
            "_model_module": "@jupyter-widgets/base",
            "_model_module_version": "1.2.0",
            "_model_name": "LayoutModel",
            "_view_count": null,
            "_view_module": "@jupyter-widgets/base",
            "_view_module_version": "1.2.0",
            "_view_name": "LayoutView",
            "align_content": null,
            "align_items": null,
            "align_self": null,
            "border": null,
            "bottom": null,
            "display": null,
            "flex": null,
            "flex_flow": null,
            "grid_area": null,
            "grid_auto_columns": null,
            "grid_auto_flow": null,
            "grid_auto_rows": null,
            "grid_column": null,
            "grid_gap": null,
            "grid_row": null,
            "grid_template_areas": null,
            "grid_template_columns": null,
            "grid_template_rows": null,
            "height": null,
            "justify_content": null,
            "justify_items": null,
            "left": null,
            "margin": null,
            "max_height": null,
            "max_width": null,
            "min_height": null,
            "min_width": null,
            "object_fit": null,
            "object_position": null,
            "order": null,
            "overflow": null,
            "overflow_x": null,
            "overflow_y": null,
            "padding": null,
            "right": null,
            "top": null,
            "visibility": null,
            "width": null
          }
        },
        "310e0b97fe114548b7b0dfc1db8677ae": {
          "model_module": "@jupyter-widgets/controls",
          "model_name": "DescriptionStyleModel",
          "model_module_version": "1.5.0",
          "state": {
            "_model_module": "@jupyter-widgets/controls",
            "_model_module_version": "1.5.0",
            "_model_name": "DescriptionStyleModel",
            "_view_count": null,
            "_view_module": "@jupyter-widgets/base",
            "_view_module_version": "1.2.0",
            "_view_name": "StyleView",
            "description_width": ""
          }
        },
        "0df73d6ee00f42848d84726f71fde830": {
          "model_module": "@jupyter-widgets/controls",
          "model_name": "HBoxModel",
          "model_module_version": "1.5.0",
          "state": {
            "_dom_classes": [],
            "_model_module": "@jupyter-widgets/controls",
            "_model_module_version": "1.5.0",
            "_model_name": "HBoxModel",
            "_view_count": null,
            "_view_module": "@jupyter-widgets/controls",
            "_view_module_version": "1.5.0",
            "_view_name": "HBoxView",
            "box_style": "",
            "children": [
              "IPY_MODEL_f093996878b744fd9ae412047563cf3c",
              "IPY_MODEL_e25e3845d127420e8efd4674a2c0e643",
              "IPY_MODEL_dcfe4b02ebdc47f9bb7b1efd1adc96c0"
            ],
            "layout": "IPY_MODEL_e19cd6fd78204f9aae0d5dbe97131039"
          }
        },
        "f093996878b744fd9ae412047563cf3c": {
          "model_module": "@jupyter-widgets/controls",
          "model_name": "HTMLModel",
          "model_module_version": "1.5.0",
          "state": {
            "_dom_classes": [],
            "_model_module": "@jupyter-widgets/controls",
            "_model_module_version": "1.5.0",
            "_model_name": "HTMLModel",
            "_view_count": null,
            "_view_module": "@jupyter-widgets/controls",
            "_view_module_version": "1.5.0",
            "_view_name": "HTMLView",
            "description": "",
            "description_tooltip": null,
            "layout": "IPY_MODEL_303994217edc4abe836830a73d8ae292",
            "placeholder": "​",
            "style": "IPY_MODEL_cd2f056969ae40488dd8440d980460b4",
            "value": "100%"
          }
        },
        "e25e3845d127420e8efd4674a2c0e643": {
          "model_module": "@jupyter-widgets/controls",
          "model_name": "FloatProgressModel",
          "model_module_version": "1.5.0",
          "state": {
            "_dom_classes": [],
            "_model_module": "@jupyter-widgets/controls",
            "_model_module_version": "1.5.0",
            "_model_name": "FloatProgressModel",
            "_view_count": null,
            "_view_module": "@jupyter-widgets/controls",
            "_view_module_version": "1.5.0",
            "_view_name": "ProgressView",
            "bar_style": "success",
            "description": "",
            "description_tooltip": null,
            "layout": "IPY_MODEL_a0488306e476434eb7cce6a31e213595",
            "max": 1593693639,
            "min": 0,
            "orientation": "horizontal",
            "style": "IPY_MODEL_1f0188c2ec3f4988a3d7586d8fd456cb",
            "value": 1593693639
          }
        },
        "dcfe4b02ebdc47f9bb7b1efd1adc96c0": {
          "model_module": "@jupyter-widgets/controls",
          "model_name": "HTMLModel",
          "model_module_version": "1.5.0",
          "state": {
            "_dom_classes": [],
            "_model_module": "@jupyter-widgets/controls",
            "_model_module_version": "1.5.0",
            "_model_name": "HTMLModel",
            "_view_count": null,
            "_view_module": "@jupyter-widgets/controls",
            "_view_module_version": "1.5.0",
            "_view_name": "HTMLView",
            "description": "",
            "description_tooltip": null,
            "layout": "IPY_MODEL_ac2853673a8243b0859923337abd1452",
            "placeholder": "​",
            "style": "IPY_MODEL_2805359105b04a329f5e88fa79a89fda",
            "value": " 1.59G/1.59G [00:35&lt;00:00, 46.9MiB/s]"
          }
        },
        "e19cd6fd78204f9aae0d5dbe97131039": {
          "model_module": "@jupyter-widgets/base",
          "model_name": "LayoutModel",
          "model_module_version": "1.2.0",
          "state": {
            "_model_module": "@jupyter-widgets/base",
            "_model_module_version": "1.2.0",
            "_model_name": "LayoutModel",
            "_view_count": null,
            "_view_module": "@jupyter-widgets/base",
            "_view_module_version": "1.2.0",
            "_view_name": "LayoutView",
            "align_content": null,
            "align_items": null,
            "align_self": null,
            "border": null,
            "bottom": null,
            "display": null,
            "flex": null,
            "flex_flow": null,
            "grid_area": null,
            "grid_auto_columns": null,
            "grid_auto_flow": null,
            "grid_auto_rows": null,
            "grid_column": null,
            "grid_gap": null,
            "grid_row": null,
            "grid_template_areas": null,
            "grid_template_columns": null,
            "grid_template_rows": null,
            "height": null,
            "justify_content": null,
            "justify_items": null,
            "left": null,
            "margin": null,
            "max_height": null,
            "max_width": null,
            "min_height": null,
            "min_width": null,
            "object_fit": null,
            "object_position": null,
            "order": null,
            "overflow": null,
            "overflow_x": null,
            "overflow_y": null,
            "padding": null,
            "right": null,
            "top": null,
            "visibility": null,
            "width": null
          }
        },
        "303994217edc4abe836830a73d8ae292": {
          "model_module": "@jupyter-widgets/base",
          "model_name": "LayoutModel",
          "model_module_version": "1.2.0",
          "state": {
            "_model_module": "@jupyter-widgets/base",
            "_model_module_version": "1.2.0",
            "_model_name": "LayoutModel",
            "_view_count": null,
            "_view_module": "@jupyter-widgets/base",
            "_view_module_version": "1.2.0",
            "_view_name": "LayoutView",
            "align_content": null,
            "align_items": null,
            "align_self": null,
            "border": null,
            "bottom": null,
            "display": null,
            "flex": null,
            "flex_flow": null,
            "grid_area": null,
            "grid_auto_columns": null,
            "grid_auto_flow": null,
            "grid_auto_rows": null,
            "grid_column": null,
            "grid_gap": null,
            "grid_row": null,
            "grid_template_areas": null,
            "grid_template_columns": null,
            "grid_template_rows": null,
            "height": null,
            "justify_content": null,
            "justify_items": null,
            "left": null,
            "margin": null,
            "max_height": null,
            "max_width": null,
            "min_height": null,
            "min_width": null,
            "object_fit": null,
            "object_position": null,
            "order": null,
            "overflow": null,
            "overflow_x": null,
            "overflow_y": null,
            "padding": null,
            "right": null,
            "top": null,
            "visibility": null,
            "width": null
          }
        },
        "cd2f056969ae40488dd8440d980460b4": {
          "model_module": "@jupyter-widgets/controls",
          "model_name": "DescriptionStyleModel",
          "model_module_version": "1.5.0",
          "state": {
            "_model_module": "@jupyter-widgets/controls",
            "_model_module_version": "1.5.0",
            "_model_name": "DescriptionStyleModel",
            "_view_count": null,
            "_view_module": "@jupyter-widgets/base",
            "_view_module_version": "1.2.0",
            "_view_name": "StyleView",
            "description_width": ""
          }
        },
        "a0488306e476434eb7cce6a31e213595": {
          "model_module": "@jupyter-widgets/base",
          "model_name": "LayoutModel",
          "model_module_version": "1.2.0",
          "state": {
            "_model_module": "@jupyter-widgets/base",
            "_model_module_version": "1.2.0",
            "_model_name": "LayoutModel",
            "_view_count": null,
            "_view_module": "@jupyter-widgets/base",
            "_view_module_version": "1.2.0",
            "_view_name": "LayoutView",
            "align_content": null,
            "align_items": null,
            "align_self": null,
            "border": null,
            "bottom": null,
            "display": null,
            "flex": null,
            "flex_flow": null,
            "grid_area": null,
            "grid_auto_columns": null,
            "grid_auto_flow": null,
            "grid_auto_rows": null,
            "grid_column": null,
            "grid_gap": null,
            "grid_row": null,
            "grid_template_areas": null,
            "grid_template_columns": null,
            "grid_template_rows": null,
            "height": null,
            "justify_content": null,
            "justify_items": null,
            "left": null,
            "margin": null,
            "max_height": null,
            "max_width": null,
            "min_height": null,
            "min_width": null,
            "object_fit": null,
            "object_position": null,
            "order": null,
            "overflow": null,
            "overflow_x": null,
            "overflow_y": null,
            "padding": null,
            "right": null,
            "top": null,
            "visibility": null,
            "width": null
          }
        },
        "1f0188c2ec3f4988a3d7586d8fd456cb": {
          "model_module": "@jupyter-widgets/controls",
          "model_name": "ProgressStyleModel",
          "model_module_version": "1.5.0",
          "state": {
            "_model_module": "@jupyter-widgets/controls",
            "_model_module_version": "1.5.0",
            "_model_name": "ProgressStyleModel",
            "_view_count": null,
            "_view_module": "@jupyter-widgets/base",
            "_view_module_version": "1.2.0",
            "_view_name": "StyleView",
            "bar_color": null,
            "description_width": ""
          }
        },
        "ac2853673a8243b0859923337abd1452": {
          "model_module": "@jupyter-widgets/base",
          "model_name": "LayoutModel",
          "model_module_version": "1.2.0",
          "state": {
            "_model_module": "@jupyter-widgets/base",
            "_model_module_version": "1.2.0",
            "_model_name": "LayoutModel",
            "_view_count": null,
            "_view_module": "@jupyter-widgets/base",
            "_view_module_version": "1.2.0",
            "_view_name": "LayoutView",
            "align_content": null,
            "align_items": null,
            "align_self": null,
            "border": null,
            "bottom": null,
            "display": null,
            "flex": null,
            "flex_flow": null,
            "grid_area": null,
            "grid_auto_columns": null,
            "grid_auto_flow": null,
            "grid_auto_rows": null,
            "grid_column": null,
            "grid_gap": null,
            "grid_row": null,
            "grid_template_areas": null,
            "grid_template_columns": null,
            "grid_template_rows": null,
            "height": null,
            "justify_content": null,
            "justify_items": null,
            "left": null,
            "margin": null,
            "max_height": null,
            "max_width": null,
            "min_height": null,
            "min_width": null,
            "object_fit": null,
            "object_position": null,
            "order": null,
            "overflow": null,
            "overflow_x": null,
            "overflow_y": null,
            "padding": null,
            "right": null,
            "top": null,
            "visibility": null,
            "width": null
          }
        },
        "2805359105b04a329f5e88fa79a89fda": {
          "model_module": "@jupyter-widgets/controls",
          "model_name": "DescriptionStyleModel",
          "model_module_version": "1.5.0",
          "state": {
            "_model_module": "@jupyter-widgets/controls",
            "_model_module_version": "1.5.0",
            "_model_name": "DescriptionStyleModel",
            "_view_count": null,
            "_view_module": "@jupyter-widgets/base",
            "_view_module_version": "1.2.0",
            "_view_name": "StyleView",
            "description_width": ""
          }
        },
        "369c8844a3fb40cfb96aff14a3f6dad4": {
          "model_module": "@jupyter-widgets/controls",
          "model_name": "HBoxModel",
          "model_module_version": "1.5.0",
          "state": {
            "_dom_classes": [],
            "_model_module": "@jupyter-widgets/controls",
            "_model_module_version": "1.5.0",
            "_model_name": "HBoxModel",
            "_view_count": null,
            "_view_module": "@jupyter-widgets/controls",
            "_view_module_version": "1.5.0",
            "_view_name": "HBoxView",
            "box_style": "",
            "children": [
              "IPY_MODEL_fa54501f3dca417785c3b2974ffeec6d",
              "IPY_MODEL_de490a57f44a4363b1c8e2ab36eee5de",
              "IPY_MODEL_4bb55b2a31a340b0a6b26252c35c3806"
            ],
            "layout": "IPY_MODEL_4d6a51ee4a8b4c268b1199ff89fa956e"
          }
        },
        "fa54501f3dca417785c3b2974ffeec6d": {
          "model_module": "@jupyter-widgets/controls",
          "model_name": "HTMLModel",
          "model_module_version": "1.5.0",
          "state": {
            "_dom_classes": [],
            "_model_module": "@jupyter-widgets/controls",
            "_model_module_version": "1.5.0",
            "_model_name": "HTMLModel",
            "_view_count": null,
            "_view_module": "@jupyter-widgets/controls",
            "_view_module_version": "1.5.0",
            "_view_name": "HTMLView",
            "description": "",
            "description_tooltip": null,
            "layout": "IPY_MODEL_0e1fce180a184ce398f32b79db182ced",
            "placeholder": "​",
            "style": "IPY_MODEL_290a047bb3fb4e65a324ce6e4f606122",
            "value": "100%"
          }
        },
        "de490a57f44a4363b1c8e2ab36eee5de": {
          "model_module": "@jupyter-widgets/controls",
          "model_name": "FloatProgressModel",
          "model_module_version": "1.5.0",
          "state": {
            "_dom_classes": [],
            "_model_module": "@jupyter-widgets/controls",
            "_model_module_version": "1.5.0",
            "_model_name": "FloatProgressModel",
            "_view_count": null,
            "_view_module": "@jupyter-widgets/controls",
            "_view_module_version": "1.5.0",
            "_view_name": "ProgressView",
            "bar_style": "success",
            "description": "",
            "description_tooltip": null,
            "layout": "IPY_MODEL_40f06b22943d4077bf49387466d5edf0",
            "max": 574673361,
            "min": 0,
            "orientation": "horizontal",
            "style": "IPY_MODEL_5549c54544dd4e4fb05eb3e89cb3926b",
            "value": 574673361
          }
        },
        "4bb55b2a31a340b0a6b26252c35c3806": {
          "model_module": "@jupyter-widgets/controls",
          "model_name": "HTMLModel",
          "model_module_version": "1.5.0",
          "state": {
            "_dom_classes": [],
            "_model_module": "@jupyter-widgets/controls",
            "_model_module_version": "1.5.0",
            "_model_name": "HTMLModel",
            "_view_count": null,
            "_view_module": "@jupyter-widgets/controls",
            "_view_module_version": "1.5.0",
            "_view_name": "HTMLView",
            "description": "",
            "description_tooltip": null,
            "layout": "IPY_MODEL_0092a2f46da94872980bdee277161cff",
            "placeholder": "​",
            "style": "IPY_MODEL_d51e2aaa98e447b0924fd1eddc878f5d",
            "value": " 548M/548M [00:09&lt;00:00, 68.9MB/s]"
          }
        },
        "4d6a51ee4a8b4c268b1199ff89fa956e": {
          "model_module": "@jupyter-widgets/base",
          "model_name": "LayoutModel",
          "model_module_version": "1.2.0",
          "state": {
            "_model_module": "@jupyter-widgets/base",
            "_model_module_version": "1.2.0",
            "_model_name": "LayoutModel",
            "_view_count": null,
            "_view_module": "@jupyter-widgets/base",
            "_view_module_version": "1.2.0",
            "_view_name": "LayoutView",
            "align_content": null,
            "align_items": null,
            "align_self": null,
            "border": null,
            "bottom": null,
            "display": null,
            "flex": null,
            "flex_flow": null,
            "grid_area": null,
            "grid_auto_columns": null,
            "grid_auto_flow": null,
            "grid_auto_rows": null,
            "grid_column": null,
            "grid_gap": null,
            "grid_row": null,
            "grid_template_areas": null,
            "grid_template_columns": null,
            "grid_template_rows": null,
            "height": null,
            "justify_content": null,
            "justify_items": null,
            "left": null,
            "margin": null,
            "max_height": null,
            "max_width": null,
            "min_height": null,
            "min_width": null,
            "object_fit": null,
            "object_position": null,
            "order": null,
            "overflow": null,
            "overflow_x": null,
            "overflow_y": null,
            "padding": null,
            "right": null,
            "top": null,
            "visibility": null,
            "width": null
          }
        },
        "0e1fce180a184ce398f32b79db182ced": {
          "model_module": "@jupyter-widgets/base",
          "model_name": "LayoutModel",
          "model_module_version": "1.2.0",
          "state": {
            "_model_module": "@jupyter-widgets/base",
            "_model_module_version": "1.2.0",
            "_model_name": "LayoutModel",
            "_view_count": null,
            "_view_module": "@jupyter-widgets/base",
            "_view_module_version": "1.2.0",
            "_view_name": "LayoutView",
            "align_content": null,
            "align_items": null,
            "align_self": null,
            "border": null,
            "bottom": null,
            "display": null,
            "flex": null,
            "flex_flow": null,
            "grid_area": null,
            "grid_auto_columns": null,
            "grid_auto_flow": null,
            "grid_auto_rows": null,
            "grid_column": null,
            "grid_gap": null,
            "grid_row": null,
            "grid_template_areas": null,
            "grid_template_columns": null,
            "grid_template_rows": null,
            "height": null,
            "justify_content": null,
            "justify_items": null,
            "left": null,
            "margin": null,
            "max_height": null,
            "max_width": null,
            "min_height": null,
            "min_width": null,
            "object_fit": null,
            "object_position": null,
            "order": null,
            "overflow": null,
            "overflow_x": null,
            "overflow_y": null,
            "padding": null,
            "right": null,
            "top": null,
            "visibility": null,
            "width": null
          }
        },
        "290a047bb3fb4e65a324ce6e4f606122": {
          "model_module": "@jupyter-widgets/controls",
          "model_name": "DescriptionStyleModel",
          "model_module_version": "1.5.0",
          "state": {
            "_model_module": "@jupyter-widgets/controls",
            "_model_module_version": "1.5.0",
            "_model_name": "DescriptionStyleModel",
            "_view_count": null,
            "_view_module": "@jupyter-widgets/base",
            "_view_module_version": "1.2.0",
            "_view_name": "StyleView",
            "description_width": ""
          }
        },
        "40f06b22943d4077bf49387466d5edf0": {
          "model_module": "@jupyter-widgets/base",
          "model_name": "LayoutModel",
          "model_module_version": "1.2.0",
          "state": {
            "_model_module": "@jupyter-widgets/base",
            "_model_module_version": "1.2.0",
            "_model_name": "LayoutModel",
            "_view_count": null,
            "_view_module": "@jupyter-widgets/base",
            "_view_module_version": "1.2.0",
            "_view_name": "LayoutView",
            "align_content": null,
            "align_items": null,
            "align_self": null,
            "border": null,
            "bottom": null,
            "display": null,
            "flex": null,
            "flex_flow": null,
            "grid_area": null,
            "grid_auto_columns": null,
            "grid_auto_flow": null,
            "grid_auto_rows": null,
            "grid_column": null,
            "grid_gap": null,
            "grid_row": null,
            "grid_template_areas": null,
            "grid_template_columns": null,
            "grid_template_rows": null,
            "height": null,
            "justify_content": null,
            "justify_items": null,
            "left": null,
            "margin": null,
            "max_height": null,
            "max_width": null,
            "min_height": null,
            "min_width": null,
            "object_fit": null,
            "object_position": null,
            "order": null,
            "overflow": null,
            "overflow_x": null,
            "overflow_y": null,
            "padding": null,
            "right": null,
            "top": null,
            "visibility": null,
            "width": null
          }
        },
        "5549c54544dd4e4fb05eb3e89cb3926b": {
          "model_module": "@jupyter-widgets/controls",
          "model_name": "ProgressStyleModel",
          "model_module_version": "1.5.0",
          "state": {
            "_model_module": "@jupyter-widgets/controls",
            "_model_module_version": "1.5.0",
            "_model_name": "ProgressStyleModel",
            "_view_count": null,
            "_view_module": "@jupyter-widgets/base",
            "_view_module_version": "1.2.0",
            "_view_name": "StyleView",
            "bar_color": null,
            "description_width": ""
          }
        },
        "0092a2f46da94872980bdee277161cff": {
          "model_module": "@jupyter-widgets/base",
          "model_name": "LayoutModel",
          "model_module_version": "1.2.0",
          "state": {
            "_model_module": "@jupyter-widgets/base",
            "_model_module_version": "1.2.0",
            "_model_name": "LayoutModel",
            "_view_count": null,
            "_view_module": "@jupyter-widgets/base",
            "_view_module_version": "1.2.0",
            "_view_name": "LayoutView",
            "align_content": null,
            "align_items": null,
            "align_self": null,
            "border": null,
            "bottom": null,
            "display": null,
            "flex": null,
            "flex_flow": null,
            "grid_area": null,
            "grid_auto_columns": null,
            "grid_auto_flow": null,
            "grid_auto_rows": null,
            "grid_column": null,
            "grid_gap": null,
            "grid_row": null,
            "grid_template_areas": null,
            "grid_template_columns": null,
            "grid_template_rows": null,
            "height": null,
            "justify_content": null,
            "justify_items": null,
            "left": null,
            "margin": null,
            "max_height": null,
            "max_width": null,
            "min_height": null,
            "min_width": null,
            "object_fit": null,
            "object_position": null,
            "order": null,
            "overflow": null,
            "overflow_x": null,
            "overflow_y": null,
            "padding": null,
            "right": null,
            "top": null,
            "visibility": null,
            "width": null
          }
        },
        "d51e2aaa98e447b0924fd1eddc878f5d": {
          "model_module": "@jupyter-widgets/controls",
          "model_name": "DescriptionStyleModel",
          "model_module_version": "1.5.0",
          "state": {
            "_model_module": "@jupyter-widgets/controls",
            "_model_module_version": "1.5.0",
            "_model_name": "DescriptionStyleModel",
            "_view_count": null,
            "_view_module": "@jupyter-widgets/base",
            "_view_module_version": "1.2.0",
            "_view_name": "StyleView",
            "description_width": ""
          }
        },
        "faf3cbbf49914f80bc8adaab8cd3e72a": {
          "model_module": "@jupyter-widgets/controls",
          "model_name": "HBoxModel",
          "model_module_version": "1.5.0",
          "state": {
            "_dom_classes": [],
            "_model_module": "@jupyter-widgets/controls",
            "_model_module_version": "1.5.0",
            "_model_name": "HBoxModel",
            "_view_count": null,
            "_view_module": "@jupyter-widgets/controls",
            "_view_module_version": "1.5.0",
            "_view_name": "HBoxView",
            "box_style": "",
            "children": [
              "IPY_MODEL_c5ab3337e1c94c55b5dc0adc45bb5716",
              "IPY_MODEL_781c5a2c4f7f4d67b32e886527f828c8",
              "IPY_MODEL_8b90c16830ac4f86bf21767cf5d61334"
            ],
            "layout": "IPY_MODEL_bbfaf19bf4074c98a1a70e5f7f3b213c"
          }
        },
        "c5ab3337e1c94c55b5dc0adc45bb5716": {
          "model_module": "@jupyter-widgets/controls",
          "model_name": "HTMLModel",
          "model_module_version": "1.5.0",
          "state": {
            "_dom_classes": [],
            "_model_module": "@jupyter-widgets/controls",
            "_model_module_version": "1.5.0",
            "_model_name": "HTMLModel",
            "_view_count": null,
            "_view_module": "@jupyter-widgets/controls",
            "_view_module_version": "1.5.0",
            "_view_name": "HTMLView",
            "description": "",
            "description_tooltip": null,
            "layout": "IPY_MODEL_215ef0f2d2f44d7b8fe340288b75dbf3",
            "placeholder": "​",
            "style": "IPY_MODEL_bbb65909a24842de894d3a0811b190f8",
            "value": "100%"
          }
        },
        "781c5a2c4f7f4d67b32e886527f828c8": {
          "model_module": "@jupyter-widgets/controls",
          "model_name": "FloatProgressModel",
          "model_module_version": "1.5.0",
          "state": {
            "_dom_classes": [],
            "_model_module": "@jupyter-widgets/controls",
            "_model_module_version": "1.5.0",
            "_model_name": "FloatProgressModel",
            "_view_count": null,
            "_view_module": "@jupyter-widgets/controls",
            "_view_module_version": "1.5.0",
            "_view_name": "ProgressView",
            "bar_style": "success",
            "description": "",
            "description_tooltip": null,
            "layout": "IPY_MODEL_b7b86517f7dd4514952e71632a0eadfe",
            "max": 100,
            "min": 0,
            "orientation": "horizontal",
            "style": "IPY_MODEL_769402a159574828a787cd33a7138850",
            "value": 100
          }
        },
        "8b90c16830ac4f86bf21767cf5d61334": {
          "model_module": "@jupyter-widgets/controls",
          "model_name": "HTMLModel",
          "model_module_version": "1.5.0",
          "state": {
            "_dom_classes": [],
            "_model_module": "@jupyter-widgets/controls",
            "_model_module_version": "1.5.0",
            "_model_name": "HTMLModel",
            "_view_count": null,
            "_view_module": "@jupyter-widgets/controls",
            "_view_module_version": "1.5.0",
            "_view_name": "HTMLView",
            "description": "",
            "description_tooltip": null,
            "layout": "IPY_MODEL_b8fb05e0deeb4bdf84a97f31723ba5fd",
            "placeholder": "​",
            "style": "IPY_MODEL_d592925e1af04b298dadbc392fcdfc71",
            "value": " 100/100 [00:15&lt;00:00,  8.69it/s]"
          }
        },
        "bbfaf19bf4074c98a1a70e5f7f3b213c": {
          "model_module": "@jupyter-widgets/base",
          "model_name": "LayoutModel",
          "model_module_version": "1.2.0",
          "state": {
            "_model_module": "@jupyter-widgets/base",
            "_model_module_version": "1.2.0",
            "_model_name": "LayoutModel",
            "_view_count": null,
            "_view_module": "@jupyter-widgets/base",
            "_view_module_version": "1.2.0",
            "_view_name": "LayoutView",
            "align_content": null,
            "align_items": null,
            "align_self": null,
            "border": null,
            "bottom": null,
            "display": null,
            "flex": null,
            "flex_flow": null,
            "grid_area": null,
            "grid_auto_columns": null,
            "grid_auto_flow": null,
            "grid_auto_rows": null,
            "grid_column": null,
            "grid_gap": null,
            "grid_row": null,
            "grid_template_areas": null,
            "grid_template_columns": null,
            "grid_template_rows": null,
            "height": null,
            "justify_content": null,
            "justify_items": null,
            "left": null,
            "margin": null,
            "max_height": null,
            "max_width": null,
            "min_height": null,
            "min_width": null,
            "object_fit": null,
            "object_position": null,
            "order": null,
            "overflow": null,
            "overflow_x": null,
            "overflow_y": null,
            "padding": null,
            "right": null,
            "top": null,
            "visibility": null,
            "width": null
          }
        },
        "215ef0f2d2f44d7b8fe340288b75dbf3": {
          "model_module": "@jupyter-widgets/base",
          "model_name": "LayoutModel",
          "model_module_version": "1.2.0",
          "state": {
            "_model_module": "@jupyter-widgets/base",
            "_model_module_version": "1.2.0",
            "_model_name": "LayoutModel",
            "_view_count": null,
            "_view_module": "@jupyter-widgets/base",
            "_view_module_version": "1.2.0",
            "_view_name": "LayoutView",
            "align_content": null,
            "align_items": null,
            "align_self": null,
            "border": null,
            "bottom": null,
            "display": null,
            "flex": null,
            "flex_flow": null,
            "grid_area": null,
            "grid_auto_columns": null,
            "grid_auto_flow": null,
            "grid_auto_rows": null,
            "grid_column": null,
            "grid_gap": null,
            "grid_row": null,
            "grid_template_areas": null,
            "grid_template_columns": null,
            "grid_template_rows": null,
            "height": null,
            "justify_content": null,
            "justify_items": null,
            "left": null,
            "margin": null,
            "max_height": null,
            "max_width": null,
            "min_height": null,
            "min_width": null,
            "object_fit": null,
            "object_position": null,
            "order": null,
            "overflow": null,
            "overflow_x": null,
            "overflow_y": null,
            "padding": null,
            "right": null,
            "top": null,
            "visibility": null,
            "width": null
          }
        },
        "bbb65909a24842de894d3a0811b190f8": {
          "model_module": "@jupyter-widgets/controls",
          "model_name": "DescriptionStyleModel",
          "model_module_version": "1.5.0",
          "state": {
            "_model_module": "@jupyter-widgets/controls",
            "_model_module_version": "1.5.0",
            "_model_name": "DescriptionStyleModel",
            "_view_count": null,
            "_view_module": "@jupyter-widgets/base",
            "_view_module_version": "1.2.0",
            "_view_name": "StyleView",
            "description_width": ""
          }
        },
        "b7b86517f7dd4514952e71632a0eadfe": {
          "model_module": "@jupyter-widgets/base",
          "model_name": "LayoutModel",
          "model_module_version": "1.2.0",
          "state": {
            "_model_module": "@jupyter-widgets/base",
            "_model_module_version": "1.2.0",
            "_model_name": "LayoutModel",
            "_view_count": null,
            "_view_module": "@jupyter-widgets/base",
            "_view_module_version": "1.2.0",
            "_view_name": "LayoutView",
            "align_content": null,
            "align_items": null,
            "align_self": null,
            "border": null,
            "bottom": null,
            "display": null,
            "flex": null,
            "flex_flow": null,
            "grid_area": null,
            "grid_auto_columns": null,
            "grid_auto_flow": null,
            "grid_auto_rows": null,
            "grid_column": null,
            "grid_gap": null,
            "grid_row": null,
            "grid_template_areas": null,
            "grid_template_columns": null,
            "grid_template_rows": null,
            "height": null,
            "justify_content": null,
            "justify_items": null,
            "left": null,
            "margin": null,
            "max_height": null,
            "max_width": null,
            "min_height": null,
            "min_width": null,
            "object_fit": null,
            "object_position": null,
            "order": null,
            "overflow": null,
            "overflow_x": null,
            "overflow_y": null,
            "padding": null,
            "right": null,
            "top": null,
            "visibility": null,
            "width": null
          }
        },
        "769402a159574828a787cd33a7138850": {
          "model_module": "@jupyter-widgets/controls",
          "model_name": "ProgressStyleModel",
          "model_module_version": "1.5.0",
          "state": {
            "_model_module": "@jupyter-widgets/controls",
            "_model_module_version": "1.5.0",
            "_model_name": "ProgressStyleModel",
            "_view_count": null,
            "_view_module": "@jupyter-widgets/base",
            "_view_module_version": "1.2.0",
            "_view_name": "StyleView",
            "bar_color": null,
            "description_width": ""
          }
        },
        "b8fb05e0deeb4bdf84a97f31723ba5fd": {
          "model_module": "@jupyter-widgets/base",
          "model_name": "LayoutModel",
          "model_module_version": "1.2.0",
          "state": {
            "_model_module": "@jupyter-widgets/base",
            "_model_module_version": "1.2.0",
            "_model_name": "LayoutModel",
            "_view_count": null,
            "_view_module": "@jupyter-widgets/base",
            "_view_module_version": "1.2.0",
            "_view_name": "LayoutView",
            "align_content": null,
            "align_items": null,
            "align_self": null,
            "border": null,
            "bottom": null,
            "display": null,
            "flex": null,
            "flex_flow": null,
            "grid_area": null,
            "grid_auto_columns": null,
            "grid_auto_flow": null,
            "grid_auto_rows": null,
            "grid_column": null,
            "grid_gap": null,
            "grid_row": null,
            "grid_template_areas": null,
            "grid_template_columns": null,
            "grid_template_rows": null,
            "height": null,
            "justify_content": null,
            "justify_items": null,
            "left": null,
            "margin": null,
            "max_height": null,
            "max_width": null,
            "min_height": null,
            "min_width": null,
            "object_fit": null,
            "object_position": null,
            "order": null,
            "overflow": null,
            "overflow_x": null,
            "overflow_y": null,
            "padding": null,
            "right": null,
            "top": null,
            "visibility": null,
            "width": null
          }
        },
        "d592925e1af04b298dadbc392fcdfc71": {
          "model_module": "@jupyter-widgets/controls",
          "model_name": "DescriptionStyleModel",
          "model_module_version": "1.5.0",
          "state": {
            "_model_module": "@jupyter-widgets/controls",
            "_model_module_version": "1.5.0",
            "_model_name": "DescriptionStyleModel",
            "_view_count": null,
            "_view_module": "@jupyter-widgets/base",
            "_view_module_version": "1.2.0",
            "_view_name": "StyleView",
            "description_width": ""
          }
        },
        "fff89ca9609b48b38c757ce3461c209f": {
          "model_module": "@jupyter-widgets/controls",
          "model_name": "HBoxModel",
          "model_module_version": "1.5.0",
          "state": {
            "_dom_classes": [],
            "_model_module": "@jupyter-widgets/controls",
            "_model_module_version": "1.5.0",
            "_model_name": "HBoxModel",
            "_view_count": null,
            "_view_module": "@jupyter-widgets/controls",
            "_view_module_version": "1.5.0",
            "_view_name": "HBoxView",
            "box_style": "",
            "children": [
              "IPY_MODEL_feabb0420b8d45b0b076c6cb9505cd51",
              "IPY_MODEL_4c4b8aef546c45808f71fb02646f1de1",
              "IPY_MODEL_596b940c6add49e4a923fe378b0385c3"
            ],
            "layout": "IPY_MODEL_3b0ba5a4afc34caca882fbae6f1c59ff"
          }
        },
        "feabb0420b8d45b0b076c6cb9505cd51": {
          "model_module": "@jupyter-widgets/controls",
          "model_name": "HTMLModel",
          "model_module_version": "1.5.0",
          "state": {
            "_dom_classes": [],
            "_model_module": "@jupyter-widgets/controls",
            "_model_module_version": "1.5.0",
            "_model_name": "HTMLModel",
            "_view_count": null,
            "_view_module": "@jupyter-widgets/controls",
            "_view_module_version": "1.5.0",
            "_view_name": "HTMLView",
            "description": "",
            "description_tooltip": null,
            "layout": "IPY_MODEL_9614a0c5cd6b4d389f83d2b2d68397b9",
            "placeholder": "​",
            "style": "IPY_MODEL_0d694bc43d1d461fb4f992be8094b042",
            "value": "100%"
          }
        },
        "4c4b8aef546c45808f71fb02646f1de1": {
          "model_module": "@jupyter-widgets/controls",
          "model_name": "FloatProgressModel",
          "model_module_version": "1.5.0",
          "state": {
            "_dom_classes": [],
            "_model_module": "@jupyter-widgets/controls",
            "_model_module_version": "1.5.0",
            "_model_name": "FloatProgressModel",
            "_view_count": null,
            "_view_module": "@jupyter-widgets/controls",
            "_view_module_version": "1.5.0",
            "_view_name": "ProgressView",
            "bar_style": "success",
            "description": "",
            "description_tooltip": null,
            "layout": "IPY_MODEL_3594436534d94d3591f672502ded850f",
            "max": 27,
            "min": 0,
            "orientation": "horizontal",
            "style": "IPY_MODEL_2f26488e20b844fdb9ae0cd4c8ba79d7",
            "value": 27
          }
        },
        "596b940c6add49e4a923fe378b0385c3": {
          "model_module": "@jupyter-widgets/controls",
          "model_name": "HTMLModel",
          "model_module_version": "1.5.0",
          "state": {
            "_dom_classes": [],
            "_model_module": "@jupyter-widgets/controls",
            "_model_module_version": "1.5.0",
            "_model_name": "HTMLModel",
            "_view_count": null,
            "_view_module": "@jupyter-widgets/controls",
            "_view_module_version": "1.5.0",
            "_view_name": "HTMLView",
            "description": "",
            "description_tooltip": null,
            "layout": "IPY_MODEL_e79e8e6489a84c1793e036fe71b9a6b0",
            "placeholder": "​",
            "style": "IPY_MODEL_56ee4abdd50944fcb0be8c03567ae699",
            "value": " 27/27 [00:04&lt;00:00,  6.11it/s]"
          }
        },
        "3b0ba5a4afc34caca882fbae6f1c59ff": {
          "model_module": "@jupyter-widgets/base",
          "model_name": "LayoutModel",
          "model_module_version": "1.2.0",
          "state": {
            "_model_module": "@jupyter-widgets/base",
            "_model_module_version": "1.2.0",
            "_model_name": "LayoutModel",
            "_view_count": null,
            "_view_module": "@jupyter-widgets/base",
            "_view_module_version": "1.2.0",
            "_view_name": "LayoutView",
            "align_content": null,
            "align_items": null,
            "align_self": null,
            "border": null,
            "bottom": null,
            "display": null,
            "flex": null,
            "flex_flow": null,
            "grid_area": null,
            "grid_auto_columns": null,
            "grid_auto_flow": null,
            "grid_auto_rows": null,
            "grid_column": null,
            "grid_gap": null,
            "grid_row": null,
            "grid_template_areas": null,
            "grid_template_columns": null,
            "grid_template_rows": null,
            "height": null,
            "justify_content": null,
            "justify_items": null,
            "left": null,
            "margin": null,
            "max_height": null,
            "max_width": null,
            "min_height": null,
            "min_width": null,
            "object_fit": null,
            "object_position": null,
            "order": null,
            "overflow": null,
            "overflow_x": null,
            "overflow_y": null,
            "padding": null,
            "right": null,
            "top": null,
            "visibility": null,
            "width": null
          }
        },
        "9614a0c5cd6b4d389f83d2b2d68397b9": {
          "model_module": "@jupyter-widgets/base",
          "model_name": "LayoutModel",
          "model_module_version": "1.2.0",
          "state": {
            "_model_module": "@jupyter-widgets/base",
            "_model_module_version": "1.2.0",
            "_model_name": "LayoutModel",
            "_view_count": null,
            "_view_module": "@jupyter-widgets/base",
            "_view_module_version": "1.2.0",
            "_view_name": "LayoutView",
            "align_content": null,
            "align_items": null,
            "align_self": null,
            "border": null,
            "bottom": null,
            "display": null,
            "flex": null,
            "flex_flow": null,
            "grid_area": null,
            "grid_auto_columns": null,
            "grid_auto_flow": null,
            "grid_auto_rows": null,
            "grid_column": null,
            "grid_gap": null,
            "grid_row": null,
            "grid_template_areas": null,
            "grid_template_columns": null,
            "grid_template_rows": null,
            "height": null,
            "justify_content": null,
            "justify_items": null,
            "left": null,
            "margin": null,
            "max_height": null,
            "max_width": null,
            "min_height": null,
            "min_width": null,
            "object_fit": null,
            "object_position": null,
            "order": null,
            "overflow": null,
            "overflow_x": null,
            "overflow_y": null,
            "padding": null,
            "right": null,
            "top": null,
            "visibility": null,
            "width": null
          }
        },
        "0d694bc43d1d461fb4f992be8094b042": {
          "model_module": "@jupyter-widgets/controls",
          "model_name": "DescriptionStyleModel",
          "model_module_version": "1.5.0",
          "state": {
            "_model_module": "@jupyter-widgets/controls",
            "_model_module_version": "1.5.0",
            "_model_name": "DescriptionStyleModel",
            "_view_count": null,
            "_view_module": "@jupyter-widgets/base",
            "_view_module_version": "1.2.0",
            "_view_name": "StyleView",
            "description_width": ""
          }
        },
        "3594436534d94d3591f672502ded850f": {
          "model_module": "@jupyter-widgets/base",
          "model_name": "LayoutModel",
          "model_module_version": "1.2.0",
          "state": {
            "_model_module": "@jupyter-widgets/base",
            "_model_module_version": "1.2.0",
            "_model_name": "LayoutModel",
            "_view_count": null,
            "_view_module": "@jupyter-widgets/base",
            "_view_module_version": "1.2.0",
            "_view_name": "LayoutView",
            "align_content": null,
            "align_items": null,
            "align_self": null,
            "border": null,
            "bottom": null,
            "display": null,
            "flex": null,
            "flex_flow": null,
            "grid_area": null,
            "grid_auto_columns": null,
            "grid_auto_flow": null,
            "grid_auto_rows": null,
            "grid_column": null,
            "grid_gap": null,
            "grid_row": null,
            "grid_template_areas": null,
            "grid_template_columns": null,
            "grid_template_rows": null,
            "height": null,
            "justify_content": null,
            "justify_items": null,
            "left": null,
            "margin": null,
            "max_height": null,
            "max_width": null,
            "min_height": null,
            "min_width": null,
            "object_fit": null,
            "object_position": null,
            "order": null,
            "overflow": null,
            "overflow_x": null,
            "overflow_y": null,
            "padding": null,
            "right": null,
            "top": null,
            "visibility": null,
            "width": null
          }
        },
        "2f26488e20b844fdb9ae0cd4c8ba79d7": {
          "model_module": "@jupyter-widgets/controls",
          "model_name": "ProgressStyleModel",
          "model_module_version": "1.5.0",
          "state": {
            "_model_module": "@jupyter-widgets/controls",
            "_model_module_version": "1.5.0",
            "_model_name": "ProgressStyleModel",
            "_view_count": null,
            "_view_module": "@jupyter-widgets/base",
            "_view_module_version": "1.2.0",
            "_view_name": "StyleView",
            "bar_color": null,
            "description_width": ""
          }
        },
        "e79e8e6489a84c1793e036fe71b9a6b0": {
          "model_module": "@jupyter-widgets/base",
          "model_name": "LayoutModel",
          "model_module_version": "1.2.0",
          "state": {
            "_model_module": "@jupyter-widgets/base",
            "_model_module_version": "1.2.0",
            "_model_name": "LayoutModel",
            "_view_count": null,
            "_view_module": "@jupyter-widgets/base",
            "_view_module_version": "1.2.0",
            "_view_name": "LayoutView",
            "align_content": null,
            "align_items": null,
            "align_self": null,
            "border": null,
            "bottom": null,
            "display": null,
            "flex": null,
            "flex_flow": null,
            "grid_area": null,
            "grid_auto_columns": null,
            "grid_auto_flow": null,
            "grid_auto_rows": null,
            "grid_column": null,
            "grid_gap": null,
            "grid_row": null,
            "grid_template_areas": null,
            "grid_template_columns": null,
            "grid_template_rows": null,
            "height": null,
            "justify_content": null,
            "justify_items": null,
            "left": null,
            "margin": null,
            "max_height": null,
            "max_width": null,
            "min_height": null,
            "min_width": null,
            "object_fit": null,
            "object_position": null,
            "order": null,
            "overflow": null,
            "overflow_x": null,
            "overflow_y": null,
            "padding": null,
            "right": null,
            "top": null,
            "visibility": null,
            "width": null
          }
        },
        "56ee4abdd50944fcb0be8c03567ae699": {
          "model_module": "@jupyter-widgets/controls",
          "model_name": "DescriptionStyleModel",
          "model_module_version": "1.5.0",
          "state": {
            "_model_module": "@jupyter-widgets/controls",
            "_model_module_version": "1.5.0",
            "_model_name": "DescriptionStyleModel",
            "_view_count": null,
            "_view_module": "@jupyter-widgets/base",
            "_view_module_version": "1.2.0",
            "_view_name": "StyleView",
            "description_width": ""
          }
        }
      }
    }
  },
  "cells": [
    {
      "cell_type": "markdown",
      "source": [
        "*구글 로그인 후에 사용해주세요\n",
        "\n",
        "구글 드라이브에 연결"
      ],
      "metadata": {
        "id": "Am8vtxElPZDI"
      }
    },
    {
      "cell_type": "code",
      "source": [
        "from google.colab import drive\n",
        "drive.mount('/content/drive')"
      ],
      "metadata": {
        "colab": {
          "base_uri": "https://localhost:8080/"
        },
        "id": "G5R8iZGbRv_Z",
        "outputId": "fab561d2-1a26-4192-92e0-2c032d7fb8c2"
      },
      "execution_count": 1,
      "outputs": [
        {
          "output_type": "stream",
          "name": "stdout",
          "text": [
            "Mounted at /content/drive\n"
          ]
        }
      ]
    },
    {
      "cell_type": "markdown",
      "source": [
        "Papago 번역 API 불러오기"
      ],
      "metadata": {
        "id": "ouiOd38dFz86"
      }
    },
    {
      "cell_type": "code",
      "source": [
        "import requests\n",
        "\n",
        "def get_translate(text):\n",
        "    client_id = \"QI0fBM8K2nPjEQABj81U\" # <-- client_id 기입\n",
        "    client_secret = \"AlThDQ4lDd\" # <-- client_secret 기입\n",
        "\n",
        "    data = {'text' : text,\n",
        "            'source' : 'ko',\n",
        "            'target': 'en'}\n",
        "\n",
        "    url = \"https://openapi.naver.com/v1/papago/n2mt\"\n",
        "\n",
        "    header = {\"X-Naver-Client-Id\":client_id,\n",
        "              \"X-Naver-Client-Secret\":client_secret}\n",
        "\n",
        "    response = requests.post(url, headers=header, data=data)\n",
        "    rescode = response.status_code\n",
        "\n",
        "    if(rescode==200):\n",
        "        send_data = response.json()\n",
        "        trans_data = (send_data['message']['result']['translatedText'])\n",
        "        return trans_data\n",
        "    else:\n",
        "        print(\"Error Code:\" , rescode)"
      ],
      "metadata": {
        "id": "1ov64kiN_ebO"
      },
      "execution_count": 96,
      "outputs": []
    },
    {
      "cell_type": "markdown",
      "source": [
        "GLIDE 생성자 불러오기"
      ],
      "metadata": {
        "id": "K8bmTwJ3N0of"
      }
    },
    {
      "cell_type": "code",
      "source": [
        "#install the package\n",
        "!pip install git+https://github.com/openai/glide-text2im"
      ],
      "metadata": {
        "colab": {
          "base_uri": "https://localhost:8080/"
        },
        "id": "O-uEqIn4Nz44",
        "outputId": "225a6344-3d60-46fe-e8ed-56ad2326a487"
      },
      "execution_count": 9,
      "outputs": [
        {
          "output_type": "stream",
          "name": "stdout",
          "text": [
            "Looking in indexes: https://pypi.org/simple, https://us-python.pkg.dev/colab-wheels/public/simple/\n",
            "Collecting git+https://github.com/openai/glide-text2im\n",
            "  Cloning https://github.com/openai/glide-text2im to /tmp/pip-req-build-gery8iit\n",
            "  Running command git clone -q https://github.com/openai/glide-text2im /tmp/pip-req-build-gery8iit\n",
            "Requirement already satisfied: Pillow in /usr/local/lib/python3.8/dist-packages (from glide-text2im==0.0.0) (7.1.2)\n",
            "Requirement already satisfied: attrs in /usr/local/lib/python3.8/dist-packages (from glide-text2im==0.0.0) (22.1.0)\n",
            "Requirement already satisfied: torch in /usr/local/lib/python3.8/dist-packages (from glide-text2im==0.0.0) (1.12.1+cu113)\n",
            "Requirement already satisfied: filelock in /usr/local/lib/python3.8/dist-packages (from glide-text2im==0.0.0) (3.8.0)\n",
            "Requirement already satisfied: requests in /usr/local/lib/python3.8/dist-packages (from glide-text2im==0.0.0) (2.23.0)\n",
            "Requirement already satisfied: tqdm in /usr/local/lib/python3.8/dist-packages (from glide-text2im==0.0.0) (4.64.1)\n",
            "Requirement already satisfied: ftfy in /usr/local/lib/python3.8/dist-packages (from glide-text2im==0.0.0) (6.1.1)\n",
            "Requirement already satisfied: regex in /usr/local/lib/python3.8/dist-packages (from glide-text2im==0.0.0) (2022.6.2)\n",
            "Requirement already satisfied: numpy in /usr/local/lib/python3.8/dist-packages (from glide-text2im==0.0.0) (1.21.6)\n",
            "Requirement already satisfied: wcwidth>=0.2.5 in /usr/local/lib/python3.8/dist-packages (from ftfy->glide-text2im==0.0.0) (0.2.5)\n",
            "Requirement already satisfied: urllib3!=1.25.0,!=1.25.1,<1.26,>=1.21.1 in /usr/local/lib/python3.8/dist-packages (from requests->glide-text2im==0.0.0) (1.24.3)\n",
            "Requirement already satisfied: certifi>=2017.4.17 in /usr/local/lib/python3.8/dist-packages (from requests->glide-text2im==0.0.0) (2022.9.24)\n",
            "Requirement already satisfied: idna<3,>=2.5 in /usr/local/lib/python3.8/dist-packages (from requests->glide-text2im==0.0.0) (2.10)\n",
            "Requirement already satisfied: chardet<4,>=3.0.2 in /usr/local/lib/python3.8/dist-packages (from requests->glide-text2im==0.0.0) (3.0.4)\n",
            "Requirement already satisfied: typing-extensions in /usr/local/lib/python3.8/dist-packages (from torch->glide-text2im==0.0.0) (4.1.1)\n"
          ]
        }
      ]
    },
    {
      "cell_type": "markdown",
      "source": [
        "기타 라이브러리 불러오기"
      ],
      "metadata": {
        "id": "5ivLS3Q8QPp_"
      }
    },
    {
      "cell_type": "code",
      "source": [
        "from __future__ import print_function\n",
        "\n",
        "from PIL import Image\n",
        "from IPython.display import display\n",
        "import os\n",
        "import torch\n",
        "import torch as th\n",
        "import torch.nn as nn\n",
        "import torch.nn.functional as F\n",
        "import torch.optim as optim\n",
        "import cv2\n",
        "\n",
        "from PIL import Image\n",
        "import matplotlib.pyplot as plt\n",
        "\n",
        "import torchvision.transforms as transforms\n",
        "import torchvision.models as models\n",
        "\n",
        "import copy\n",
        "\n",
        "from glide_text2im.clip.model_creation import create_clip_model\n",
        "from glide_text2im.download import load_checkpoint\n",
        "from glide_text2im.model_creation import (\n",
        "    create_model_and_diffusion,\n",
        "    model_and_diffusion_defaults,\n",
        "    model_and_diffusion_defaults_upsampler,\n",
        ")\n",
        "from glide_text2im.tokenizer.simple_tokenizer import SimpleTokenizer"
      ],
      "metadata": {
        "id": "cMA0HJkZN9XP"
      },
      "execution_count": 42,
      "outputs": []
    },
    {
      "cell_type": "markdown",
      "source": [
        "GPU 사용 여부 확인"
      ],
      "metadata": {
        "id": "kZzT6_hYN_M2"
      }
    },
    {
      "cell_type": "code",
      "source": [
        "has_cuda = th.cuda.is_available()\n",
        "device = th.device('cpu' if not has_cuda else 'cuda')\n",
        "print(device)"
      ],
      "metadata": {
        "colab": {
          "base_uri": "https://localhost:8080/"
        },
        "id": "MOErk7jBOBJm",
        "outputId": "eeaca175-8a84-4f9f-9eac-d77b0303d4d2"
      },
      "execution_count": 11,
      "outputs": [
        {
          "output_type": "stream",
          "name": "stdout",
          "text": [
            "cuda\n"
          ]
        }
      ]
    },
    {
      "cell_type": "markdown",
      "source": [
        "CLIP 데이터 셋 불러오기"
      ],
      "metadata": {
        "id": "JhEG8P_cQRqL"
      }
    },
    {
      "cell_type": "code",
      "source": [
        "clip_model = create_clip_model(device=device)\n",
        "clip_model.image_encoder.load_state_dict(load_checkpoint('clip/image-enc', device))\n",
        "clip_model.text_encoder.load_state_dict(load_checkpoint('clip/text-enc', device))"
      ],
      "metadata": {
        "colab": {
          "base_uri": "https://localhost:8080/",
          "height": 99,
          "referenced_widgets": [
            "b4018a03ebe74b0591c14aa3c394de24",
            "a12c76abd01846aea2c9c0092375695b",
            "78c3d5ddece34539a916fd1c50b22667",
            "918934a181954b61886c299395d755d0",
            "98161601581242fa813044b3f906c16e",
            "786ffb42eb0a40e389c7b0e4b8dea891",
            "371fa8fbd19a4003a2ed76865bf84293",
            "86f502188d664fb0b864ce4a213866fd",
            "2da6d6d7bd0a4776823850e0f82ff590",
            "00dec9a534044fd5be5a59fa20b0cf66",
            "92c21b98d9644f74bad5fcd2954b1ec6",
            "66c40a51a18e48a89435e5e365f525de",
            "c666f5651806449dbf68bc6d6891b507",
            "0fd962eaf39b44a2857bf4dbf5dddbd8",
            "c9c9f0bf55724eafbc6b8af2beae27b9",
            "8e8bb4c27fd54a1c80690c6ed896283d",
            "9927ed95d7914c19be255b38c07961cc",
            "0a26f6d3724d4a5fb8751c0cb4f3308c",
            "597e212e4585407da4d31cc18e14c7aa",
            "04a14c90824b4266aeca69de3644ecdf",
            "e8d85767f4ee4892bcd07dc7df1cdd40",
            "328e47638faf4774ad0071f1222cd019"
          ]
        },
        "id": "jSY5RcEyOINe",
        "outputId": "cc4d1526-382c-4ef4-9c09-e95d7bdc1cb3"
      },
      "execution_count": 12,
      "outputs": [
        {
          "output_type": "display_data",
          "data": {
            "text/plain": [
              "  0%|          | 0.00/346M [00:00<?, ?iB/s]"
            ],
            "application/vnd.jupyter.widget-view+json": {
              "version_major": 2,
              "version_minor": 0,
              "model_id": "b4018a03ebe74b0591c14aa3c394de24"
            }
          },
          "metadata": {}
        },
        {
          "output_type": "display_data",
          "data": {
            "text/plain": [
              "  0%|          | 0.00/287M [00:00<?, ?iB/s]"
            ],
            "application/vnd.jupyter.widget-view+json": {
              "version_major": 2,
              "version_minor": 0,
              "model_id": "66c40a51a18e48a89435e5e365f525de"
            }
          },
          "metadata": {}
        },
        {
          "output_type": "execute_result",
          "data": {
            "text/plain": [
              "<All keys matched successfully>"
            ]
          },
          "metadata": {},
          "execution_count": 12
        }
      ]
    },
    {
      "cell_type": "markdown",
      "source": [
        "사전학습 모델 불러오기(기본 + Upsample)"
      ],
      "metadata": {
        "id": "iMvC3ZhoOx8t"
      }
    },
    {
      "cell_type": "code",
      "source": [
        "options = model_and_diffusion_defaults()\n",
        "options['use_fp16'] = has_cuda\n",
        "options['timestep_respacing'] = '100' # use 100 diffusion steps for fast sampling\n",
        "model, diffusion = create_model_and_diffusion(**options)\n",
        "model.eval()\n",
        "\n",
        "if has_cuda:\n",
        "    model.convert_to_fp16()\n",
        "model.to(device)\n",
        "model.load_state_dict(load_checkpoint('base', device))\n",
        "print('total base parameters', sum(x.numel() for x in model.parameters()))"
      ],
      "metadata": {
        "colab": {
          "base_uri": "https://localhost:8080/",
          "height": 67,
          "referenced_widgets": [
            "e7b211689fb0468086fad2862050b853",
            "076af0cb4c924b78ac3edd50804d854c",
            "eed657f23e594d8e9369ec721f03978b",
            "1b8834d3a9ec420983a05ec02d53458a",
            "30e00f6be2464cef85c05bd4c197b025",
            "10100dec22df432db0d03ac84b9783d0",
            "27cbf4b0a65e419c811d4e428e75efbc",
            "751d36ac819b4e2c9e2c8b6b2375181f",
            "61d117417a2e470b8051dd3abb852ddd",
            "337dcd89d2ae4692bbfbaa0b6fd357b4",
            "310e0b97fe114548b7b0dfc1db8677ae"
          ]
        },
        "id": "WsVB8KSxO3bY",
        "outputId": "432cd84f-de37-4c17-da8e-7db403a3ab95"
      },
      "execution_count": 13,
      "outputs": [
        {
          "output_type": "display_data",
          "data": {
            "text/plain": [
              "  0%|          | 0.00/1.54G [00:00<?, ?iB/s]"
            ],
            "application/vnd.jupyter.widget-view+json": {
              "version_major": 2,
              "version_minor": 0,
              "model_id": "e7b211689fb0468086fad2862050b853"
            }
          },
          "metadata": {}
        },
        {
          "output_type": "stream",
          "name": "stdout",
          "text": [
            "total base parameters 385030726\n"
          ]
        }
      ]
    },
    {
      "cell_type": "code",
      "source": [
        "options_up = model_and_diffusion_defaults_upsampler()\n",
        "options_up['use_fp16'] = has_cuda\n",
        "options_up['timestep_respacing'] = 'fast27' #use 27 diffusion steps for very fast sampling\n",
        "model_up, diffusion_up = create_model_and_diffusion(**options_up)\n",
        "model_up.eval()\n",
        "\n",
        "if has_cuda:\n",
        "    model_up.convert_to_fp16()\n",
        "model_up.to(device)\n",
        "model_up.load_state_dict(load_checkpoint('upsample', device))\n",
        "print('total upsampler parameters', sum(x.numel() for x in model_up.parameters()))"
      ],
      "metadata": {
        "colab": {
          "base_uri": "https://localhost:8080/",
          "height": 67,
          "referenced_widgets": [
            "0df73d6ee00f42848d84726f71fde830",
            "f093996878b744fd9ae412047563cf3c",
            "e25e3845d127420e8efd4674a2c0e643",
            "dcfe4b02ebdc47f9bb7b1efd1adc96c0",
            "e19cd6fd78204f9aae0d5dbe97131039",
            "303994217edc4abe836830a73d8ae292",
            "cd2f056969ae40488dd8440d980460b4",
            "a0488306e476434eb7cce6a31e213595",
            "1f0188c2ec3f4988a3d7586d8fd456cb",
            "ac2853673a8243b0859923337abd1452",
            "2805359105b04a329f5e88fa79a89fda"
          ]
        },
        "id": "neWGMusCO7OG",
        "outputId": "ffe3dfcd-77f9-4a46-be05-b808a1f3eed6"
      },
      "execution_count": 14,
      "outputs": [
        {
          "output_type": "display_data",
          "data": {
            "text/plain": [
              "  0%|          | 0.00/1.59G [00:00<?, ?iB/s]"
            ],
            "application/vnd.jupyter.widget-view+json": {
              "version_major": 2,
              "version_minor": 0,
              "model_id": "0df73d6ee00f42848d84726f71fde830"
            }
          },
          "metadata": {}
        },
        {
          "output_type": "stream",
          "name": "stdout",
          "text": [
            "total upsampler parameters 398361286\n"
          ]
        }
      ]
    },
    {
      "cell_type": "markdown",
      "source": [
        "이미지 출력 함수 정의"
      ],
      "metadata": {
        "id": "0Ru42sL3OchH"
      }
    },
    {
      "cell_type": "code",
      "source": [
        "def show_images(batch: th.Tensor):\n",
        "        \"\"\" Display a batch of images inLine. \"\"\"\n",
        "        scaled = ((batch + 1)*127.5).round().clamp(0,255).to(th.uint8).cpu()\n",
        "        reshaped = scaled.permute(2, 0, 3, 1).reshape([batch.shape[2], -1, 3])\n",
        "        display(Image.fromarray(reshaped.numpy()))"
      ],
      "metadata": {
        "id": "DvJE0lqbOgeR"
      },
      "execution_count": 15,
      "outputs": []
    },
    {
      "cell_type": "markdown",
      "source": [
        "특징 손실 최소화를 위한 사전학습 모델 불러오기"
      ],
      "metadata": {
        "id": "fEyhwvhlUM1V"
      }
    },
    {
      "cell_type": "code",
      "source": [
        "cnn = models.vgg19(pretrained=True).features.to(device).eval()"
      ],
      "metadata": {
        "colab": {
          "base_uri": "https://localhost:8080/",
          "height": 161,
          "referenced_widgets": [
            "369c8844a3fb40cfb96aff14a3f6dad4",
            "fa54501f3dca417785c3b2974ffeec6d",
            "de490a57f44a4363b1c8e2ab36eee5de",
            "4bb55b2a31a340b0a6b26252c35c3806",
            "4d6a51ee4a8b4c268b1199ff89fa956e",
            "0e1fce180a184ce398f32b79db182ced",
            "290a047bb3fb4e65a324ce6e4f606122",
            "40f06b22943d4077bf49387466d5edf0",
            "5549c54544dd4e4fb05eb3e89cb3926b",
            "0092a2f46da94872980bdee277161cff",
            "d51e2aaa98e447b0924fd1eddc878f5d"
          ]
        },
        "id": "FuPrOyDgUaz_",
        "outputId": "53acbd2a-c4ef-4bff-dc34-2b863231d9b2"
      },
      "execution_count": 16,
      "outputs": [
        {
          "output_type": "stream",
          "name": "stderr",
          "text": [
            "/usr/local/lib/python3.8/dist-packages/torchvision/models/_utils.py:208: UserWarning: The parameter 'pretrained' is deprecated since 0.13 and will be removed in 0.15, please use 'weights' instead.\n",
            "  warnings.warn(\n",
            "/usr/local/lib/python3.8/dist-packages/torchvision/models/_utils.py:223: UserWarning: Arguments other than a weight enum or `None` for 'weights' are deprecated since 0.13 and will be removed in 0.15. The current behavior is equivalent to passing `weights=VGG19_Weights.IMAGENET1K_V1`. You can also use `weights=VGG19_Weights.DEFAULT` to get the most up-to-date weights.\n",
            "  warnings.warn(msg)\n",
            "Downloading: \"https://download.pytorch.org/models/vgg19-dcbb9e9d.pth\" to /root/.cache/torch/hub/checkpoints/vgg19-dcbb9e9d.pth\n"
          ]
        },
        {
          "output_type": "display_data",
          "data": {
            "text/plain": [
              "  0%|          | 0.00/548M [00:00<?, ?B/s]"
            ],
            "application/vnd.jupyter.widget-view+json": {
              "version_major": 2,
              "version_minor": 0,
              "model_id": "369c8844a3fb40cfb96aff14a3f6dad4"
            }
          },
          "metadata": {}
        }
      ]
    },
    {
      "cell_type": "markdown",
      "source": [
        "콘텐츠 + 스타일 간 손실 계산!"
      ],
      "metadata": {
        "id": "_tYQ-UgRTp0V"
      }
    },
    {
      "cell_type": "code",
      "source": [
        "#특징 맵\n",
        "def gram_matrix(input):\n",
        "    a, b, c, d = input.size()  # a=batch size(=1)\n",
        "    # b=number of feature maps\n",
        "    # (c,d)=dimensions of a f. map (N=c*d)\n",
        "\n",
        "    features = input.view(a * b, c * d)  # resise F_XL into \\hat F_XL\n",
        "\n",
        "    G = th.mm(features, features.t())  # compute the gram product\n",
        "\n",
        "    # we 'normalize' the values of the gram matrix\n",
        "    # by dividing by the number of element in each feature maps.\n",
        "    return G.div(a * b * c * d)\n",
        "\n",
        "#내용물 손실 계산 함수\n",
        "class ContentLoss(nn.Module):\n",
        "\n",
        "    def __init__(self, target,):\n",
        "        super(ContentLoss, self).__init__()\n",
        "        # we 'detach' the target content from the tree used\n",
        "        # to dynamically compute the gradient: this is a stated value,\n",
        "        # not a variable. Otherwise the forward method of the criterion\n",
        "        # will throw an error.\n",
        "        self.target = target.detach()\n",
        "\n",
        "    def forward(self, input):\n",
        "        self.loss = F.mse_loss(input, self.target)\n",
        "        return input\n",
        "\n",
        "#스타일 손실 계산 함수\n",
        "class StyleLoss(nn.Module):\n",
        "\n",
        "    def __init__(self, target_feature):\n",
        "        super(StyleLoss, self).__init__()\n",
        "        self.target = gram_matrix(target_feature).detach()\n",
        "\n",
        "    def forward(self, input):\n",
        "        G = gram_matrix(input)\n",
        "        self.loss = F.mse_loss(G, self.target)\n",
        "        return input\n",
        "\n",
        "#정규화 과정\n",
        "cnn_normalization_mean = th.tensor([0.485, 0.456, 0.406]).to(device)\n",
        "cnn_normalization_std = th.tensor([0.229, 0.224, 0.225]).to(device)\n",
        "\n",
        "# create a module to normalize input image so we can easily put it in a\n",
        "# nn.Sequential\n",
        "class Normalization(nn.Module):\n",
        "    def __init__(self, mean, std):\n",
        "        super(Normalization, self).__init__()\n",
        "        # .view the mean and std to make them [C x 1 x 1] so that they can\n",
        "        # directly work with image Tensor of shape [B x C x H x W].\n",
        "        # B is batch size. C is number of channels. H is height and W is width.\n",
        "        self.mean = th.tensor(mean).view(-1, 1, 1)\n",
        "        self.std = th.tensor(std).view(-1, 1, 1)\n",
        "\n",
        "    def forward(self, img):\n",
        "        # normalize img\n",
        "        return (img - self.mean) / self.std\n",
        "\n",
        "# desired depth layers to compute style/content losses :\n",
        "content_layers_default = ['conv_4']\n",
        "style_layers_default = ['conv_1', 'conv_2', 'conv_3', 'conv_4', 'conv_5']\n",
        "\n",
        "def get_style_model_and_losses(cnn, normalization_mean, normalization_std,\n",
        "                               style_img, content_img,\n",
        "                               content_layers=content_layers_default,\n",
        "                               style_layers=style_layers_default):\n",
        "    # normalization module\n",
        "    normalization = Normalization(normalization_mean, normalization_std).to(device)\n",
        "\n",
        "    # just in order to have an iterable access to or list of content/syle\n",
        "    # losses\n",
        "    content_losses = []\n",
        "    style_losses = []\n",
        "\n",
        "    # assuming that cnn is a nn.Sequential, so we make a new nn.Sequential\n",
        "    # to put in modules that are supposed to be activated sequentially\n",
        "    model = nn.Sequential(normalization)\n",
        "\n",
        "    i = 0  # increment every time we see a conv\n",
        "    for layer in cnn.children():\n",
        "        if isinstance(layer, nn.Conv2d):\n",
        "            i += 1\n",
        "            name = 'conv_{}'.format(i)\n",
        "        elif isinstance(layer, nn.ReLU):\n",
        "            name = 'relu_{}'.format(i)\n",
        "            # The in-place version doesn't play very nicely with the ContentLoss\n",
        "            # and StyleLoss we insert below. So we replace with out-of-place\n",
        "            # ones here.\n",
        "            layer = nn.ReLU(inplace=False)\n",
        "        elif isinstance(layer, nn.MaxPool2d):\n",
        "            name = 'pool_{}'.format(i)\n",
        "        elif isinstance(layer, nn.BatchNorm2d):\n",
        "            name = 'bn_{}'.format(i)\n",
        "        else:\n",
        "            raise RuntimeError('Unrecognized layer: {}'.format(layer.__class__.__name__))\n",
        "\n",
        "        model.add_module(name, layer)\n",
        "\n",
        "        if name in content_layers:\n",
        "            # add content loss:\n",
        "            target = model(content_img).detach()\n",
        "            content_loss = ContentLoss(target)\n",
        "            model.add_module(\"content_loss_{}\".format(i), content_loss)\n",
        "            content_losses.append(content_loss)\n",
        "\n",
        "        if name in style_layers:\n",
        "            # add style loss:\n",
        "            target_feature = model(style_img).detach()\n",
        "            style_loss = StyleLoss(target_feature)\n",
        "            model.add_module(\"style_loss_{}\".format(i), style_loss)\n",
        "            style_losses.append(style_loss)\n",
        "\n",
        "    # now we trim off the layers after the last content and style losses\n",
        "    for i in range(len(model) - 1, -1, -1):\n",
        "        if isinstance(model[i], ContentLoss) or isinstance(model[i], StyleLoss):\n",
        "            break\n",
        "\n",
        "    model = model[:(i + 1)]\n",
        "\n",
        "    return model, style_losses, content_losses"
      ],
      "metadata": {
        "id": "wXQJWonfTtvs"
      },
      "execution_count": 17,
      "outputs": []
    },
    {
      "cell_type": "markdown",
      "source": [
        "스타일 변환 수행 함수"
      ],
      "metadata": {
        "id": "XhI6vbjCVCY6"
      }
    },
    {
      "cell_type": "code",
      "source": [
        "def get_input_optimizer(input_img):\n",
        "    # this line to show that input is a parameter that requires a gradient\n",
        "    optimizer = optim.LBFGS([input_img])\n",
        "    return optimizer\n",
        "\n",
        "def run_style_transfer(cnn, normalization_mean, normalization_std,\n",
        "                       content_img, style_img, input_img, num_steps=300,\n",
        "                       style_weight=1000000, content_weight=1):\n",
        "    \"\"\"Run the style transfer.\"\"\"\n",
        "    print('Building the style transfer model..')\n",
        "    model, style_losses, content_losses = get_style_model_and_losses(cnn,\n",
        "        normalization_mean, normalization_std, style_img, content_img)\n",
        "\n",
        "    # We want to optimize the input and not the model parameters so we\n",
        "    # update all the requires_grad fields accordingly\n",
        "    input_img.requires_grad_(True)\n",
        "    model.requires_grad_(False)\n",
        "\n",
        "    optimizer = get_input_optimizer(input_img)\n",
        "\n",
        "    print('Optimizing..')\n",
        "    run = [0]\n",
        "    while run[0] <= num_steps:\n",
        "\n",
        "        def closure():\n",
        "            # correct the values of updated input image\n",
        "            with th.no_grad():\n",
        "                input_img.clamp_(0, 1)\n",
        "\n",
        "            optimizer.zero_grad()\n",
        "            model(input_img)\n",
        "            style_score = 0\n",
        "            content_score = 0\n",
        "\n",
        "            for sl in style_losses:\n",
        "                style_score += sl.loss\n",
        "            for cl in content_losses:\n",
        "                content_score += cl.loss\n",
        "\n",
        "            style_score *= style_weight\n",
        "            content_score *= content_weight\n",
        "\n",
        "            loss = style_score + content_score\n",
        "            loss.backward()\n",
        "\n",
        "            run[0] += 1\n",
        "            if run[0] % 50 == 0:\n",
        "                print(\"run {}:\".format(run))\n",
        "                print('Style Loss : {:4f} Content Loss: {:4f}'.format(\n",
        "                    style_score.item(), content_score.item()))\n",
        "                print()\n",
        "\n",
        "            return style_score + content_score\n",
        "\n",
        "        optimizer.step(closure)\n",
        "\n",
        "    # a last correction...\n",
        "    with th.no_grad():\n",
        "        input_img.clamp_(0, 1)\n",
        "\n",
        "    return input_img"
      ],
      "metadata": {
        "id": "6MyRedDIVH1T"
      },
      "execution_count": 18,
      "outputs": []
    },
    {
      "cell_type": "markdown",
      "source": [
        "제시어를 입력해주세요."
      ],
      "metadata": {
        "id": "NApNtQJfFwu7"
      }
    },
    {
      "cell_type": "code",
      "execution_count": 19,
      "metadata": {
        "colab": {
          "base_uri": "https://localhost:8080/",
          "height": 54
        },
        "id": "DK-vpstRFuOJ",
        "outputId": "f62024c4-7c0a-4000-8d89-c0e03101e4b8"
      },
      "outputs": [
        {
          "name": "stdout",
          "output_type": "stream",
          "text": [
            "저녁노을\n"
          ]
        },
        {
          "output_type": "execute_result",
          "data": {
            "text/plain": [
              "'the evening glow'"
            ],
            "application/vnd.google.colaboratory.intrinsic+json": {
              "type": "string"
            }
          },
          "metadata": {},
          "execution_count": 19
        }
      ],
      "source": [
        "trans = input()\n",
        "\n",
        "trans = get_translate(trans)\n",
        "\n",
        "trans"
      ]
    },
    {
      "cell_type": "markdown",
      "source": [
        "생성용 파라미터"
      ],
      "metadata": {
        "id": "KzZDTa-DOoFe"
      }
    },
    {
      "cell_type": "code",
      "source": [
        "#Sampleing Parameters\n",
        "prompt = trans\n",
        "batch_size = 1\n",
        "guidance_scale = 3.0\n",
        "\n",
        "# Tune this parameter to control the shapness of 256x256 images\n",
        "# A value of 1.0 is sharper, but somtimes result in grainy artifatcs.\n",
        "\n",
        "upsample_temp = 0.997"
      ],
      "metadata": {
        "id": "-8a0ufNCHzHe"
      },
      "execution_count": 20,
      "outputs": []
    },
    {
      "cell_type": "code",
      "source": [
        "#확인용\n",
        "prompt"
      ],
      "metadata": {
        "colab": {
          "base_uri": "https://localhost:8080/",
          "height": 35
        },
        "id": "69ETa-LvgEWB",
        "outputId": "34f61423-fca3-4e0d-882e-0114a1b10e91"
      },
      "execution_count": 21,
      "outputs": [
        {
          "output_type": "execute_result",
          "data": {
            "text/plain": [
              "'the evening glow'"
            ],
            "application/vnd.google.colaboratory.intrinsic+json": {
              "type": "string"
            }
          },
          "metadata": {},
          "execution_count": 21
        }
      ]
    },
    {
      "cell_type": "markdown",
      "source": [
        "이미지 생성 시작"
      ],
      "metadata": {
        "id": "VkvtnT9jPcJ9"
      }
    },
    {
      "cell_type": "code",
      "source": [
        "# Create the text tokens to feed to the model\n",
        "tokens = model.tokenizer.encode(prompt)\n",
        "tokens, mask = model.tokenizer.padded_tokens_and_mask(\n",
        "    tokens, options['text_ctx']\n",
        ")\n",
        "\n",
        "# Pack the tokens together into model kwargs.\n",
        "model_kwargs = dict(\n",
        "    tokens = th.tensor([tokens] * batch_size, device = device),\n",
        "    mask = th.tensor([mask] * batch_size, dtype = th.bool, device = device),\n",
        ")\n",
        "\n",
        "# Setup guidance function for CLIP model.\n",
        "cond_fn = clip_model.cond_fn([prompt] * batch_size, guidance_scale)\n",
        "\n",
        "# Sample from the base model.\n",
        "model.del_cache()\n",
        "samples = diffusion.p_sample_loop(\n",
        "    model,\n",
        "    (batch_size, 3, options[\"image_size\"], options[\"image_size\"]),\n",
        "    device = device,\n",
        "    clip_denoised = True,\n",
        "    progress = True,\n",
        "    model_kwargs = model_kwargs,\n",
        "    cond_fn = cond_fn,\n",
        ")\n",
        "\n",
        "model.del_cache()\n",
        "\n",
        "# Show the Output\n",
        "show_images(samples)"
      ],
      "metadata": {
        "colab": {
          "base_uri": "https://localhost:8080/",
          "height": 113,
          "referenced_widgets": [
            "faf3cbbf49914f80bc8adaab8cd3e72a",
            "c5ab3337e1c94c55b5dc0adc45bb5716",
            "781c5a2c4f7f4d67b32e886527f828c8",
            "8b90c16830ac4f86bf21767cf5d61334",
            "bbfaf19bf4074c98a1a70e5f7f3b213c",
            "215ef0f2d2f44d7b8fe340288b75dbf3",
            "bbb65909a24842de894d3a0811b190f8",
            "b7b86517f7dd4514952e71632a0eadfe",
            "769402a159574828a787cd33a7138850",
            "b8fb05e0deeb4bdf84a97f31723ba5fd",
            "d592925e1af04b298dadbc392fcdfc71"
          ]
        },
        "id": "xoC4eCRtOnbF",
        "outputId": "2bb1d90b-4971-4044-9b42-1e635815248c"
      },
      "execution_count": 22,
      "outputs": [
        {
          "output_type": "display_data",
          "data": {
            "text/plain": [
              "  0%|          | 0/100 [00:00<?, ?it/s]"
            ],
            "application/vnd.jupyter.widget-view+json": {
              "version_major": 2,
              "version_minor": 0,
              "model_id": "faf3cbbf49914f80bc8adaab8cd3e72a"
            }
          },
          "metadata": {}
        },
        {
          "output_type": "display_data",
          "data": {
            "text/plain": [
              "<PIL.Image.Image image mode=RGB size=64x64 at 0x7F1F304C01C0>"
            ],
            "image/png": "[encoded data removed]"
          },
          "metadata": {}
        }
      ]
    },
    {
      "cell_type": "markdown",
      "source": [
        "업샘플 - 결과물 중간 확인"
      ],
      "metadata": {
        "id": "d3KJrSQ-gjDG"
      }
    },
    {
      "cell_type": "code",
      "source": [
        "tokens = model_up.tokenizer.encode(prompt)\n",
        "tokens, mask = model_up.tokenizer.padded_tokens_and_mask(\n",
        "    tokens, options_up['text_ctx']\n",
        ")\n",
        "\n",
        "# Create the model conditioning dict.\n",
        "model_kwargs = dict(\n",
        "    # Low-res image to upsample.\n",
        "    low_res =((samples+1)*127.5).round()/127.5 -1,\n",
        "\n",
        "    # Text tokens\n",
        "\n",
        "    tokens = th.tensor(\n",
        "        [tokens] * batch_size, device = device),\n",
        "    mask = th.tensor(\n",
        "        [mask] * batch_size,\n",
        "        dtype = th.bool,\n",
        "        device = device,\n",
        "    ),\n",
        ")\n",
        "\n",
        "# Sample from the base model.\n",
        "model_up.del_cache()\n",
        "up_shape = (batch_size, 3, options_up[\"image_size\"], options_up[\"image_size\"])\n",
        "up_samples = diffusion_up.ddim_sample_loop(\n",
        "    model_up,\n",
        "    up_shape,\n",
        "    noise = th.randn(up_shape, device = device) * upsample_temp,\n",
        "    device = device,\n",
        "    clip_denoised = True,\n",
        "    progress = True,\n",
        "    model_kwargs = model_kwargs,\n",
        "    cond_fn= None,\n",
        ")[:batch_size]\n",
        "model_up.del_cache()\n",
        "\n",
        "#Show the Output\n",
        "show_images(up_samples)"
      ],
      "metadata": {
        "colab": {
          "base_uri": "https://localhost:8080/",
          "height": 305,
          "referenced_widgets": [
            "fff89ca9609b48b38c757ce3461c209f",
            "feabb0420b8d45b0b076c6cb9505cd51",
            "4c4b8aef546c45808f71fb02646f1de1",
            "596b940c6add49e4a923fe378b0385c3",
            "3b0ba5a4afc34caca882fbae6f1c59ff",
            "9614a0c5cd6b4d389f83d2b2d68397b9",
            "0d694bc43d1d461fb4f992be8094b042",
            "3594436534d94d3591f672502ded850f",
            "2f26488e20b844fdb9ae0cd4c8ba79d7",
            "e79e8e6489a84c1793e036fe71b9a6b0",
            "56ee4abdd50944fcb0be8c03567ae699"
          ]
        },
        "id": "rRjjI0gZRfDB",
        "outputId": "4ccfeaac-7b2a-4c59-d3c7-d3c2f94f253e"
      },
      "execution_count": 23,
      "outputs": [
        {
          "output_type": "display_data",
          "data": {
            "text/plain": [
              "  0%|          | 0/27 [00:00<?, ?it/s]"
            ],
            "application/vnd.jupyter.widget-view+json": {
              "version_major": 2,
              "version_minor": 0,
              "model_id": "fff89ca9609b48b38c757ce3461c209f"
            }
          },
          "metadata": {}
        },
        {
          "output_type": "display_data",
          "data": {
            "text/plain": [
              "<PIL.Image.Image image mode=RGB size=256x256 at 0x7F1F319287F0>"
            ],
            "image/png": "[encoded data removed]"
          },
          "metadata": {}
        }
      ]
    },
    {
      "cell_type": "markdown",
      "source": [
        "이미지를 저장합니다."
      ],
      "metadata": {
        "id": "170Tay0YSVDw"
      }
    },
    {
      "cell_type": "code",
      "source": [
        "!mkdir project"
      ],
      "metadata": {
        "colab": {
          "base_uri": "https://localhost:8080/"
        },
        "id": "0Jlzo7GKpb5z",
        "outputId": "4b1b66e3-1774-4101-e23b-0ba3cc6961d7"
      },
      "execution_count": 27,
      "outputs": [
        {
          "output_type": "stream",
          "name": "stdout",
          "text": [
            "mkdir: cannot create directory ‘project’: File exists\n"
          ]
        }
      ]
    },
    {
      "cell_type": "code",
      "source": [
        "!mkdir project/result"
      ],
      "metadata": {
        "id": "MxBklJM2qmdI"
      },
      "execution_count": 28,
      "outputs": []
    },
    {
      "cell_type": "code",
      "source": [
        "#Tensor -> PIL이미지로 변환하여 저장 (pixel들의 batch로 변환)\n",
        "def save_images(batch: th.Tensor):\n",
        "        \"\"\" Display a batch of images inLine. \"\"\"\n",
        "        scaled = ((batch + 1)*127.5).round().clamp(0,255).to(th.uint8).cpu()\n",
        "        reshaped = scaled.permute(2, 0, 3, 1).reshape([batch.shape[2], -1, 3])\n",
        "        result_image = Image.fromarray(reshaped.numpy())\n",
        "        result_image.save('/content/project/result/input.png', 'png')\n",
        "\n",
        "save_images(up_samples)"
      ],
      "metadata": {
        "id": "5GYWNs8MSY0X"
      },
      "execution_count": 29,
      "outputs": []
    },
    {
      "cell_type": "markdown",
      "source": [
        "스타일을 선택하세요\n",
        "1. 고흐, 인상화\n",
        "2. 뭉크, 절규\n",
        "3. 피카소, 무채색\n",
        "4. 우키요에\n",
        "5. 피카소, 다채색"
      ],
      "metadata": {
        "id": "V6aVHQEuTM8p"
      }
    },
    {
      "cell_type": "code",
      "source": [
        "!mkdir project/style_images_ex"
      ],
      "metadata": {
        "id": "__ELXkKrrQlY"
      },
      "execution_count": 30,
      "outputs": []
    },
    {
      "cell_type": "code",
      "source": [
        "style_num = input(\"스타일 번호를 입력해주세요.\")"
      ],
      "metadata": {
        "colab": {
          "base_uri": "https://localhost:8080/"
        },
        "id": "u4vPZ3cZ2VEs",
        "outputId": "7dcb1d7a-bb0c-4b15-9438-adbf869946b0"
      },
      "execution_count": 72,
      "outputs": [
        {
          "name": "stdout",
          "output_type": "stream",
          "text": [
            "스타일 번호를 입력해주세요.1\n"
          ]
        }
      ]
    },
    {
      "cell_type": "code",
      "source": [
        "import urllib.request\n",
        "\n",
        "if style_num=='1':\n",
        "  url = \"https://lh3.googleusercontent.com/fife/AAbDypAarC9awC98ZiuoJJ_UKGGu9AGSHLmn6ReweHKk_ddrstKVX05a8ajAtZwqBiQGBjtwyrDeRMi65iUi1Vz2_sC1E7w0e2wGaxMV81YR0Wqth-UxfsC4DdUItkP3oM88oRF5e-jKdq5FZkXc2VUniJVzXIUTZgMgeq4-hMlNdjJQIrkzsXEFghJ3awZH-_PTdxWHOfJ92BZJMAron2P88vF9haUkVZzZ7Vtiz0q8ZXYwT3b19l17S-vKC9nspdTMxCgUcFRCg4zNG21LtLhk9jMuu_4EAP32Y1lOFogZraY_JCLOgIWXPAE1t4cpjpx0wde93pzGMU2ZLNB2mFlkarFWulQBG2srT2zuf_r3VgXLm50di3tZtCHNHAob9FRZ6lZZQKjdG6xVOfWqCUfGXCBC4qFIy1up42jlu1-W-4hiicZVbYnUApeFVR90U9UA59bLJwKnD12c8K4Lak1Vw1uh6eWrwDkyAL_w03zQmBYJfTaKJQdE5iw-MhDYcXCWPlBXCjvfXlwicYcU8NXOgghjEgJDPFFtNxzXduhwxOf8uMzrGC7R_LrnX-C3w03OI1EQii6oCyly0DsbOTT0TKK5ckv06UQ39upiyo3blHhbi7PBzN__0G1w6vZ2dFBC768wQGrRL7QaRcu4Wx12GWBAYbA0zHit5jNLxt3ERwPXAvzEIgJAblhjA4s0E8EKUKjWe9wkGTW1NSf7xom7jKJHlHsb4FDxs_5L7nbF0aupyLUr5gjxb46KxWVBmDy5Ih2-X3BvpfjiGfBq1nC2wGHw2mJqWLrthsM-uIN7F71hAWQqYWKibwkTn6oTfsgGWlQoQ43Pg7w3rPb0ficuMzseUwWg55D_NKnf2SeGYkPE5OClNDBOKU3aELywQ_iJBkFX4EtayFO7zIDXg5NVuGzSmc19WV3H9KfbyttZHmtjXmmrxz_0nZNCe_mMIOMT2aRwYUH-WPO3dLJHxicmIxIeeNP6_H9VXUzuaOZKhkOJCH1tOpS5VupjUBTaaCzlGDbPCfV0MJkpZX7cTPdOPNQpT4LKj4lBAtxCQ1roagIvSgxu7lED7PB840w_QrPyGlps9FV25ZFwGcs9O8nmZvfjE-Quo2bsonONAI7hn8dAXL_YXIVupHBZjo2hK2-dnTsLS6WY_1R8njm6XWVj-N2R0K0x09d5xALQ-UlCcBk4vM6cvwylz598ZbrBtKFdgFxeSWYFYsYvHvqtPk0UkF31a6vXKH61oJ2XNHEQo8qZZw0wRe8jfUn9_kaFCTof4w3m7crtrTdhl79RZ2Rd3jPdD8cNUZwX5wXgbqjxZEGmIIQXaRkU2IGM7ec8NsvOF8Mubw61gKXVJ74ao5Y7O0KgmKYXKkjed9cF9KUp62XWaXLJ0AZnMNGOybJ2hIRHCz1IWhv1NRcQDU0jj0mLw7Y-wwX6xU5_kdxSuyl7sD_3vxW_bU_F6gg47oPcnaqSUODPwEfWGQ6si_WXdhUx7xgS3dhBan09eS7_pAzryqIIWgu6gZ2Qufofb0Y=w1600-h732\"\n",
        "elif style_num=='2':\n",
        "  url = \"https://lh3.googleusercontent.com/fife/AAbDypD7X-LzFGZMKcgcoizs9AvTq8n9Fk7Xmx_u1NMrkwQHfGaeM7hU4Kj_p2j4ew3HhzucqonEj4K9dvsrf6-i9shImVcL9ib13ebD5SUhO0fy8yO8SRPQ7xaX16lhxWl3rmfMeV-O0lX7lEGJY0g2DJD_lHt-Ons-hI4whsc-sKCokz3ENUtRKxxgRPri8N9FUm2gmeF9Nsms-IpuCk0GLADfwFFINP-4WIPllU_V8aLMzStvMCX7zrQGv4O0_yHaEALfqrVSOJNKX4Xv9hFaeFRELKBwpwDLyFSczQwQMu11cy4JW_bMetFMJ8QfspOYfpUOE_AK5Yxndkj8Nxp6Hs-YF2YsSWXdhjZPFgHunL0r6UYYBtaCeOU0RivzafRn4km5itVmr8403lCojjPbz8NBiEVVm8JySUz3O2_EL4cQXpwJVN5UgIAzJNUTidcSmDPY20rRmjjLKw73TL1yQHeHucFZFIbr930u07bZSry5PiTdzbBMyzFByoGSqKcEknnaPNcSUMu6EEt360o2XTEFE5eyF2iofbPFhhmokQ4UxozX9-A02kikC0bub1-nvN9Tyr979HWPa-VOMeVhEc0iZW7mih2uFQctkYQ1CQqr2bMX6PIHC9yYwpJCrIJnlfcryCeGXOZSVkTvWwLeCfFfxMzJuWixpCfL7Rwdq9QVC1UOLRpeFX295i05c4D52UvhbE3kD1coywuA3HWAa9IMhjSKIgOlNmFLOUc4KpKSJuOqmQpuIbNym_GrJmAXcVrgPWU6HlLTnkE4v6YXGOYqxigXJ0r0BJ4PIH5gBaac4qRlzytQZQ1G26OoUk82x-HnyX7MFUfuyPISiID6MpTPP2up6j622cqgl0oiFMd23iyEC3sVnB0845VQOATcVoH1euAAiz5JAnBFEN1x9EvWQ0Y85ni5elA5pQ2HRgFFZLRIm2FezUr2sUtyFg9XA8e2-jhzzzLx4wLx2dMNDm7V0n_6ha5v0imwnB-_6wSNucMuZvdUz1vyVg0LmDNeSjm0O8tQ5eUrv7nWO8AwUzH06u_S2lzGkS7mWU-tij2C9vvqexCBmTOmnHS5ZwRE0i97Rq5PeFO5cEyGhfF_Y493yTuQjUrkTazVhG7_Fl0jHT5mpiCmwgVEiAUfScUezXEXv56ImHeIbvXo3AGoblpY0yMMfHBQmynhZuFeKW54wPeqKKT6juT_as6w57CKTBqfY5lHjf_iex73gd2ea7xR6TyzS6W9W0bMc0UsjrCcLBffevjJo9iLrpk3iiVSvzJzGDpRI5khXBujSSg-F6lrtSEz8bHibRYGSmZtsoYduzSyXF6gK2EgH4ISea0G5NPCbMc9Q2myMXu7Us1oECQLDVWbPmr96tj2mIpVbERIMd_nDxfV0hpVU3FT5SUil5inY9uBQ-T7hQfwRm7-4oyIkZPwMrmVN8NnrdN0wjE8bAg_Mhv4OvZfkL1okPqdB4zcHNbiMbQP_WQofobEZn7Rw3J2S4-laZ3dSZrIgjns_dR2r9HLkSzxurU=w1045-h732\"\n",
        "elif style_num=='3':\n",
        "  url = \"https://lh3.googleusercontent.com/fife/AAbDypC1OagBuzUoJMAWv9uMZym1Vn7wUDMYoxTOSdKm1zbVTu6QQNR5I7-6I7UmLc5faLvg2OIrxeBMBtHEnfeYNy67hkX10U-JuboRCZE-VqDeikAvYNa44k6oMhUnKKauhTquLEf0Q4EMzLv8hcw2FFOtr1wCDtvv8-qJcsB-RjvyBC_AVBJ0yywCQVwEYJM1V1fUxg_YfuTifyRQ7CFy6B6-QdeJzeYtYqDqlqdkGfQzNCGFNuVvS9PCoVWbDsnlxzdC8KCkOF1eigcpjiMqdRLigI3xQ4C5YkFUfVdeZT9hsqZbB5gwBTtnC6Hq2avi5t8sgF1SqqlWARBdqxV-grocl4g_wkHof6YFrZUPs-amUcQNkvt2xcbapympwMbGxsfadkV4fdJIn7DwKw6Ubp3GsK65hfu4fWMXQOyBFRI6wJM8Nu0Givrej6S9iwObSJ4koia74LfDNhKE5qQGBhmuO4_WmOYyBfFx9Kz7OGgjonbyezhpoZE2HsZtcQ2IZbmv7noMGFYOjWaEWNnCE2IuiUE-GWWRtWdiNr2s3quKn3WRVjBFNtofw50Uxt93r8ndPjs4oVPGV5wFhI_xV_IBBOvNUtVEwhpWYsdSYaXEL7gbeU0ii-DvTxH6yv9I6GAJmQ0hO20I0-5GInErzIYCHWNWQ4-YXH2_L8A-_SNfuC5nGz4e2hMbkNZJHmPB5nlJ0N2vWgR41R2weFkvrO_xh2p8te1p0vV4sQPyoAjJonlu2LnCq01nzlsIqfuddQYbB9ub9mQWxgm6XqaZzcZBnrpjuPdEUDBsABN_g-1c5twHT4MXj3KhEtmVgEy8Jnw3kZjm4HsRXEsngIZwNDrJESS8XkVEOU2C2Lfw86yGJtRThhjdPiDwMKwFVNi1O_35dhnFUwK-JPag7vcoJIhIQpXugEfMSGfGos5ajx6-eoBfHx2p5UhK-q90Nf3wHv5Ws3wgku7nVS8PK32piF1pNnJjH0zoBtP7jzkQ15yVADSXfQDES9w3pWM510K7ELMH3C1MCOjKGScZHAzCP556yzLuasClni-qJ_3XopbkdIcrXZeS9PeBq3Z8xkrC_z57FhLDTMNwgSQ86L_25Y_PiAENhdv3YQhTgT2svD8vHEUvxVpsbrnUOdbiYwdWTJ0DlbM2wf8BBwKsWpHAmM61sE3bJUonSX3LxXhfK3PIUUaY8mvbuZ5gWJu6Ip1SC7TdlMDQCzG1cFR0QNmF6QaRk55fpYAyMRHfVizhOV6tT3hPpJ5DNtomG1zHzXlU9LSGJY_uRq_APyqp8UDr3xyVbcWZcfdUQdJ61hRyIsxyVCXp_V4Heb8PUnatMT-o7HRffJsWD-1rQxVN0c_WFmHK39hLQfwQZyoy_8LXM8h0Z0Vf9Hk0wnokumgJltxDn_uYH1KqBS1rYvpw23vx7THBLuQMiOghkIt2eUkbeH3GAzLHBiNXghmc0UaeiMRH6SYiAp_xb8zN-PhHKnceNPdjofsYaZEvqE591Y37ZK7xhqSRWNHiRfYj3tw=w1045-h732\"\n",
        "elif style_num=='4':\n",
        "  url = \"https://lh3.googleusercontent.com/fife/AAbDypCRdNwV1_xznDzyYUbnTC5g0iziKxMfPHedskl54l4RRrC5nI90AxMHa3tgytpqy2N0-_5wr8b-Nf1ELV-IFq9stn718sFaHwvXn5tcMuQhP4-N8pDsX6H-ECZXRER-TnhnqYebdGcrmKTVQvxs4sH0nQwrTLf3ZpERm6Py8x-UaYlNRXxLQrynwt7Nzw8IcYUPA245wJUBHDKUvDDVHXVA67VWqRskspZVKeuF5bGodkoZr54int6lH-6zuqGQEy3g1TgXy3qnzqVrHweydS7Kf_ZCfy2kerg1kzATTc8QJWlhZXagzuOyS9zDPbx1IWKt0QumiQu7ED5S_z92Hu33fDxLXqjj55UI9OmZPSDTe2pWeMN1VENZLv-_W_49op-7FkKfP6jDHwLzedH2siU3aCy1NS9rTZvcdUR-oqwMxx4xkqbjvMUhclepIdTppCQYUy5lWWVtDUpGL1FDeJw7DP1567rAVKIdzbbD-HN-sKmgjqI4OFZhSc7-Ti-42rqgxQRmaVPXjHZ1bp3CYTxzp0zk6iwtIVO0nzLAylVQR_JZ_Dd0tls1vwx_SP1ullHyFBrA9Y41ofn-KXtd0JvsVEUD93WCnLveRtsYRdDInX2nz3hig9jh0ZfvUOWhRWUytvxASldafpGVw8WsDh_Wj0lOeWtxFHTdSrAPaKng683qmpQAeb8cXhadaQtrbJmemEeGxqJyeDUR2JDgpzsC2X1TZKHmxg9cEnXyrCWw_pvxbpAznwnIJS6RTSMl3rwbA-IXBPcPI6-TiHNyqvtmmOGycPBfpLl-tbXzn3jN949YV9q5x2iDWHJ2BKMAy1v_BErazp1hU_D4LcsLBCI6pHvaQTJhdBeHIbxbEaSjXpogtQSpfdXZm0Xu8F0xt4ahT8ccYeY4lwyB9YUCaUb1i3tm5quwxWJLGGKmmFCQgwvkpyi3KEGu4M14adPvmAQvXzfHPwdN1DMVSyA0038w9UqtBS-tKz9NBmV_Y7hVN1g8ua2cwyJTvssP2wmYBZR3ICi6A_E2QM3vopmjv12_biOa1xWaREH3dpVWcpRZXBJHNDctzInf1-NwHr0LrwZZTqBZFJAvUfxBEra-N77ApQ-LnBCKdZj-8TO8q_BFDkvYl0jxLgUrPd_zeg6a2-3Dn378ualk7zizApQlNPTMriLaj8HpXoCLYSOoYuC1T1jl6oH8G6bnmtKuLUnlb5LkiVRNj0PgE_LbgNATgvIdyEruRotc6yEyHpwiYrY-dtpnqltetwZS0ZDmpfuYt5gmf1xHDio1O3K3bfyn-f73pZIuLL9b9bUxomy1RPy4jtFi6ieuwO2bVe3lnkVKhUY2i24IUZkdo4xM3lLTWhd85-rfGIyo894ozphWfH8WDMqz1GO_zT_pLIjvmGsI7xoE4voQ7Zl3zSOrltoFZaeJWTJw_sbp4yImUjRpyemtN4ut4WT9sXNHRuiGV0cTHc3gnzuhhkLxNNRtc2ufnYxUiW3xJkB233KLMiof_OHqo70lB0ZWKqlmNw4=w1600-h732\"\n",
        "elif style_num=='5':\n",
        "  url = \"https://lh3.googleusercontent.com/fife/AAbDypDDN0CsxUASo83-1qcW0qtGY429h_XcMdJLbYrZENc-EqapYKTj2Al2bJLWTac8ymMc3cs1xfYXeF2oBrWgcG1qu5WsljPBGkuI8FC9Ni1gge15xm9TCQHIyyI4uVdCo4yEix6DyS-v7vtyhWICjn96s1Rxu1G4GfyyUrY16UK1aglCyIC8K2NTLGgaIRT60tZOLb4ySe5rHBVj8Q9sc0aj_4PUZ-c4gmC0OgLAujWx_7uX_GrBOmX93RVnQ5F2iBnPTPiyCUjrcf6q9ytNd8GnALHtuEJsFLl5ODRrSei_n0gjXGCu8W0eAxPBcX72sR5lGYJ-uMENRnRnm-iJcJDpGh_Ca_AWdtNgeMNA0TJh9HEj_83P1pdS0r3nPPpP8CNA9AOXNW3tafDaEFamT_hR5PgfuRELn52k6YzHYw8pkArLeHO_dTV3JNn3iFMi6g0ivmyGVR52N87cAVkaKkX-dFQkgLhWEjCedVoyGqc2KH6Gu-TUg1vBLvSwVofzqbFttF_ELJI7dOYOBCkslGnGI52P1AVUvt8iGQ4HXgPCKsv8bvho7UO8A9NCoY22TdjlAMkJ4VF_tFTdj0k_4ktLdaz8JqkkS1k8SVSGbki4nMldRhrNsxBtV8Gw1jWbksTTNommXyopJNyhv4RtMZ15UfSE_hARhHjIAAq6hl50GiKhej4eyXpDZkUuQHYEZHBAH4tdbPYtKwzAyoHNQJaL_T5EdMXdJw-MKUkFPG47SddedzXiyoXy00XUW1uzgfdSejKxxCsKDKv8FrOOzp2h_TZTRkx7EufuNo1XS74Mvr4pUfvsmcRnHSDiMBK-TLxwpC0ggQRQSpZaCS9ro6PCp9hO8Nw_10NvEgyMWqSqQHxjADuCLz3R7dodlEC8N89GnswhNBhSyn3G6qM3oN_cF028ySrAbm1gQF3jombLuhPR-GcXey2YcWhgjCtQg_g7SUGs_hBSPBV10upLQ8ejlFVzL3AAYn3T02EZn-OkuHndYc2-84_ml13DnG_zuJm2o-JWx53xLc7Cve7zkKucKTAmr4hcKmM_vrL1ELCy1m6kts6nA4L0i3Wt7JQyilCWate42UCPgHflDB9h1XtZL2jbEkBRDEe5NF8zndNXfyxd2mC5SNWMLOUgSG5tMzO6hEYhrvYLD4MrmL_xv_ropR0odxpwCXCPOyIRIcIFdpLlF9kCClIkjx4KmeW1CJY9jZyhCQdKJdpmamhMm_ZgL0xhxDgAXeyXXVVvrgwPJ4Sakb-kCq5F3fbTTMWqq_X0rsNyQBehIXObqV8JGv04xcm-uDW1ImTt0lDNy_eag5OdgOM6e2IfQzliZOGVyNvVuA9Frk9K0wnWe5kml7FZmI7W-2-YwdIvVqkBl5L4sQWZK8bzFMfVTQjX6j4Rlqyu1yypk0t8B6Nv59kBHADlXrskG7hl_WpqO6IKx8C5IK2UqoHbquoIaiqdW2Sm5DkA1W4j1RgcTmZfeYLf2xn7XOp2rUlIi0XeI07L9CaZDnwCw7RO3TrXXtE=w1139-h605\"\n",
        "\n",
        "savename = \"./result.jpg\"\n",
        "\n",
        "image = urllib.request.urlopen(url).read()\n",
        "\n",
        "with open(savename, mode=\"wb\") as f:\n",
        "  f.write(image)\n",
        "  print(\"저장됨\")"
      ],
      "metadata": {
        "colab": {
          "base_uri": "https://localhost:8080/"
        },
        "id": "EOWAXme9rXZJ",
        "outputId": "112c8c18-855d-4a16-d249-5cb7b16531db"
      },
      "execution_count": 73,
      "outputs": [
        {
          "output_type": "stream",
          "name": "stdout",
          "text": [
            "저장됨\n"
          ]
        }
      ]
    },
    {
      "cell_type": "markdown",
      "source": [
        "결과물 리사이즈+ 스타일 이미지 input (크기조절용, 4번 선택시엔 실행 X)"
      ],
      "metadata": {
        "id": "-H1gMK7RTa3F"
      }
    },
    {
      "cell_type": "code",
      "source": [
        "ori_style_img = cv2.imread(\"/content/result.jpg\")\n",
        "style_img = cv2.resize(ori_style_img,(64,64))\n",
        "cv2.imwrite('/content/style_img.png', style_img)"
      ],
      "metadata": {
        "colab": {
          "base_uri": "https://localhost:8080/"
        },
        "id": "lLYyE6S7TQCu",
        "outputId": "9256deae-1ef0-46f8-ee57-7866a7e0d818"
      },
      "execution_count": 69,
      "outputs": [
        {
          "output_type": "execute_result",
          "data": {
            "text/plain": [
              "True"
            ]
          },
          "metadata": {},
          "execution_count": 69
        }
      ]
    },
    {
      "cell_type": "code",
      "source": [
        "# desired size of the output image\n",
        "imsize = 512 if th.cuda.is_available() else 128  # use small size if no gpu\n",
        "\n",
        "loader = transforms.Compose([\n",
        "    transforms.Resize(imsize),  # scale imported image\n",
        "    transforms.ToTensor()])  # transform it into a torch tensor\n",
        "\n",
        "\n",
        "def image_loader(image_name):\n",
        "    image = Image.open(image_name)\n",
        "    # fake batch dimension required to fit network's input dimensions\n",
        "    image = loader(image).unsqueeze(0)\n",
        "    return image.to(device, th.float)\n",
        "\n",
        "\n",
        "content_img = image_loader('/content/project/result/input.png')\n",
        "style_img = image_loader('/content/style_img.png')\n",
        "\n",
        "assert style_img.size() == content_img.size(), \\\n",
        "    \"we need to import style and content images of the same size\""
      ],
      "metadata": {
        "id": "tDc7HgvcTYVd"
      },
      "execution_count": 75,
      "outputs": []
    },
    {
      "cell_type": "code",
      "source": [
        "#두 이미지 잠시 확인\n",
        "unloader = transforms.ToPILImage()  # reconvert into PIL image\n",
        "\n",
        "plt.ion()\n",
        "\n",
        "def imshow(tensor, title=None):\n",
        "    image = tensor.cpu().clone()  # we clone the tensor to not do changes on it\n",
        "    image = image.squeeze(0)      # remove the fake batch dimension\n",
        "    image = unloader(image)\n",
        "    plt.imshow(image)\n",
        "    if title is not None:\n",
        "        plt.title(title)\n",
        "    plt.pause(0.001) # pause a bit so that plots are updated\n",
        "\n",
        "\n",
        "plt.figure()\n",
        "imshow(style_img, title='Style Image')\n",
        "\n",
        "plt.figure()\n",
        "imshow(content_img, title='Content Image')"
      ],
      "metadata": {
        "colab": {
          "base_uri": "https://localhost:8080/",
          "height": 545
        },
        "id": "sGINM3zBTVnG",
        "outputId": "c6158ffe-b2e8-4e7d-84e8-f900ce79224b"
      },
      "execution_count": 76,
      "outputs": [
        {
          "output_type": "display_data",
          "data": {
            "text/plain": [
              "<Figure size 432x288 with 1 Axes>"
            ],
            "image/png": "[encoded data removed]"
          },
          "metadata": {
            "needs_background": "light"
          }
        },
        {
          "output_type": "display_data",
          "data": {
            "text/plain": [
              "<Figure size 432x288 with 1 Axes>"
            ],
            "image/png": "[encoded data removed]"
          },
          "metadata": {
            "needs_background": "light"
          }
        }
      ]
    },
    {
      "cell_type": "markdown",
      "source": [
        "내용물 이미지 재확인(오류 확인용)"
      ],
      "metadata": {
        "id": "x-qjONp0U2NL"
      }
    },
    {
      "cell_type": "code",
      "source": [
        "input_img = content_img.clone()\n",
        "# if you want to use white noise instead uncomment the below line:\n",
        "# input_img = torch.randn(content_img.data.size(), device=device)\n",
        "\n",
        "# add the original input image to the figure:\n",
        "plt.figure()\n",
        "imshow(input_img, title='Input Image')"
      ],
      "metadata": {
        "colab": {
          "base_uri": "https://localhost:8080/",
          "height": 281
        },
        "id": "SyNR4uDPU5xb",
        "outputId": "b1ca5a28-dd05-4015-b854-eb0657b3b88b"
      },
      "execution_count": 77,
      "outputs": [
        {
          "output_type": "display_data",
          "data": {
            "text/plain": [
              "<Figure size 432x288 with 1 Axes>"
            ],
            "image/png": "[encoded data removed]"
          },
          "metadata": {
            "needs_background": "light"
          }
        }
      ]
    },
    {
      "cell_type": "markdown",
      "source": [
        "최종 결과 생성"
      ],
      "metadata": {
        "id": "-55gjiULVKfi"
      }
    },
    {
      "cell_type": "code",
      "source": [
        "output = run_style_transfer(cnn, cnn_normalization_mean, cnn_normalization_std,\n",
        "                            content_img, style_img, input_img)\n",
        "\n",
        "plt.figure()\n",
        "imshow(output, title='Output Image')\n",
        "# sphinx_gallery_thumbnail_number = 4\n",
        "plt.ioff()\n",
        "plt.show()"
      ],
      "metadata": {
        "colab": {
          "base_uri": "https://localhost:8080/",
          "height": 742
        },
        "id": "InpuFSkTVMOC",
        "outputId": "85e19285-ad6a-43fd-c9b0-c074abf6eed6"
      },
      "execution_count": 79,
      "outputs": [
        {
          "output_type": "stream",
          "name": "stdout",
          "text": [
            "Building the style transfer model..\n",
            "Optimizing..\n"
          ]
        },
        {
          "output_type": "stream",
          "name": "stderr",
          "text": [
            "<ipython-input-17-30ad8c495860>:54: UserWarning: To copy construct from a tensor, it is recommended to use sourceTensor.clone().detach() or sourceTensor.clone().detach().requires_grad_(True), rather than torch.tensor(sourceTensor).\n",
            "  self.mean = th.tensor(mean).view(-1, 1, 1)\n",
            "<ipython-input-17-30ad8c495860>:55: UserWarning: To copy construct from a tensor, it is recommended to use sourceTensor.clone().detach() or sourceTensor.clone().detach().requires_grad_(True), rather than torch.tensor(sourceTensor).\n",
            "  self.std = th.tensor(std).view(-1, 1, 1)\n"
          ]
        },
        {
          "output_type": "stream",
          "name": "stdout",
          "text": [
            "run [50]:\n",
            "Style Loss : 1.996714 Content Loss: 13.114389\n",
            "\n",
            "run [100]:\n",
            "Style Loss : 1.751675 Content Loss: 12.880745\n",
            "\n",
            "run [150]:\n",
            "Style Loss : 1.477502 Content Loss: 12.709816\n",
            "\n",
            "run [200]:\n",
            "Style Loss : 1.258037 Content Loss: 12.591809\n",
            "\n",
            "run [250]:\n",
            "Style Loss : 1.134897 Content Loss: 12.484892\n",
            "\n",
            "run [300]:\n",
            "Style Loss : 1.026136 Content Loss: 12.403127\n",
            "\n"
          ]
        },
        {
          "output_type": "display_data",
          "data": {
            "text/plain": [
              "<Figure size 432x288 with 1 Axes>"
            ],
            "image/png": "[encoded data removed]"
          },
          "metadata": {
            "needs_background": "light"
          }
        }
      ]
    }
  ]
}